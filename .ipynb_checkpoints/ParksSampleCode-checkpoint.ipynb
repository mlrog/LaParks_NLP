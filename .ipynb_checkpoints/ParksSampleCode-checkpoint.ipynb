{
 "cells": [
  {
   "cell_type": "markdown",
   "id": "antique-marina",
   "metadata": {},
   "source": [
    "Step 1: Link to API\n",
    "Step 2: Explore one park (look at tags) - webscraping \n",
    "Step 3: NLP\n",
    "\n",
    "Link to flickrapi package:\n",
    "https://stuvel.eu/software/flickrapi/"
   ]
  },
  {
   "cell_type": "markdown",
   "id": "endangered-master",
   "metadata": {},
   "source": [
    "Morgan's work area"
   ]
  },
  {
   "cell_type": "code",
   "execution_count": 7,
   "id": "dutch-thailand",
   "metadata": {},
   "outputs": [
    {
     "name": "stdout",
     "output_type": "stream",
     "text": [
      "Collecting flickrapi\n",
      "  Downloading flickrapi-2.4.0-py2.py3-none-any.whl (26 kB)\n",
      "Requirement already satisfied: six>=1.5.2 in /Users/morganrogers/opt/anaconda3/envs/UP229/lib/python3.7/site-packages (from flickrapi) (1.15.0)\n",
      "Requirement already satisfied: requests>=2.2.1 in /Users/morganrogers/opt/anaconda3/envs/UP229/lib/python3.7/site-packages (from flickrapi) (2.25.1)\n",
      "Requirement already satisfied: requests-oauthlib>=0.4.0 in /Users/morganrogers/opt/anaconda3/envs/UP229/lib/python3.7/site-packages (from flickrapi) (1.3.0)\n",
      "Collecting requests-toolbelt>=0.3.1\n",
      "  Downloading requests_toolbelt-0.9.1-py2.py3-none-any.whl (54 kB)\n",
      "\u001b[K     |████████████████████████████████| 54 kB 4.4 MB/s eta 0:00:011\n",
      "\u001b[?25hRequirement already satisfied: idna<3,>=2.5 in /Users/morganrogers/opt/anaconda3/envs/UP229/lib/python3.7/site-packages (from requests>=2.2.1->flickrapi) (2.10)\n",
      "Requirement already satisfied: urllib3<1.27,>=1.21.1 in /Users/morganrogers/opt/anaconda3/envs/UP229/lib/python3.7/site-packages (from requests>=2.2.1->flickrapi) (1.26.4)\n",
      "Requirement already satisfied: certifi>=2017.4.17 in /Users/morganrogers/opt/anaconda3/envs/UP229/lib/python3.7/site-packages (from requests>=2.2.1->flickrapi) (2020.12.5)\n",
      "Requirement already satisfied: chardet<5,>=3.0.2 in /Users/morganrogers/opt/anaconda3/envs/UP229/lib/python3.7/site-packages (from requests>=2.2.1->flickrapi) (4.0.0)\n",
      "Requirement already satisfied: oauthlib>=3.0.0 in /Users/morganrogers/opt/anaconda3/envs/UP229/lib/python3.7/site-packages (from requests-oauthlib>=0.4.0->flickrapi) (3.0.1)\n",
      "Installing collected packages: requests-toolbelt, flickrapi\n",
      "Successfully installed flickrapi-2.4.0 requests-toolbelt-0.9.1\n",
      "Note: you may need to restart the kernel to use updated packages.\n"
     ]
    }
   ],
   "source": [
    "#install flickrapi\n",
    "pip install flickrapi"
   ]
  },
  {
   "cell_type": "code",
   "execution_count": 22,
   "id": "continuing-ghana",
   "metadata": {},
   "outputs": [],
   "source": [
    "#calling API function\n",
    "\n",
    "import flickrapi\n",
    "import json\n",
    "\n",
    "api_key = u'356c3b8530e59f84095a0afc0da1414d'\n",
    "api_secret = u'b51150d99cc64044'\n",
    "\n",
    "#flickr = flickrapi.FlickrAPI(api_key, api_secret)\n",
    "#for json format\n",
    "flickr = flickrapi.FlickrAPI(api_key, api_secret, format='parsed-json')"
   ]
  },
  {
   "cell_type": "code",
   "execution_count": 32,
   "id": "adaptive-carpet",
   "metadata": {},
   "outputs": [
    {
     "ename": "FlickrError",
     "evalue": "Error: 1: Required parameter missing",
     "output_type": "error",
     "traceback": [
      "\u001b[0;31m---------------------------------------------------------------------------\u001b[0m",
      "\u001b[0;31mFlickrError\u001b[0m                               Traceback (most recent call last)",
      "\u001b[0;32m<ipython-input-32-5689416912a6>\u001b[0m in \u001b[0;36m<module>\u001b[0;34m\u001b[0m\n\u001b[1;32m      8\u001b[0m \u001b[0;31m#trying park name\u001b[0m\u001b[0;34m\u001b[0m\u001b[0;34m\u001b[0m\u001b[0;34m\u001b[0m\u001b[0m\n\u001b[1;32m      9\u001b[0m \u001b[0;34m\u001b[0m\u001b[0m\n\u001b[0;32m---> 10\u001b[0;31m \u001b[0mplace\u001b[0m\u001b[0;34m=\u001b[0m\u001b[0mflickr\u001b[0m\u001b[0;34m.\u001b[0m\u001b[0mplaces\u001b[0m\u001b[0;34m.\u001b[0m\u001b[0mfind\u001b[0m\u001b[0;34m(\u001b[0m\u001b[0mplace_id\u001b[0m\u001b[0;34m=\u001b[0m\u001b[0;34m\"Garfield Park\"\u001b[0m\u001b[0;34m,\u001b[0m \u001b[0mper_page\u001b[0m\u001b[0;34m=\u001b[0m\u001b[0;34m'10'\u001b[0m\u001b[0;34m)\u001b[0m\u001b[0;34m\u001b[0m\u001b[0;34m\u001b[0m\u001b[0m\n\u001b[0m\u001b[1;32m     11\u001b[0m \u001b[0;34m\u001b[0m\u001b[0m\n\u001b[1;32m     12\u001b[0m \u001b[0mhelp\u001b[0m\u001b[0;34m(\u001b[0m\u001b[0mflickr\u001b[0m\u001b[0;34m.\u001b[0m\u001b[0mplaces\u001b[0m\u001b[0;34m.\u001b[0m\u001b[0mtagsForPlace\u001b[0m\u001b[0;34m)\u001b[0m\u001b[0;34m\u001b[0m\u001b[0;34m\u001b[0m\u001b[0m\n",
      "\u001b[0;32m~/opt/anaconda3/envs/UP229/lib/python3.7/site-packages/flickrapi/call_builder.py\u001b[0m in \u001b[0;36m__call__\u001b[0;34m(self, **kwargs)\u001b[0m\n\u001b[1;32m     36\u001b[0m \u001b[0;34m\u001b[0m\u001b[0m\n\u001b[1;32m     37\u001b[0m     \u001b[0;32mdef\u001b[0m \u001b[0m__call__\u001b[0m\u001b[0;34m(\u001b[0m\u001b[0mself\u001b[0m\u001b[0;34m,\u001b[0m \u001b[0;34m**\u001b[0m\u001b[0mkwargs\u001b[0m\u001b[0;34m)\u001b[0m\u001b[0;34m:\u001b[0m\u001b[0;34m\u001b[0m\u001b[0;34m\u001b[0m\u001b[0m\n\u001b[0;32m---> 38\u001b[0;31m         \u001b[0;32mreturn\u001b[0m \u001b[0mself\u001b[0m\u001b[0;34m.\u001b[0m\u001b[0mflickrapi_object\u001b[0m\u001b[0;34m.\u001b[0m\u001b[0mdo_flickr_call\u001b[0m\u001b[0;34m(\u001b[0m\u001b[0mself\u001b[0m\u001b[0;34m.\u001b[0m\u001b[0mmethod_name\u001b[0m\u001b[0;34m,\u001b[0m \u001b[0;34m**\u001b[0m\u001b[0mkwargs\u001b[0m\u001b[0;34m)\u001b[0m\u001b[0;34m\u001b[0m\u001b[0;34m\u001b[0m\u001b[0m\n\u001b[0m\u001b[1;32m     39\u001b[0m \u001b[0;34m\u001b[0m\u001b[0m\n\u001b[1;32m     40\u001b[0m \u001b[0;32mif\u001b[0m \u001b[0m__name__\u001b[0m \u001b[0;34m==\u001b[0m \u001b[0;34m'__main__'\u001b[0m\u001b[0;34m:\u001b[0m\u001b[0;34m\u001b[0m\u001b[0;34m\u001b[0m\u001b[0m\n",
      "\u001b[0;32m~/opt/anaconda3/envs/UP229/lib/python3.7/site-packages/flickrapi/core.py\u001b[0m in \u001b[0;36mdo_flickr_call\u001b[0;34m(self, _method_name, timeout, **kwargs)\u001b[0m\n\u001b[1;32m    335\u001b[0m                                     \u001b[0mparse_format\u001b[0m\u001b[0;34m=\u001b[0m\u001b[0mparams\u001b[0m\u001b[0;34m[\u001b[0m\u001b[0;34m'format'\u001b[0m\u001b[0;34m]\u001b[0m\u001b[0;34m,\u001b[0m\u001b[0;34m\u001b[0m\u001b[0;34m\u001b[0m\u001b[0m\n\u001b[1;32m    336\u001b[0m                                     \u001b[0mtimeout\u001b[0m\u001b[0;34m=\u001b[0m\u001b[0mtimeout\u001b[0m\u001b[0;34m,\u001b[0m\u001b[0;34m\u001b[0m\u001b[0;34m\u001b[0m\u001b[0m\n\u001b[0;32m--> 337\u001b[0;31m                                     **params)\n\u001b[0m\u001b[1;32m    338\u001b[0m \u001b[0;34m\u001b[0m\u001b[0m\n\u001b[1;32m    339\u001b[0m     \u001b[0;32mdef\u001b[0m \u001b[0m_supply_defaults\u001b[0m\u001b[0;34m(\u001b[0m\u001b[0mself\u001b[0m\u001b[0;34m,\u001b[0m \u001b[0margs\u001b[0m\u001b[0;34m,\u001b[0m \u001b[0mdefaults\u001b[0m\u001b[0;34m)\u001b[0m\u001b[0;34m:\u001b[0m\u001b[0;34m\u001b[0m\u001b[0;34m\u001b[0m\u001b[0m\n",
      "\u001b[0;32m~/opt/anaconda3/envs/UP229/lib/python3.7/site-packages/flickrapi/core.py\u001b[0m in \u001b[0;36m_wrap_in_parser\u001b[0;34m(self, wrapped_method, parse_format, *args, **kwargs)\u001b[0m\n\u001b[1;32m    405\u001b[0m         \u001b[0;31m# Return the parsed data\u001b[0m\u001b[0;34m\u001b[0m\u001b[0;34m\u001b[0m\u001b[0;34m\u001b[0m\u001b[0m\n\u001b[1;32m    406\u001b[0m         \u001b[0mparser\u001b[0m \u001b[0;34m=\u001b[0m \u001b[0mrest_parsers\u001b[0m\u001b[0;34m[\u001b[0m\u001b[0mparse_format\u001b[0m\u001b[0;34m]\u001b[0m\u001b[0;34m[\u001b[0m\u001b[0;36m0\u001b[0m\u001b[0;34m]\u001b[0m\u001b[0;34m\u001b[0m\u001b[0;34m\u001b[0m\u001b[0m\n\u001b[0;32m--> 407\u001b[0;31m         \u001b[0;32mreturn\u001b[0m \u001b[0mparser\u001b[0m\u001b[0;34m(\u001b[0m\u001b[0mself\u001b[0m\u001b[0;34m,\u001b[0m \u001b[0mdata\u001b[0m\u001b[0;34m)\u001b[0m\u001b[0;34m\u001b[0m\u001b[0;34m\u001b[0m\u001b[0m\n\u001b[0m\u001b[1;32m    408\u001b[0m \u001b[0;34m\u001b[0m\u001b[0m\n\u001b[1;32m    409\u001b[0m     \u001b[0;32mdef\u001b[0m \u001b[0m_extract_upload_response_format\u001b[0m\u001b[0;34m(\u001b[0m\u001b[0mself\u001b[0m\u001b[0;34m,\u001b[0m \u001b[0mkwargs\u001b[0m\u001b[0;34m)\u001b[0m\u001b[0;34m:\u001b[0m\u001b[0;34m\u001b[0m\u001b[0;34m\u001b[0m\u001b[0m\n",
      "\u001b[0;32m~/opt/anaconda3/envs/UP229/lib/python3.7/site-packages/flickrapi/core.py\u001b[0m in \u001b[0;36mparse_json\u001b[0;34m(self, json_string)\u001b[0m\n\u001b[1;32m    260\u001b[0m         \u001b[0;32mif\u001b[0m \u001b[0mparsed\u001b[0m\u001b[0;34m.\u001b[0m\u001b[0mget\u001b[0m\u001b[0;34m(\u001b[0m\u001b[0;34m'stat'\u001b[0m\u001b[0;34m,\u001b[0m \u001b[0;34m''\u001b[0m\u001b[0;34m)\u001b[0m \u001b[0;34m==\u001b[0m \u001b[0;34m'fail'\u001b[0m\u001b[0;34m:\u001b[0m\u001b[0;34m\u001b[0m\u001b[0;34m\u001b[0m\u001b[0m\n\u001b[1;32m    261\u001b[0m             raise FlickrError(six.u('Error: %(code)s: %(message)s') % parsed,\n\u001b[0;32m--> 262\u001b[0;31m                               code=parsed['code'])\n\u001b[0m\u001b[1;32m    263\u001b[0m         \u001b[0;32mreturn\u001b[0m \u001b[0mparsed\u001b[0m\u001b[0;34m\u001b[0m\u001b[0;34m\u001b[0m\u001b[0m\n\u001b[1;32m    264\u001b[0m \u001b[0;34m\u001b[0m\u001b[0m\n",
      "\u001b[0;31mFlickrError\u001b[0m: Error: 1: Required parameter missing"
     ]
    }
   ],
   "source": [
    "# finding the park to call it with the api\n",
    "# https://stackoverflow.com/questions/6474427/using-flickr-api-to-search-photos-by-location-or-language#:~:text=find%20%3A%20http%3A%2F%2Fwww.flickr,optional%20place_id%20or%20WOE%20id.\n",
    "# https://www.flickr.com/services/api/flickr.places.find.html\n",
    "\n",
    "#address for Garfield park\n",
    "flickr.places.find(query=\"1000 Park Ave, South Pasadena, CA 91030\")\n",
    "\n",
    "#trying park name\n",
    "\n",
    "#place=flickr.places.find(place_id=\"Garfield Park\")\n",
    "\n",
    "help(flickr.places.tagsForPlace)\n",
    "help(flickr.places)"
   ]
  },
  {
   "cell_type": "markdown",
   "id": "proprietary-regression",
   "metadata": {},
   "source": [
    "Ellie's work area"
   ]
  },
  {
   "cell_type": "code",
   "execution_count": null,
   "id": "western-conditioning",
   "metadata": {},
   "outputs": [],
   "source": []
  },
  {
   "cell_type": "code",
   "execution_count": null,
   "id": "sonic-frame",
   "metadata": {},
   "outputs": [],
   "source": []
  },
  {
   "cell_type": "code",
   "execution_count": null,
   "id": "artistic-penguin",
   "metadata": {},
   "outputs": [],
   "source": []
  },
  {
   "cell_type": "markdown",
   "id": "nutritional-broadcasting",
   "metadata": {},
   "source": [
    "Jacqueline's work area "
   ]
  },
  {
   "cell_type": "code",
   "execution_count": null,
   "id": "front-spell",
   "metadata": {},
   "outputs": [],
   "source": []
  },
  {
   "cell_type": "code",
   "execution_count": null,
   "id": "eight-portuguese",
   "metadata": {},
   "outputs": [],
   "source": []
  },
  {
   "cell_type": "code",
   "execution_count": null,
   "id": "complete-therapy",
   "metadata": {},
   "outputs": [],
   "source": []
  }
 ],
 "metadata": {
  "kernelspec": {
   "display_name": "Python 3",
   "language": "python",
   "name": "python3"
  },
  "language_info": {
   "codemirror_mode": {
    "name": "ipython",
    "version": 3
   },
   "file_extension": ".py",
   "mimetype": "text/x-python",
   "name": "python",
   "nbconvert_exporter": "python",
   "pygments_lexer": "ipython3",
   "version": "3.7.7"
  }
 },
 "nbformat": 4,
 "nbformat_minor": 5
}
