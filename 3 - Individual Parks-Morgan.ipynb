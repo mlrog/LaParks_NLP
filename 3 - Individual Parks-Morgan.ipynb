{
 "cells": [
  {
   "cell_type": "markdown",
   "metadata": {},
   "source": [
    "# Notebook 3: Individual Parks"
   ]
  },
  {
   "cell_type": "code",
   "execution_count": 1,
   "metadata": {},
   "outputs": [
    {
     "data": {
      "text/html": [
       "<div>\n",
       "<style scoped>\n",
       "    .dataframe tbody tr th:only-of-type {\n",
       "        vertical-align: middle;\n",
       "    }\n",
       "\n",
       "    .dataframe tbody tr th {\n",
       "        vertical-align: top;\n",
       "    }\n",
       "\n",
       "    .dataframe thead th {\n",
       "        text-align: right;\n",
       "    }\n",
       "</style>\n",
       "<table border=\"1\" class=\"dataframe\">\n",
       "  <thead>\n",
       "    <tr style=\"text-align: right;\">\n",
       "      <th></th>\n",
       "      <th>id</th>\n",
       "      <th>owner</th>\n",
       "      <th>secret</th>\n",
       "      <th>server</th>\n",
       "      <th>farm</th>\n",
       "      <th>title</th>\n",
       "      <th>ispublic</th>\n",
       "      <th>isfriend</th>\n",
       "      <th>isfamily</th>\n",
       "      <th>description</th>\n",
       "      <th>...</th>\n",
       "      <th>longitude</th>\n",
       "      <th>accuracy</th>\n",
       "      <th>context</th>\n",
       "      <th>place_id</th>\n",
       "      <th>woeid</th>\n",
       "      <th>geo_is_public</th>\n",
       "      <th>geo_is_contact</th>\n",
       "      <th>geo_is_friend</th>\n",
       "      <th>geo_is_family</th>\n",
       "      <th>parkname</th>\n",
       "    </tr>\n",
       "  </thead>\n",
       "  <tbody>\n",
       "    <tr>\n",
       "      <th>0</th>\n",
       "      <td>50952829406</td>\n",
       "      <td>77318907@N08</td>\n",
       "      <td>6fe5b8ef3a</td>\n",
       "      <td>65535</td>\n",
       "      <td>66</td>\n",
       "      <td>Angel's Gate Cloudscape</td>\n",
       "      <td>1</td>\n",
       "      <td>0</td>\n",
       "      <td>0</td>\n",
       "      <td>{'_content': 'San Pedro, CA\\n01-02-21'}</td>\n",
       "      <td>...</td>\n",
       "      <td>-118.271759</td>\n",
       "      <td>16</td>\n",
       "      <td>0</td>\n",
       "      <td>NaN</td>\n",
       "      <td>5392528.0</td>\n",
       "      <td>1</td>\n",
       "      <td>0</td>\n",
       "      <td>0</td>\n",
       "      <td>0</td>\n",
       "      <td>angelsgate</td>\n",
       "    </tr>\n",
       "    <tr>\n",
       "      <th>1</th>\n",
       "      <td>50952896937</td>\n",
       "      <td>77318907@N08</td>\n",
       "      <td>ebe224b984</td>\n",
       "      <td>65535</td>\n",
       "      <td>66</td>\n",
       "      <td>Harbor Entrance at Sunrise</td>\n",
       "      <td>1</td>\n",
       "      <td>0</td>\n",
       "      <td>0</td>\n",
       "      <td>{'_content': \"The Angel's Gate in San Pedro, C...</td>\n",
       "      <td>...</td>\n",
       "      <td>-118.271791</td>\n",
       "      <td>16</td>\n",
       "      <td>0</td>\n",
       "      <td>NaN</td>\n",
       "      <td>5392528.0</td>\n",
       "      <td>1</td>\n",
       "      <td>0</td>\n",
       "      <td>0</td>\n",
       "      <td>0</td>\n",
       "      <td>angelsgate</td>\n",
       "    </tr>\n",
       "    <tr>\n",
       "      <th>2</th>\n",
       "      <td>50292619641</td>\n",
       "      <td>66115413@N07</td>\n",
       "      <td>11c1a5bb33</td>\n",
       "      <td>65535</td>\n",
       "      <td>66</td>\n",
       "      <td>Never come here at night</td>\n",
       "      <td>1</td>\n",
       "      <td>0</td>\n",
       "      <td>0</td>\n",
       "      <td>{'_content': 'La Brea Tar Pits\\nLos Angeles'}</td>\n",
       "      <td>...</td>\n",
       "      <td>-118.357064</td>\n",
       "      <td>15</td>\n",
       "      <td>0</td>\n",
       "      <td>NaN</td>\n",
       "      <td>5381273.0</td>\n",
       "      <td>1</td>\n",
       "      <td>0</td>\n",
       "      <td>0</td>\n",
       "      <td>0</td>\n",
       "      <td>hancockpark</td>\n",
       "    </tr>\n",
       "    <tr>\n",
       "      <th>3</th>\n",
       "      <td>50220027608</td>\n",
       "      <td>66115413@N07</td>\n",
       "      <td>a917301efa</td>\n",
       "      <td>65535</td>\n",
       "      <td>66</td>\n",
       "      <td>Quarantined Sloths</td>\n",
       "      <td>1</td>\n",
       "      <td>0</td>\n",
       "      <td>0</td>\n",
       "      <td>{'_content': 'La Brea Tar Pits / Hancok Park'}</td>\n",
       "      <td>...</td>\n",
       "      <td>-118.357150</td>\n",
       "      <td>16</td>\n",
       "      <td>0</td>\n",
       "      <td>NaN</td>\n",
       "      <td>5381273.0</td>\n",
       "      <td>1</td>\n",
       "      <td>0</td>\n",
       "      <td>0</td>\n",
       "      <td>0</td>\n",
       "      <td>hancockpark</td>\n",
       "    </tr>\n",
       "    <tr>\n",
       "      <th>4</th>\n",
       "      <td>49861807202</td>\n",
       "      <td>22316914@N06</td>\n",
       "      <td>ccec045e20</td>\n",
       "      <td>65535</td>\n",
       "      <td>66</td>\n",
       "      <td>Subway</td>\n",
       "      <td>1</td>\n",
       "      <td>0</td>\n",
       "      <td>0</td>\n",
       "      <td>{'_content': 'Westlake / MacArthur Park metro ...</td>\n",
       "      <td>...</td>\n",
       "      <td>-118.274167</td>\n",
       "      <td>16</td>\n",
       "      <td>0</td>\n",
       "      <td>NaN</td>\n",
       "      <td>8062690.0</td>\n",
       "      <td>1</td>\n",
       "      <td>0</td>\n",
       "      <td>0</td>\n",
       "      <td>0</td>\n",
       "      <td>macarthur</td>\n",
       "    </tr>\n",
       "  </tbody>\n",
       "</table>\n",
       "<p>5 rows × 22 columns</p>\n",
       "</div>"
      ],
      "text/plain": [
       "            id         owner      secret  server  farm  \\\n",
       "0  50952829406  77318907@N08  6fe5b8ef3a   65535    66   \n",
       "1  50952896937  77318907@N08  ebe224b984   65535    66   \n",
       "2  50292619641  66115413@N07  11c1a5bb33   65535    66   \n",
       "3  50220027608  66115413@N07  a917301efa   65535    66   \n",
       "4  49861807202  22316914@N06  ccec045e20   65535    66   \n",
       "\n",
       "                        title  ispublic  isfriend  isfamily  \\\n",
       "0     Angel's Gate Cloudscape         1         0         0   \n",
       "1  Harbor Entrance at Sunrise         1         0         0   \n",
       "2    Never come here at night         1         0         0   \n",
       "3          Quarantined Sloths         1         0         0   \n",
       "4                      Subway         1         0         0   \n",
       "\n",
       "                                         description  ...   longitude  \\\n",
       "0            {'_content': 'San Pedro, CA\\n01-02-21'}  ... -118.271759   \n",
       "1  {'_content': \"The Angel's Gate in San Pedro, C...  ... -118.271791   \n",
       "2      {'_content': 'La Brea Tar Pits\\nLos Angeles'}  ... -118.357064   \n",
       "3     {'_content': 'La Brea Tar Pits / Hancok Park'}  ... -118.357150   \n",
       "4  {'_content': 'Westlake / MacArthur Park metro ...  ... -118.274167   \n",
       "\n",
       "   accuracy  context  place_id      woeid geo_is_public  geo_is_contact  \\\n",
       "0        16        0       NaN  5392528.0             1               0   \n",
       "1        16        0       NaN  5392528.0             1               0   \n",
       "2        15        0       NaN  5381273.0             1               0   \n",
       "3        16        0       NaN  5381273.0             1               0   \n",
       "4        16        0       NaN  8062690.0             1               0   \n",
       "\n",
       "   geo_is_friend  geo_is_family     parkname  \n",
       "0              0              0   angelsgate  \n",
       "1              0              0   angelsgate  \n",
       "2              0              0  hancockpark  \n",
       "3              0              0  hancockpark  \n",
       "4              0              0    macarthur  \n",
       "\n",
       "[5 rows x 22 columns]"
      ]
     },
     "execution_count": 1,
     "metadata": {},
     "output_type": "execute_result"
    }
   ],
   "source": [
    "#importing parks csv\n",
    "import pandas as pd\n",
    "\n",
    "# You might need to add a path as well\n",
    "fn = 'parks_data.csv'\n",
    "parks_data = pd.read_csv(fn)\n",
    "parks_data.head()"
   ]
  },
  {
   "cell_type": "code",
   "execution_count": 7,
   "metadata": {},
   "outputs": [],
   "source": [
    "import nltk\n",
    "import re\n",
    "from nltk.tokenize import word_tokenize, sent_tokenize\n",
    "from nltk.corpus import stopwords\n",
    "\n",
    "swords = [re.sub(r\"[^A-z\\s]\", \"\", sword) for sword in stopwords.words('english')]\n",
    "swords += ['losangeles', 'la', 'losangelesca', 'ca', 'macarthur', 'macarthurpark', 'woodley', 'riodelosangeles', 'runyoncanyon', \n",
    "           'temescalgateway', 'heidelbergpark', 'hancockpark', 'franklincanyonpark', 'franklincanyonpark', 'angelsgate', \n",
    "           'coldwatercanyon', 'chatsworthparksouth','cheviothills', 'california', 'usa', 'southerncalifornia', 'park', 'parklabrea', \n",
    "          'unitedstates', 'america']\n",
    "\n",
    "def clean_string(text):\n",
    "    # remove punctuation\n",
    "    text = re.sub(r\"[^A-z\\s]\", \"\", text)\n",
    "    \n",
    "    cleaned_list_of_words = [word for word in word_tokenize(text.lower()) if word not in swords] #return a string or apply to all tags\n",
    "    \n",
    "    return cleaned_list_of_words\n",
    "\n",
    "#calling the function to only apply to the tags column \n",
    "parks_data['tags'] = parks_data['tags'].apply(clean_string)\n"
   ]
  },
  {
   "cell_type": "code",
   "execution_count": 16,
   "metadata": {},
   "outputs": [
    {
     "data": {
      "text/plain": [
       "array(['angelsgate', 'hancockpark', 'macarthur', 'runyoncanyon',\n",
       "       'chatsworthparksouth', 'franklincanyonpark', 'cheviothills',\n",
       "       'coldwatercanyon', 'temescalgateway', 'riodelosangeles', 'Unknown',\n",
       "       'woodley', 'heidelbergpark'], dtype=object)"
      ]
     },
     "execution_count": 16,
     "metadata": {},
     "output_type": "execute_result"
    }
   ],
   "source": [
    "parks_data\n",
    "parks_data.parkname.unique()"
   ]
  },
  {
   "cell_type": "markdown",
   "metadata": {},
   "source": [
    "### MacArthur Park"
   ]
  },
  {
   "cell_type": "code",
   "execution_count": 9,
   "metadata": {},
   "outputs": [
    {
     "data": {
      "text/plain": [
       "0    False\n",
       "1    False\n",
       "2    False\n",
       "3    False\n",
       "4     True\n",
       "Name: parkname, dtype: bool"
      ]
     },
     "execution_count": 9,
     "metadata": {},
     "output_type": "execute_result"
    }
   ],
   "source": [
    "#Need to figure out how to filter by parkname and retain the tags info by photo\n",
    "macarthur = parks_data['parkname']=='macarthur'\n",
    "macarthur.head()"
   ]
  },
  {
   "cell_type": "code",
   "execution_count": 14,
   "metadata": {},
   "outputs": [
    {
     "data": {
      "text/plain": [
       "array(['macarthur'], dtype=object)"
      ]
     },
     "execution_count": 14,
     "metadata": {},
     "output_type": "execute_result"
    }
   ],
   "source": [
    "macarthur_tags = parks_data[macarthur]\n",
    "print(macarthur_tags)\n",
    "macarthur_tags.parkname.unique()"
   ]
  },
  {
   "cell_type": "code",
   "execution_count": 19,
   "metadata": {},
   "outputs": [],
   "source": [
    "cols = ['tags', 'parkname']\n",
    "tag_park = macarthur_tags[cols].explode('tags', ignore_index=True)"
   ]
  },
  {
   "cell_type": "code",
   "execution_count": 20,
   "metadata": {},
   "outputs": [
    {
     "name": "stdout",
     "output_type": "stream",
     "text": [
      "                     value\n",
      "tags                      \n",
      "westlake               173\n",
      "lake                    89\n",
      "ciclavia                68\n",
      "fountain                64\n",
      "palmtrees               61\n",
      "rally                   53\n",
      "architecture            49\n",
      "socal                   45\n",
      "urban                   44\n",
      "buildings               43\n",
      "palms                   41\n",
      "grand                   41\n",
      "neighborhood            41\n",
      "community               41\n",
      "dtla                    39\n",
      "mexican                 38\n",
      "picounion               37\n",
      "protest                 37\n",
      "downtownlosangeles      37\n",
      "lengua                  36\n",
      "keepfamliestogethor     36\n",
      "tamale                  36\n",
      "asada                   36\n",
      "alpastor                36\n",
      "march                   36\n",
      "migrant                 36\n",
      "carnitas                36\n",
      "eltaurino               36\n",
      "burrito                 36\n",
      "familyseparations       36\n",
      "thegreattacohunt        36\n",
      "detetioncenter          36\n",
      "immigration             36\n",
      "hcm                     35\n",
      "landmark                34\n",
      "sparkview               32\n",
      "lodge                   32\n",
      "monument                32\n",
      "elks                    32\n",
      "parkplaza               32\n",
      "heartofla               31\n",
      "lasantacon              30\n",
      "art                     29\n",
      "city                    28\n",
      "music                   27\n",
      "colorful                25\n",
      "curlettandbeelman       24\n",
      "portraitsofhope         24\n",
      "publicart               23\n",
      "people                  23\n",
      "bikes                   22\n",
      "balls                   22\n",
      "wilshireboulevard       21\n",
      "signs                   20\n",
      "tacos                   19\n",
      "fear                    17\n",
      "sanity                  17\n",
      "sign                    17\n",
      "acos                    17\n",
      "downtown                16\n",
      "fortmacarthur           16\n",
      "sanpedro                16\n",
      "warreinactment          15\n",
      "lilihaydn               15\n",
      "bicycles                15\n",
      "violin                  15\n",
      "burns                   15\n",
      "live                    15\n",
      "levittpavilion          15\n",
      "birds                   15\n",
      "photo                   14\n",
      "street                  13\n",
      "food                    13\n",
      "ciclovia                13\n",
      "wilshire                13\n",
      "restaurant              13\n",
      "location                12\n",
      "doslobos                12\n",
      "langersdeli             12\n",
      "colombia                12\n",
      "costumes                12\n",
      "filming                 12\n",
      "normlanger              12\n",
      "costume                 12\n",
      "event                   12\n",
      "loslobos                12\n",
      "palmtree                12\n",
      "hollywood               12\n",
      "lainstitution           12\n",
      "bogota                  12\n",
      "interior                12\n",
      "cosplay                 11\n",
      "losangelescounty        11\n",
      "streets                 11\n",
      "westlaketheatre         11\n",
      "metro                   11\n",
      "building                11\n",
      "bicyclists              11\n",
      "geotagged               11\n",
      "redline                 10\n"
     ]
    }
   ],
   "source": [
    "#create a column with count of each tag \n",
    "tag_park['value'] = [1] * tag_park.shape[0]\n",
    "\n",
    "#return top 100 most used tags sorted by value\n",
    "top_100_tags = tag_park.groupby('tags').sum().sort_values('value', ascending=False).head(100)\n",
    "\n",
    "#so we can view all tags\n",
    "pd.set_option('display.max_rows', 100)\n",
    "\n",
    "print(top_100_tags)"
   ]
  },
  {
   "cell_type": "code",
   "execution_count": 21,
   "metadata": {},
   "outputs": [],
   "source": [
    "# exporting top 100 tags to a csv for hand coding \n",
    "top_100_tags.to_csv('top_tags_macarthur.csv', index=True)"
   ]
  },
  {
   "cell_type": "markdown",
   "metadata": {},
   "source": [
    "### Woodley Park\n"
   ]
  },
  {
   "cell_type": "code",
   "execution_count": 22,
   "metadata": {},
   "outputs": [
    {
     "data": {
      "text/plain": [
       "0    False\n",
       "1    False\n",
       "2    False\n",
       "3    False\n",
       "4    False\n",
       "Name: parkname, dtype: bool"
      ]
     },
     "execution_count": 22,
     "metadata": {},
     "output_type": "execute_result"
    }
   ],
   "source": [
    "#Need to figure out how to filter by parkname and retain the tags info by photo\n",
    "woodley = parks_data['parkname']=='woodley'\n",
    "woodley.head()"
   ]
  },
  {
   "cell_type": "code",
   "execution_count": 23,
   "metadata": {},
   "outputs": [
    {
     "name": "stdout",
     "output_type": "stream",
     "text": [
      "              id         owner      secret  server  farm                title  \\\n",
      "1545  4559969340  33886308@N03  221588da16    3510     4    Pied-billed grebe   \n",
      "1546  4559339861  33886308@N03  20b62e3be1    3397     4         Fox squirrel   \n",
      "1759  4321724121  33886308@N03  8b9aaccfee    2758     3   Anna's Hummingbird   \n",
      "1760  4321723815  33886308@N03  aa7c7fe6d3    4007     5     Friendly Mallard   \n",
      "1836  4322459066  33886308@N03  15fb7a9db9    2797     3  Prehistoric pelican   \n",
      "\n",
      "      ispublic  isfriend  isfamily  \\\n",
      "1545         1         0         0   \n",
      "1546         1         0         0   \n",
      "1759         1         0         0   \n",
      "1760         1         0         0   \n",
      "1836         1         0         0   \n",
      "\n",
      "                                            description  ...   longitude  \\\n",
      "1545  {'_content': \"I've gotten a lot of bad picture...  ... -118.472571   \n",
      "1546  {'_content': \"Most of the squirrels were shy, ...  ... -118.473494   \n",
      "1759  {'_content': 'There were several of these arou...  ... -118.473601   \n",
      "1760  {'_content': \"He obligingly wandered over to m...  ... -118.472850   \n",
      "1836  {'_content': \"He was standing on a grassy patc...  ... -118.470876   \n",
      "\n",
      "      accuracy  context            place_id       woeid geo_is_public  \\\n",
      "1545        16        0  23UlpElTUb.8mg5Gdg  23512000.0             1   \n",
      "1546        16        0  mZ6H7v5UV7MbAAs3ZA  55971866.0             1   \n",
      "1759        16        0  23UlpElTUb.8mg5Gdg  23512000.0             1   \n",
      "1760        16        0  23UlpElTUb.8mg5Gdg  23512000.0             1   \n",
      "1836        16        0  23UlpElTUb.8mg5Gdg  23512000.0             1   \n",
      "\n",
      "      geo_is_contact  geo_is_friend  geo_is_family  parkname  \n",
      "1545               0              0              0   woodley  \n",
      "1546               0              0              0   woodley  \n",
      "1759               0              0              0   woodley  \n",
      "1760               0              0              0   woodley  \n",
      "1836               0              0              0   woodley  \n",
      "\n",
      "[5 rows x 22 columns]\n"
     ]
    },
    {
     "data": {
      "text/plain": [
       "array(['woodley'], dtype=object)"
      ]
     },
     "execution_count": 23,
     "metadata": {},
     "output_type": "execute_result"
    }
   ],
   "source": [
    "woodley_tags = parks_data[woodley]\n",
    "print(woodley_tags)\n",
    "woodley_tags.parkname.unique()"
   ]
  },
  {
   "cell_type": "code",
   "execution_count": 24,
   "metadata": {},
   "outputs": [],
   "source": [
    "cols = ['tags', 'parkname']\n",
    "tag_park = woodley_tags[cols].explode('tags', ignore_index=True)"
   ]
  },
  {
   "cell_type": "code",
   "execution_count": 25,
   "metadata": {},
   "outputs": [
    {
     "name": "stdout",
     "output_type": "stream",
     "text": [
      "                   value\n",
      "tags                    \n",
      "sepulvedadam           5\n",
      "woodleyavenuepark      5\n",
      "bird                   4\n",
      "vannuys                3\n",
      "annashumingbird        1\n",
      "brownpelican           1\n",
      "duck                   1\n",
      "foxsquirrel            1\n",
      "grebe                  1\n",
      "hummingbird            1\n",
      "mallard                1\n",
      "pelican                1\n",
      "piedbilledgrebe        1\n",
      "shorebird              1\n",
      "squirrel               1\n"
     ]
    }
   ],
   "source": [
    "#create a column with count of each tag \n",
    "tag_park['value'] = [1] * tag_park.shape[0]\n",
    "\n",
    "#return top 100 most used tags sorted by value\n",
    "top_100_tags = tag_park.groupby('tags').sum().sort_values('value', ascending=False).head(100)\n",
    "\n",
    "#so we can view all tags\n",
    "pd.set_option('display.max_rows', 100)\n",
    "\n",
    "print(top_100_tags)"
   ]
  },
  {
   "cell_type": "code",
   "execution_count": 26,
   "metadata": {},
   "outputs": [],
   "source": [
    "# exporting top 100 tags to a csv for hand coding \n",
    "top_100_tags.to_csv('top_tags_woodley.csv', index=True)"
   ]
  },
  {
   "cell_type": "markdown",
   "metadata": {},
   "source": [
    "### Rio de Los Angeles"
   ]
  },
  {
   "cell_type": "code",
   "execution_count": 27,
   "metadata": {},
   "outputs": [
    {
     "data": {
      "text/plain": [
       "0    False\n",
       "1    False\n",
       "2    False\n",
       "3    False\n",
       "4    False\n",
       "Name: parkname, dtype: bool"
      ]
     },
     "execution_count": 27,
     "metadata": {},
     "output_type": "execute_result"
    }
   ],
   "source": [
    "#Need to figure out how to filter by parkname and retain the tags info by photo\n",
    "riodelosangeles = parks_data['parkname']=='riodelosangeles'\n",
    "riodelosangeles.head()"
   ]
  },
  {
   "cell_type": "code",
   "execution_count": 28,
   "metadata": {},
   "outputs": [
    {
     "name": "stdout",
     "output_type": "stream",
     "text": [
      "              id            owner      secret  server  farm  \\\n",
      "978   8695273748      8653475@N05  702dfc939e    8121     9   \n",
      "1305  5632712951      8653475@N05  dc10cc1b27    5265     6   \n",
      "1306  5633295762      8653475@N05  5958fc85af    5307     6   \n",
      "1307  5633295272      8653475@N05  f15d9ce5f0    5104     6   \n",
      "1308  5632711539      8653475@N05  cde073afeb    5190     6   \n",
      "1309  5632710989      8653475@N05  9d2b3d568d    5267     6   \n",
      "1310  5633293548      8653475@N05  7227413d1d    5265     6   \n",
      "1758  4427973434     90809455@N00  7d3ec9a6d8    4003     5   \n",
      "1772  4032546103     90809455@N00  461c604617    2766     3   \n",
      "1829  4407314265  37912374286@N01  26b90be1e7    4048     5   \n",
      "\n",
      "                                                  title  ispublic  isfriend  \\\n",
      "978   National Park Service, Anahuak Youth Sports As...         1         0   \n",
      "1305  Los Angeles State Historic Park Camp Out and R...         1         0   \n",
      "1306  Los Angeles State Historic Park Camp Out and R...         1         0   \n",
      "1307  Los Angeles State Historic Park Camp Out and R...         1         0   \n",
      "1308  Los Angeles State Historic Park Camp Out and R...         1         0   \n",
      "1309  Los Angeles State Historic Park Camp Out and R...         1         0   \n",
      "1310  Los Angeles State Historic Park Camp Out and R...         1         0   \n",
      "1758                                              Ducks         1         0   \n",
      "1772                      Rio de Los Angeles State Park         1         0   \n",
      "1829                                                Kai         1         0   \n",
      "\n",
      "      isfamily                                        description  ...  \\\n",
      "978          0  {'_content': 'David Szymanski, Superintendent,...  ...   \n",
      "1305         0  {'_content': 'Los Angeles State Historic Park ...  ...   \n",
      "1306         0  {'_content': 'Los Angeles State Historic Park ...  ...   \n",
      "1307         0  {'_content': 'George Magallanes and David McNe...  ...   \n",
      "1308         0  {'_content': 'Los Angeles State Historic Park ...  ...   \n",
      "1309         0  {'_content': 'Leaders from Anahauk Youth Sport...  ...   \n",
      "1310         0  {'_content': 'Los Angeles State Historic Park ...  ...   \n",
      "1758         0  {'_content': 'Spring at Rio de Los Angeles Sta...  ...   \n",
      "1772         0  {'_content': 'The L.A. Times did a story about...  ...   \n",
      "1829         0  {'_content': \"I took a bunch of pictures that ...  ...   \n",
      "\n",
      "       longitude  accuracy  context            place_id       woeid  \\\n",
      "978  -118.236976        16        0  LyhUaiJTUb9SQtoy.Q  23511994.0   \n",
      "1305 -118.231955        16        0    w8W7.ohTVr_TJMEe   2452349.0   \n",
      "1306 -118.231955        16        0    w8W7.ohTVr_TJMEe   2452349.0   \n",
      "1307 -118.231955        16        0    w8W7.ohTVr_TJMEe   2452349.0   \n",
      "1308 -118.231955        16        0    w8W7.ohTVr_TJMEe   2452349.0   \n",
      "1309 -118.227953        16        0                 NaN   2389908.0   \n",
      "1310 -118.246836        16        0  Kl6jo_pTWrnTXl36pw  28337802.0   \n",
      "1758 -118.240227        15        0  LyhUaiJTUb9SQtoy.Q  23511994.0   \n",
      "1772 -118.236000        15        0  LyhUaiJTUb9SQtoy.Q  23511994.0   \n",
      "1829 -118.236418        16        0  LyhUaiJTUb9SQtoy.Q  23511994.0   \n",
      "\n",
      "     geo_is_public  geo_is_contact  geo_is_friend  geo_is_family  \\\n",
      "978              1               0              0              0   \n",
      "1305             1               0              0              0   \n",
      "1306             1               0              0              0   \n",
      "1307             1               0              0              0   \n",
      "1308             1               0              0              0   \n",
      "1309             1               0              0              0   \n",
      "1310             1               0              0              0   \n",
      "1758             1               0              0              0   \n",
      "1772             1               0              0              0   \n",
      "1829             1               0              0              0   \n",
      "\n",
      "             parkname  \n",
      "978   riodelosangeles  \n",
      "1305  riodelosangeles  \n",
      "1306  riodelosangeles  \n",
      "1307  riodelosangeles  \n",
      "1308  riodelosangeles  \n",
      "1309  riodelosangeles  \n",
      "1310  riodelosangeles  \n",
      "1758  riodelosangeles  \n",
      "1772  riodelosangeles  \n",
      "1829  riodelosangeles  \n",
      "\n",
      "[10 rows x 22 columns]\n"
     ]
    },
    {
     "data": {
      "text/plain": [
       "array(['riodelosangeles'], dtype=object)"
      ]
     },
     "execution_count": 28,
     "metadata": {},
     "output_type": "execute_result"
    }
   ],
   "source": [
    "riodelosangeles_tags = parks_data[riodelosangeles]\n",
    "print(riodelosangeles_tags)\n",
    "riodelosangeles_tags.parkname.unique()"
   ]
  },
  {
   "cell_type": "code",
   "execution_count": 29,
   "metadata": {},
   "outputs": [],
   "source": [
    "cols = ['tags', 'parkname']\n",
    "tag_park = riodelosangeles_tags[cols].explode('tags', ignore_index=True)"
   ]
  },
  {
   "cell_type": "code",
   "execution_count": 30,
   "metadata": {},
   "outputs": [
    {
     "name": "stdout",
     "output_type": "stream",
     "text": [
      "                                            value\n",
      "tags                                             \n",
      "riodelosangelesstatepark                       10\n",
      "cityproject                                     7\n",
      "lariver                                         7\n",
      "anahuakyouthsportsassocation                    6\n",
      "campout                                         6\n",
      "cityprojectca                                   6\n",
      "wcvi                                            6\n",
      "walkathon                                       6\n",
      "earthday                                        6\n",
      "environmentaljustice                            6\n",
      "urbanparkmovement                               6\n",
      "mmf                                             6\n",
      "losangelesriver                                 6\n",
      "losangelesstatehistoricpark                     6\n",
      "robertgarcia                                    1\n",
      "santamonicamountainsnationalrecreationarea      1\n",
      "afsnikkormmfg                                   1\n",
      "smmnra                                          1\n",
      "statepark                                       1\n",
      "ramyasivasubramanian                            1\n",
      "tayloryard                                      1\n",
      "lynneteguzman                                   1\n",
      "outside                                         1\n",
      "nps                                             1\n",
      "nationalparkservice                             1\n",
      "katekuykendall                                  1\n",
      "kai                                             1\n",
      "gryd                                            1\n",
      "grass                                           1\n",
      "davidszymanski                                  1\n",
      "daphnehsu                                       1\n",
      "zurbulon                                        1\n"
     ]
    }
   ],
   "source": [
    "#create a column with count of each tag \n",
    "tag_park['value'] = [1] * tag_park.shape[0]\n",
    "\n",
    "#return top 100 most used tags sorted by value\n",
    "top_100_tags = tag_park.groupby('tags').sum().sort_values('value', ascending=False).head(100)\n",
    "\n",
    "#so we can view all tags\n",
    "pd.set_option('display.max_rows', 100)\n",
    "\n",
    "print(top_100_tags)"
   ]
  },
  {
   "cell_type": "code",
   "execution_count": 31,
   "metadata": {},
   "outputs": [],
   "source": [
    "# exporting top 100 tags to a csv for hand coding \n",
    "top_100_tags.to_csv('top_tags_riodelosangeles.csv', index=True)"
   ]
  },
  {
   "cell_type": "markdown",
   "metadata": {},
   "source": [
    "### Runyon Canyon"
   ]
  },
  {
   "cell_type": "code",
   "execution_count": 32,
   "metadata": {},
   "outputs": [
    {
     "data": {
      "text/plain": [
       "0    False\n",
       "1    False\n",
       "2    False\n",
       "3    False\n",
       "4    False\n",
       "Name: parkname, dtype: bool"
      ]
     },
     "execution_count": 32,
     "metadata": {},
     "output_type": "execute_result"
    }
   ],
   "source": [
    "#Need to figure out how to filter by parkname and retain the tags info by photo\n",
    "runyoncanyon = parks_data['parkname']=='runyoncanyon'\n",
    "runyoncanyon.head()"
   ]
  },
  {
   "cell_type": "code",
   "execution_count": 33,
   "metadata": {},
   "outputs": [
    {
     "name": "stdout",
     "output_type": "stream",
     "text": [
      "               id            owner      secret  server  farm  \\\n",
      "77    49328405323     56701972@N00  f49b6dd886   65535    66   \n",
      "78    49328405263     56701972@N00  dbda7b7c52   65535    66   \n",
      "79    49328405288     56701972@N00  76923c4cd5   65535    66   \n",
      "80    49329098177     56701972@N00  fe2de10eb4   65535    66   \n",
      "81    49328405178     56701972@N00  4b8ba5e5bf   65535    66   \n",
      "...           ...              ...         ...     ...   ...   \n",
      "2658    342066691  35034347053@N01  8b45b279e2     151     1   \n",
      "2659    342064652  35034347053@N01  7b67a7ce31     126     1   \n",
      "2660    342060959  35034347053@N01  560ab39ad9     160     1   \n",
      "2661    342059431  35034347053@N01  36d8564751     150     1   \n",
      "2745    168615083     53611868@N00  5da8b48efc      67     1   \n",
      "\n",
      "                         title  ispublic  isfriend  isfamily  \\\n",
      "77               Runyon Canyon         1         0         0   \n",
      "78    Runyon Canyon View of LA         1         0         0   \n",
      "79    Runyon Canyon View of LA         1         0         0   \n",
      "80               Runyon Canyon         1         0         0   \n",
      "81    Runyon Canyon View of LA         1         0         0   \n",
      "...                        ...       ...       ...       ...   \n",
      "2658                  DSC_6284         1         0         0   \n",
      "2659                  DSC_6283         1         0         0   \n",
      "2660                  DSC_6268         1         0         0   \n",
      "2661                  DSC_6252         1         0         0   \n",
      "2745            oh! the clouds         1         0         0   \n",
      "\n",
      "                                            description  ...   longitude  \\\n",
      "77                                     {'_content': ''}  ... -118.351389   \n",
      "78                                     {'_content': ''}  ... -118.350556   \n",
      "79                                     {'_content': ''}  ... -118.351389   \n",
      "80                                     {'_content': ''}  ... -118.352223   \n",
      "81                                     {'_content': ''}  ... -118.356389   \n",
      "...                                                 ...  ...         ...   \n",
      "2658                                   {'_content': ''}  ... -118.349854   \n",
      "2659                                   {'_content': ''}  ... -118.349854   \n",
      "2660                                   {'_content': ''}  ... -118.349854   \n",
      "2661                                   {'_content': ''}  ... -118.349854   \n",
      "2745  {'_content': 'Los Angeles, 1996\\n\\n<a target=\"...  ... -118.348996   \n",
      "\n",
      "      accuracy  context            place_id       woeid geo_is_public  \\\n",
      "77          16        0                 NaN   7132919.0             1   \n",
      "78          16        0                 NaN   7132919.0             1   \n",
      "79          16        0                 NaN   7132919.0             1   \n",
      "80          16        0                 NaN   7132919.0             1   \n",
      "81          16        0                 NaN   5404794.0             1   \n",
      "...        ...      ...                 ...         ...           ...   \n",
      "2658        16        0  kgWbIAVTUb9CXE9bgg  23511985.0             1   \n",
      "2659        16        0  kgWbIAVTUb9CXE9bgg  23511985.0             1   \n",
      "2660        16        0  kgWbIAVTUb9CXE9bgg  23511985.0             1   \n",
      "2661        16        0  kgWbIAVTUb9CXE9bgg  23511985.0             1   \n",
      "2745        15        0  ViHtwh1TWr3akxeLCg  28751511.0             1   \n",
      "\n",
      "      geo_is_contact  geo_is_friend  geo_is_family      parkname  \n",
      "77                 0              0              0  runyoncanyon  \n",
      "78                 0              0              0  runyoncanyon  \n",
      "79                 0              0              0  runyoncanyon  \n",
      "80                 0              0              0  runyoncanyon  \n",
      "81                 0              0              0  runyoncanyon  \n",
      "...              ...            ...            ...           ...  \n",
      "2658               0              0              0  runyoncanyon  \n",
      "2659               0              0              0  runyoncanyon  \n",
      "2660               0              0              0  runyoncanyon  \n",
      "2661               0              0              0  runyoncanyon  \n",
      "2745               0              0              0  runyoncanyon  \n",
      "\n",
      "[406 rows x 22 columns]\n"
     ]
    },
    {
     "data": {
      "text/plain": [
       "array(['runyoncanyon'], dtype=object)"
      ]
     },
     "execution_count": 33,
     "metadata": {},
     "output_type": "execute_result"
    }
   ],
   "source": [
    "runyoncanyon_tags = parks_data[runyoncanyon]\n",
    "print(runyoncanyon_tags)\n",
    "runyoncanyon_tags.parkname.unique()"
   ]
  },
  {
   "cell_type": "code",
   "execution_count": 34,
   "metadata": {},
   "outputs": [],
   "source": [
    "cols = ['tags', 'parkname']\n",
    "tag_park = runyoncanyon_tags[cols].explode('tags', ignore_index=True)"
   ]
  },
  {
   "cell_type": "code",
   "execution_count": 35,
   "metadata": {},
   "outputs": [
    {
     "name": "stdout",
     "output_type": "stream",
     "text": [
      "                           value\n",
      "tags                            \n",
      "textures                     152\n",
      "texturemaps                  152\n",
      "texturemap                   152\n",
      "texture                      152\n",
      "hollywood                    123\n",
      "runyon                        62\n",
      "hiking                        60\n",
      "hike                          40\n",
      "runyoncanyonpark              39\n",
      "sunset                        36\n",
      "mountains                     35\n",
      "attackcat                     31\n",
      "canyon                        29\n",
      "hollywoodhills                27\n",
      "sky                           21\n",
      "city                          21\n",
      "angeles                       21\n",
      "los                           21\n",
      "downtown                      16\n",
      "hills                         14\n",
      "skyline                       14\n",
      "mountain                      13\n",
      "mm                            13\n",
      "flickruseridn                 12\n",
      "fisheye                       11\n",
      "clouds                        11\n",
      "lomo                          11\n",
      "lomofisheye                   11\n",
      "flickrwalk                    11\n",
      "rcp                           11\n",
      "geotagged                     10\n",
      "sun                           10\n",
      "flickrfolk                     9\n",
      "weather                        9\n",
      "griffith                       9\n",
      "sunriserunyon                  9\n",
      "may                            9\n",
      "sunriseinrunyon                9\n",
      "mulholland                     9\n",
      "sunrise                        9\n",
      "hollywoodsign                  9\n",
      "sunriseinrunyoncanyonpark      9\n",
      "trail                          8\n",
      "southern                       8\n",
      "marctonysmith                  8\n",
      "marcus                         8\n",
      "elina                          8\n",
      "observatory                    8\n",
      "santamonica                    7\n",
      "discoverlosangeles             7\n",
      "centurycity                    7\n",
      "albertvalles                   7\n",
      "dog                            7\n",
      "ilovela                        7\n",
      "digitalphotography             7\n",
      "dillon                         6\n",
      "day                            6\n",
      "exterior                       6\n",
      "jitteroo                       6\n",
      "jennifer                       6\n",
      "rjt                            6\n",
      "champloo                       6\n",
      "fence                          6\n",
      "canonrebelti                   5\n",
      "pacificocean                   5\n",
      "panorama                       5\n",
      "film                           5\n",
      "topla                          5\n",
      "dayphotography                 5\n",
      "eos                            5\n",
      "urban                          5\n",
      "mick                           5\n",
      "mickflex                       5\n",
      "sbphotography                  4\n",
      "appleguy                       4\n",
      "bryanvillarin                  4\n",
      "greg                           4\n",
      "solar                          4\n",
      "olympusspuz                    4\n",
      "airencracken                   4\n",
      "dlused                         4\n",
      "bench                          4\n",
      "soupy                          4\n",
      "sign                           4\n",
      "hill                           4\n",
      "jason                          4\n",
      "man                            4\n",
      "sirimiri                       4\n",
      "photographer                   3\n",
      "kodakgold                      3\n",
      "woman                          3\n",
      "run                            3\n",
      "asa                            3\n",
      "iso                            3\n",
      "c                              3\n",
      "jog                            3\n",
      "horse                          3\n",
      "fujicast                       3\n",
      "color                          3\n",
      "fujica                         3\n"
     ]
    }
   ],
   "source": [
    "#create a column with count of each tag \n",
    "tag_park['value'] = [1] * tag_park.shape[0]\n",
    "\n",
    "#return top 100 most used tags sorted by value\n",
    "top_100_tags = tag_park.groupby('tags').sum().sort_values('value', ascending=False).head(100)\n",
    "\n",
    "#so we can view all tags\n",
    "pd.set_option('display.max_rows', 100)\n",
    "\n",
    "print(top_100_tags)"
   ]
  },
  {
   "cell_type": "code",
   "execution_count": 36,
   "metadata": {},
   "outputs": [],
   "source": [
    "# exporting top 100 tags to a csv for hand coding \n",
    "top_100_tags.to_csv('top_tags_runyoncanyon.csv', index=True)"
   ]
  },
  {
   "cell_type": "markdown",
   "metadata": {},
   "source": [
    "### Temescal Gateway"
   ]
  },
  {
   "cell_type": "code",
   "execution_count": 37,
   "metadata": {},
   "outputs": [
    {
     "data": {
      "text/plain": [
       "0    False\n",
       "1    False\n",
       "2    False\n",
       "3    False\n",
       "4    False\n",
       "Name: parkname, dtype: bool"
      ]
     },
     "execution_count": 37,
     "metadata": {},
     "output_type": "execute_result"
    }
   ],
   "source": [
    "#Need to figure out how to filter by parkname and retain the tags info by photo\n",
    "temescalgateway = parks_data['parkname']=='temescalgateway'\n",
    "temescalgateway.head()"
   ]
  },
  {
   "cell_type": "code",
   "execution_count": 38,
   "metadata": {},
   "outputs": [
    {
     "name": "stdout",
     "output_type": "stream",
     "text": [
      "              id         owner      secret  server  farm  \\\n",
      "700  12198446876  17573696@N00  82d958dcbd    3785     4   \n",
      "\n",
      "                                title  ispublic  isfriend  isfamily  \\\n",
      "700  high point, temescal ridge trail         1         0         0   \n",
      "\n",
      "          description  ...   longitude  accuracy  context          place_id  \\\n",
      "700  {'_content': ''}  ... -118.535461        16        0  9WPZAGRTVrwsRsDe   \n",
      "\n",
      "         woeid geo_is_public  geo_is_contact  geo_is_friend  geo_is_family  \\\n",
      "700  2467338.0             1               0              0              0   \n",
      "\n",
      "            parkname  \n",
      "700  temescalgateway  \n",
      "\n",
      "[1 rows x 22 columns]\n"
     ]
    },
    {
     "data": {
      "text/plain": [
       "array(['temescalgateway'], dtype=object)"
      ]
     },
     "execution_count": 38,
     "metadata": {},
     "output_type": "execute_result"
    }
   ],
   "source": [
    "temescalgateway_tags = parks_data[temescalgateway]\n",
    "print(temescalgateway_tags)\n",
    "temescalgateway_tags.parkname.unique()"
   ]
  },
  {
   "cell_type": "code",
   "execution_count": 39,
   "metadata": {},
   "outputs": [],
   "source": [
    "cols = ['tags', 'parkname']\n",
    "tag_park = temescalgateway_tags[cols].explode('tags', ignore_index=True)"
   ]
  },
  {
   "cell_type": "code",
   "execution_count": 40,
   "metadata": {},
   "outputs": [
    {
     "name": "stdout",
     "output_type": "stream",
     "text": [
      "                            value\n",
      "tags                             \n",
      "flickrandroidappfilternone      1\n",
      "temescalcanyon                  1\n",
      "temescalridgetrail              1\n"
     ]
    }
   ],
   "source": [
    "#create a column with count of each tag \n",
    "tag_park['value'] = [1] * tag_park.shape[0]\n",
    "\n",
    "#return top 100 most used tags sorted by value\n",
    "top_100_tags = tag_park.groupby('tags').sum().sort_values('value', ascending=False).head(100)\n",
    "\n",
    "#so we can view all tags\n",
    "pd.set_option('display.max_rows', 100)\n",
    "\n",
    "print(top_100_tags)"
   ]
  },
  {
   "cell_type": "code",
   "execution_count": 41,
   "metadata": {},
   "outputs": [],
   "source": [
    "# exporting top 100 tags to a csv for hand coding \n",
    "top_100_tags.to_csv('top_tags_temescalgateway.csv', index=True)"
   ]
  },
  {
   "cell_type": "markdown",
   "metadata": {},
   "source": [
    "### Heidelberg Park"
   ]
  },
  {
   "cell_type": "markdown",
   "metadata": {},
   "source": [
    "### Hancock Park"
   ]
  },
  {
   "cell_type": "code",
   "execution_count": 42,
   "metadata": {},
   "outputs": [
    {
     "data": {
      "text/plain": [
       "0    False\n",
       "1    False\n",
       "2     True\n",
       "3     True\n",
       "4    False\n",
       "Name: parkname, dtype: bool"
      ]
     },
     "execution_count": 42,
     "metadata": {},
     "output_type": "execute_result"
    }
   ],
   "source": [
    "#Need to figure out how to filter by parkname and retain the tags info by photo\n",
    "hancockpark = parks_data['parkname']=='hancockpark'\n",
    "hancockpark.head()"
   ]
  },
  {
   "cell_type": "code",
   "execution_count": 43,
   "metadata": {},
   "outputs": [
    {
     "name": "stdout",
     "output_type": "stream",
     "text": [
      "               id         owner      secret  server  farm  \\\n",
      "2     50292619641  66115413@N07  11c1a5bb33   65535    66   \n",
      "3     50220027608  66115413@N07  a917301efa   65535    66   \n",
      "8     49541489037  82057796@N00  6a84dd124a   65535    66   \n",
      "9     49540767593  82057796@N00  a47eb21d64   65535    66   \n",
      "10    49541267536  82057796@N00  057a041c79   65535    66   \n",
      "...           ...           ...         ...     ...   ...   \n",
      "2742    189408818  63348143@N00  a51d7e9ad9      44     1   \n",
      "2743    181797470  63348143@N00  ff05d50cb7      44     1   \n",
      "2744    179394267  63348143@N00  e6dd2d6a80      74     1   \n",
      "2746    163958185  63348143@N00  222f36be46      73     1   \n",
      "2747    161398070  63348143@N00  c3cdd3f644      50     1   \n",
      "\n",
      "                         title  ispublic  isfriend  isfamily  \\\n",
      "2     Never come here at night         1         0         0   \n",
      "3           Quarantined Sloths         1         0         0   \n",
      "8                      Asphalt         1         0         0   \n",
      "9                       Pit 91         1         0         0   \n",
      "10                      Pit 91         1         0         0   \n",
      "...                        ...       ...       ...       ...   \n",
      "2742                      stop         1         0         0   \n",
      "2743                     lines         1         0         0   \n",
      "2744                  soupenvy         1         0         0   \n",
      "2746                  slippery         1         0         0   \n",
      "2747               flea market         1         0         0   \n",
      "\n",
      "                                         description  ...   longitude  \\\n",
      "2      {'_content': 'La Brea Tar Pits\\nLos Angeles'}  ... -118.357064   \n",
      "3     {'_content': 'La Brea Tar Pits / Hancok Park'}  ... -118.357150   \n",
      "8                                   {'_content': ''}  ... -118.357601   \n",
      "9                                   {'_content': ''}  ... -118.357601   \n",
      "10                                  {'_content': ''}  ... -118.357601   \n",
      "...                                              ...  ...         ...   \n",
      "2742                                {'_content': ''}  ... -118.327217   \n",
      "2743                                {'_content': ''}  ... -118.327217   \n",
      "2744                                {'_content': ''}  ... -118.327217   \n",
      "2746                                {'_content': ''}  ... -118.327217   \n",
      "2747                                {'_content': ''}  ... -118.327217   \n",
      "\n",
      "      accuracy  context            place_id       woeid geo_is_public  \\\n",
      "2           15        0                 NaN   5381273.0             1   \n",
      "3           16        0                 NaN   5381273.0             1   \n",
      "8           16        0                 NaN   5381273.0             1   \n",
      "9           16        0                 NaN   5381273.0             1   \n",
      "10          16        0                 NaN   5381273.0             1   \n",
      "...        ...      ...                 ...         ...           ...   \n",
      "2742        16        0  efoucK5TWr0U1ThAlQ  28751566.0             1   \n",
      "2743        16        0  efoucK5TWr0U1ThAlQ  28751566.0             1   \n",
      "2744        16        0  efoucK5TWr0U1ThAlQ  28751566.0             1   \n",
      "2746        16        0  efoucK5TWr0U1ThAlQ  28751566.0             1   \n",
      "2747        16        0  efoucK5TWr0U1ThAlQ  28751566.0             1   \n",
      "\n",
      "      geo_is_contact  geo_is_friend  geo_is_family     parkname  \n",
      "2                  0              0              0  hancockpark  \n",
      "3                  0              0              0  hancockpark  \n",
      "8                  0              0              0  hancockpark  \n",
      "9                  0              0              0  hancockpark  \n",
      "10                 0              0              0  hancockpark  \n",
      "...              ...            ...            ...          ...  \n",
      "2742               0              0              0  hancockpark  \n",
      "2743               0              0              0  hancockpark  \n",
      "2744               0              0              0  hancockpark  \n",
      "2746               0              0              0  hancockpark  \n",
      "2747               0              0              0  hancockpark  \n",
      "\n",
      "[1369 rows x 22 columns]\n"
     ]
    },
    {
     "data": {
      "text/plain": [
       "array(['hancockpark'], dtype=object)"
      ]
     },
     "execution_count": 43,
     "metadata": {},
     "output_type": "execute_result"
    }
   ],
   "source": [
    "hancockpark_tags = parks_data[hancockpark]\n",
    "print(hancockpark_tags)\n",
    "hancockpark_tags.parkname.unique()"
   ]
  },
  {
   "cell_type": "code",
   "execution_count": 44,
   "metadata": {},
   "outputs": [],
   "source": [
    "cols = ['tags', 'parkname']\n",
    "tag_park = hancockpark_tags[cols].explode('tags', ignore_index=True)"
   ]
  },
  {
   "cell_type": "code",
   "execution_count": 45,
   "metadata": {},
   "outputs": [
    {
     "name": "stdout",
     "output_type": "stream",
     "text": [
      "                                         value\n",
      "tags                                          \n",
      "tarpits                                    584\n",
      "labreatarpits                              460\n",
      "labrea                                     372\n",
      "museum                                     316\n",
      "pagemuseum                                 223\n",
      "fossils                                    202\n",
      "bones                                      181\n",
      "socal                                      159\n",
      "estate                                     151\n",
      "realestate                                 150\n",
      "real                                       150\n",
      "paleontology                               149\n",
      "lacma                                      146\n",
      "animals                                    131\n",
      "mammoths                                   130\n",
      "excavation                                 124\n",
      "sabretooth                                 121\n",
      "tigers                                     121\n",
      "giantgroundsloths                          121\n",
      "gettyhouse                                 117\n",
      "mayorantoniovillaraigosa                   117\n",
      "gay                                        117\n",
      "lapride                                    116\n",
      "losangelesmayor                            116\n",
      "firstever                                  116\n",
      "westhollywoodpride                         116\n",
      "lagaypride                                 116\n",
      "westhollywoodgaypride                      116\n",
      "losangelespride                            116\n",
      "losangelesgaypride                         116\n",
      "officialresidenceofthemayoroflosangeles    116\n",
      "lgbt                                       116\n",
      "lesbian                                    116\n",
      "christopherstreetwest                      116\n",
      "calvinfleming                              116\n",
      "pride                                      116\n",
      "gaypride                                   116\n",
      "june                                       116\n",
      "gardenparty                                116\n",
      "georgecpagemuseum                          110\n",
      "museums                                     92\n",
      "midcity                                     77\n",
      "house                                       74\n",
      "losangelescountymuseumofart                 68\n",
      "iceage                                      56\n",
      "pleistocene                                 56\n",
      "wilshire                                    53\n",
      "hollywood                                   51\n",
      "skeletons                                   50\n",
      "rancholabrea                                50\n",
      "skulls                                      49\n",
      "pit                                         47\n",
      "people                                      46\n",
      "intersection                                44\n",
      "tar                                         44\n",
      "sabretoothtigers                            43\n",
      "sculpture                                   43\n",
      "canondigitalrebelxti                        42\n",
      "kitlens                                     42\n",
      "clinton                                     42\n",
      "olympusem                                   42\n",
      "rossmore                                    42\n",
      "corner                                      42\n",
      "skeleton                                    38\n",
      "fossil                                      37\n",
      "garden                                      36\n",
      "unitedstatesofamerica                       35\n",
      "mammoth                                     34\n",
      "treasuresoflosangelesarchitecture           34\n",
      "hancockparkarchitecture                     34\n",
      "us                                          33\n",
      "michaellockephotographer                    33\n",
      "gardentour                                  33\n",
      "flickr                                      33\n",
      "michaellockerealtor                         33\n",
      "michaellocke                                33\n",
      "parks                                       33\n",
      "art                                         32\n",
      "miraclemile                                 28\n",
      "statue                                      28\n",
      "fishbowllab                                 27\n",
      "picnik                                      27\n",
      "direwolf                                    25\n",
      "fish                                        25\n",
      "mastodon                                    24\n",
      "artmuseum                                   23\n",
      "sign                                        22\n",
      "pond                                        22\n",
      "rancholabreatarpits                         22\n",
      "momma                                       21\n",
      "fun                                         21\n",
      "iwanttobeanolympusvisionary                 21\n",
      "furnitureshoppinginla                       21\n",
      "thesoulphotographer                         21\n",
      "thekingofcollectablefurniture               21\n",
      "nickmetropolis                              21\n",
      "olympuscamera                               21\n",
      "southlabreablvd                             21\n",
      "elizabethwilson                             21\n",
      "rebeccadruphotography                       21\n"
     ]
    }
   ],
   "source": [
    "#create a column with count of each tag \n",
    "tag_park['value'] = [1] * tag_park.shape[0]\n",
    "\n",
    "#return top 100 most used tags sorted by value\n",
    "top_100_tags = tag_park.groupby('tags').sum().sort_values('value', ascending=False).head(100)\n",
    "\n",
    "#so we can view all tags\n",
    "pd.set_option('display.max_rows', 100)\n",
    "\n",
    "print(top_100_tags)"
   ]
  },
  {
   "cell_type": "code",
   "execution_count": 46,
   "metadata": {},
   "outputs": [],
   "source": [
    "# exporting top 100 tags to a csv for hand coding \n",
    "top_100_tags.to_csv('top_tags_hancockpark.csv', index=True)"
   ]
  },
  {
   "cell_type": "markdown",
   "metadata": {},
   "source": [
    "### Franklin Canyon Park"
   ]
  },
  {
   "cell_type": "code",
   "execution_count": 47,
   "metadata": {},
   "outputs": [
    {
     "data": {
      "text/plain": [
       "0    False\n",
       "1    False\n",
       "2    False\n",
       "3    False\n",
       "4    False\n",
       "Name: parkname, dtype: bool"
      ]
     },
     "execution_count": 47,
     "metadata": {},
     "output_type": "execute_result"
    }
   ],
   "source": [
    "#Need to figure out how to filter by parkname and retain the tags info by photo\n",
    "franklincanyonpark = parks_data['parkname']=='franklincanyonpark'\n",
    "franklincanyonpark.head()"
   ]
  },
  {
   "cell_type": "code",
   "execution_count": 48,
   "metadata": {},
   "outputs": [
    {
     "name": "stdout",
     "output_type": "stream",
     "text": [
      "               id          owner      secret  server  farm  \\\n",
      "155   48797213627   59567508@N06  1c86381521   65535    66   \n",
      "157   48796705638   59567508@N06  94a6ffa442   65535    66   \n",
      "158   48796698878   59567508@N06  43519d1f49   65535    66   \n",
      "159   48791864882   59567508@N06  59812d6794   65535    66   \n",
      "492   32173106956   42730864@N05  f7a73c3660     497     1   \n",
      "596   12938751304  101119516@N04  2472459247    2853     3   \n",
      "979    8616697685   48108659@N00  7a7bcf8454    8103     9   \n",
      "980    8617803974   48108659@N00  11f30a3549    8103     9   \n",
      "981    8616697479   48108659@N00  6cd95ab6ce    8521     9   \n",
      "982    8617803782   48108659@N00  2574d73818    8263     9   \n",
      "983    8617803662   48108659@N00  39b941a5d3    8538     9   \n",
      "1199   6968689821   13566572@N08  4732e96344    7179     8   \n",
      "1200   6963670675   13566572@N08  0078feb2ef    7188     8   \n",
      "1830   4331258989   48108659@N00  57932fffa5    4042     5   \n",
      "1831   4331258953   48108659@N00  4abd45da83    4028     5   \n",
      "1832   4331258959   48108659@N00  578c601fd7    4056     5   \n",
      "1833   4331258963   48108659@N00  ecdae9e190    4063     5   \n",
      "1834   4331258955   48108659@N00  05df09a468    4001     5   \n",
      "1835   4331258933   48108659@N00  6127960bdd    2718     3   \n",
      "2113   3230094439   32349630@N00  f422c0b4a5    3264     4   \n",
      "2164   3230946268   32349630@N00  fd675e2918    3533     4   \n",
      "2165   3230096385   32349630@N00  9ed389966a    3518     4   \n",
      "2166   3230941682   32349630@N00  acc96cff91    3103     4   \n",
      "2167   3226782029   32349630@N00  3b64e6552d    3483     4   \n",
      "2168   3226779713   32349630@N00  47a3b3f890    3404     4   \n",
      "2169   3227631514   32349630@N00  3f3f734e8b    3453     4   \n",
      "2170   3226776107   32349630@N00  4d3bc948b2    3087     4   \n",
      "2171   3227626714   32349630@N00  b58c3d5943    3392     4   \n",
      "2172   3227623766   32349630@N00  70b895b1ae    3392     4   \n",
      "2205   2718537093   22146553@N05  2df27b3431    3124     4   \n",
      "2206   2719356978   22146553@N05  28b009c69b    3275     4   \n",
      "2207   2718533503   22146553@N05  293ac268df    3257     4   \n",
      "2208   2719353660   22146553@N05  42d4959918    3048     4   \n",
      "2209   2719351836   22146553@N05  61ed85c222    3048     4   \n",
      "2210   2719348612   22146553@N05  0f23207d44    3023     4   \n",
      "2211   2718525151   22146553@N05  eb4a599fb7    3005     4   \n",
      "2212   2719344730   22146553@N05  4e97588a27    3068     4   \n",
      "\n",
      "                                                  title  ispublic  isfriend  \\\n",
      "155   A bird in the hand is worth two ducks at the l...         1         0   \n",
      "157                            Hippity hop, I'm a frog.         1         0   \n",
      "158                                               Curls         1         0   \n",
      "159              Ducking around in Franklin Canyon Park         1         0   \n",
      "492                                Franklin Canyon Park         1         0   \n",
      "596                                         Video Games         1         0   \n",
      "979                                            P1050912         1         0   \n",
      "980                                            P1050914         1         0   \n",
      "981                                            P1050920         1         0   \n",
      "982                                            P1050921         1         0   \n",
      "983                                            P1050929         1         0   \n",
      "1199                                       Tree of Hope         1         0   \n",
      "1200  Expect to have hope rekindled.  Expect your pr...         1         0   \n",
      "1830                               Franklin Canyon Park         1         0   \n",
      "1831                               Franklin Canyon Park         1         0   \n",
      "1832                               Franklin Canyon Park         1         0   \n",
      "1833                               Franklin Canyon Park         1         0   \n",
      "1834                               Franklin Canyon Park         1         0   \n",
      "1835                               Franklin Canyon Park         1         0   \n",
      "2113                           Upper Franklin Reservoir         1         0   \n",
      "2164                                      Dogs On Leash         1         0   \n",
      "2165                                        Trees & Sky         1         0   \n",
      "2166                 Another Shot Of Rusty In The Grass         1         0   \n",
      "2167                                      Rusty The Dog         1         0   \n",
      "2168                                        4/52: Rusty         1         0   \n",
      "2169                             Rusty In The Grass (4)         1         0   \n",
      "2170                             Rusty In The Grass (3)         1         0   \n",
      "2171                             Rusty In The Grass (2)         1         0   \n",
      "2172                             Rusty In The Grass (1)         1         0   \n",
      "2205                            Franklin Canyon Lake #1         1         0   \n",
      "2206                            Franklin Canyon Lake #2         1         0   \n",
      "2207                            Franklin Canyon Lake #3         1         0   \n",
      "2208                            Franklin Canyon Lake #4         1         0   \n",
      "2209                            Franklin Canyon Lake #5         1         0   \n",
      "2210                            Franklin Canyon Lake #6         1         0   \n",
      "2211                            Franklin Canyon Lake #7         1         0   \n",
      "2212                            Franklin Canyon Lake #8         1         0   \n",
      "\n",
      "      isfamily                                        description  ...  \\\n",
      "155          0  {'_content': 'Franklin Canyon Park in Beverly ...  ...   \n",
      "157          0  {'_content': 'Franklin Canyon Park in Beverly ...  ...   \n",
      "158          0  {'_content': 'Franklin Canyon Park in Beverly ...  ...   \n",
      "159          0  {'_content': 'Franklin Canyon Park in Beverly ...  ...   \n",
      "492          0            {'_content': '(Instagram: peterbjork)'}  ...   \n",
      "596          0  {'_content': '&quot;<i>I like <a href=\"https:/...  ...   \n",
      "979          0                                   {'_content': ''}  ...   \n",
      "980          0                                   {'_content': ''}  ...   \n",
      "981          0                                   {'_content': ''}  ...   \n",
      "982          0          {'_content': 'Shooting Geico commercial'}  ...   \n",
      "983          0                                   {'_content': ''}  ...   \n",
      "1199         0  {'_content': 'So, her name happens to be Hope;...  ...   \n",
      "1200         0  {'_content': ' ~Sarah Ban Breathnach\\n. . .\\nM...  ...   \n",
      "1830         0                    {'_content': 'Franklin Canyon'}  ...   \n",
      "1831         0           {'_content': 'A &quot;Nolan&quot; sign'}  ...   \n",
      "1832         0                    {'_content': 'Franklin Canyon'}  ...   \n",
      "1833         0                    {'_content': 'Franklin Canyon'}  ...   \n",
      "1834         0                    {'_content': 'Franklin Canyon'}  ...   \n",
      "1835         0           {'_content': 'A &quot;Nolan&quot; sign'}  ...   \n",
      "2113         0                                   {'_content': ''}  ...   \n",
      "2164         0                                   {'_content': ''}  ...   \n",
      "2165         0                                   {'_content': ''}  ...   \n",
      "2166         0                                   {'_content': ''}  ...   \n",
      "2167         0  {'_content': \"In profile. He's a very patient ...  ...   \n",
      "2168         0  {'_content': '4/52 for <a href=\"http://www.fli...  ...   \n",
      "2169         0  {'_content': \"Rusty sitting on a grassy hill. ...  ...   \n",
      "2170         0                                   {'_content': ''}  ...   \n",
      "2171         0  {'_content': \"Rusty sitting on a grassy hill. ...  ...   \n",
      "2172         0  {'_content': \"Rusty sitting on a grassy hill. ...  ...   \n",
      "2205         0  {'_content': 'This location was used continual...  ...   \n",
      "2206         0  {'_content': 'This location was used continual...  ...   \n",
      "2207         0  {'_content': 'This location was used continual...  ...   \n",
      "2208         0  {'_content': 'This location was used continual...  ...   \n",
      "2209         0  {'_content': 'This location was used continual...  ...   \n",
      "2210         0  {'_content': 'This location was used continual...  ...   \n",
      "2211         0  {'_content': 'This location was used continual...  ...   \n",
      "2212         0  {'_content': 'This location was used continual...  ...   \n",
      "\n",
      "       longitude  accuracy  context            place_id       woeid  \\\n",
      "155  -118.415343        15        0                 NaN   5403633.0   \n",
      "157  -118.415343        15        0                 NaN   5403633.0   \n",
      "158  -118.415343        15        0                 NaN   5403633.0   \n",
      "159  -118.415343        15        0                 NaN   5403633.0   \n",
      "492  -118.409745        16        0  9rkkKDNTWr145CIYCA  28751172.0   \n",
      "596  -118.409668        16        0  9rkkKDNTWr145CIYCA  28751172.0   \n",
      "979  -118.411604        16        0  9rkkKDNTWr145CIYCA  28751172.0   \n",
      "980  -118.411604        16        0  9rkkKDNTWr145CIYCA  28751172.0   \n",
      "981  -118.411604        16        0  9rkkKDNTWr145CIYCA  28751172.0   \n",
      "982  -118.411604        16        0  9rkkKDNTWr145CIYCA  28751172.0   \n",
      "983  -118.411604        16        0  9rkkKDNTWr145CIYCA  28751172.0   \n",
      "1199 -118.417022        15        0    xkwezZFTUbwttBex   2363796.0   \n",
      "1200 -118.417022        15        0    xkwezZFTUbwttBex   2363796.0   \n",
      "1830 -118.411604        16        0  9rkkKDNTWr145CIYCA  28751172.0   \n",
      "1831 -118.408976        16        0    OeZd9DBTV7oGgE05   2501077.0   \n",
      "1832 -118.410735        16        0  9rkkKDNTWr145CIYCA  28751172.0   \n",
      "1833 -118.410735        16        0  9rkkKDNTWr145CIYCA  28751172.0   \n",
      "1834 -118.410263        16        0  9rkkKDNTWr145CIYCA  28751172.0   \n",
      "1835 -118.408976        16        0    OeZd9DBTV7oGgE05   2501077.0   \n",
      "2113 -118.410075        15        0    OeZd9DBTV7oGgE05   2501077.0   \n",
      "2164 -118.410075        15        0    OeZd9DBTV7oGgE05   2501077.0   \n",
      "2165 -118.410075        15        0    OeZd9DBTV7oGgE05   2501077.0   \n",
      "2166 -118.410075        15        0    OeZd9DBTV7oGgE05   2501077.0   \n",
      "2167 -118.410075        15        0    OeZd9DBTV7oGgE05   2501077.0   \n",
      "2168 -118.410075        15        0    OeZd9DBTV7oGgE05   2501077.0   \n",
      "2169 -118.410075        15        0    OeZd9DBTV7oGgE05   2501077.0   \n",
      "2170 -118.410075        15        0    OeZd9DBTV7oGgE05   2501077.0   \n",
      "2171 -118.410075        15        0    OeZd9DBTV7oGgE05   2501077.0   \n",
      "2172 -118.410075        15        0    OeZd9DBTV7oGgE05   2501077.0   \n",
      "2205 -118.410730        15        0    OeZd9DBTV7oGgE05   2501077.0   \n",
      "2206 -118.410730        15        0    OeZd9DBTV7oGgE05   2501077.0   \n",
      "2207 -118.410730        15        0    OeZd9DBTV7oGgE05   2501077.0   \n",
      "2208 -118.410730        15        0    OeZd9DBTV7oGgE05   2501077.0   \n",
      "2209 -118.410730        15        0    OeZd9DBTV7oGgE05   2501077.0   \n",
      "2210 -118.410730        15        0    OeZd9DBTV7oGgE05   2501077.0   \n",
      "2211 -118.410730        15        0    OeZd9DBTV7oGgE05   2501077.0   \n",
      "2212 -118.410730        15        0    OeZd9DBTV7oGgE05   2501077.0   \n",
      "\n",
      "     geo_is_public  geo_is_contact  geo_is_friend  geo_is_family  \\\n",
      "155              1               0              0              0   \n",
      "157              1               0              0              0   \n",
      "158              1               0              0              0   \n",
      "159              1               0              0              0   \n",
      "492              1               0              0              0   \n",
      "596              1               0              0              0   \n",
      "979              1               0              0              0   \n",
      "980              1               0              0              0   \n",
      "981              1               0              0              0   \n",
      "982              1               0              0              0   \n",
      "983              1               0              0              0   \n",
      "1199             1               0              0              0   \n",
      "1200             1               0              0              0   \n",
      "1830             1               0              0              0   \n",
      "1831             1               0              0              0   \n",
      "1832             1               0              0              0   \n",
      "1833             1               0              0              0   \n",
      "1834             1               0              0              0   \n",
      "1835             1               0              0              0   \n",
      "2113             1               0              0              0   \n",
      "2164             1               0              0              0   \n",
      "2165             1               0              0              0   \n",
      "2166             1               0              0              0   \n",
      "2167             1               0              0              0   \n",
      "2168             1               0              0              0   \n",
      "2169             1               0              0              0   \n",
      "2170             1               0              0              0   \n",
      "2171             1               0              0              0   \n",
      "2172             1               0              0              0   \n",
      "2205             1               0              0              0   \n",
      "2206             1               0              0              0   \n",
      "2207             1               0              0              0   \n",
      "2208             1               0              0              0   \n",
      "2209             1               0              0              0   \n",
      "2210             1               0              0              0   \n",
      "2211             1               0              0              0   \n",
      "2212             1               0              0              0   \n",
      "\n",
      "                parkname  \n",
      "155   franklincanyonpark  \n",
      "157   franklincanyonpark  \n",
      "158   franklincanyonpark  \n",
      "159   franklincanyonpark  \n",
      "492   franklincanyonpark  \n",
      "596   franklincanyonpark  \n",
      "979   franklincanyonpark  \n",
      "980   franklincanyonpark  \n",
      "981   franklincanyonpark  \n",
      "982   franklincanyonpark  \n",
      "983   franklincanyonpark  \n",
      "1199  franklincanyonpark  \n",
      "1200  franklincanyonpark  \n",
      "1830  franklincanyonpark  \n",
      "1831  franklincanyonpark  \n",
      "1832  franklincanyonpark  \n",
      "1833  franklincanyonpark  \n",
      "1834  franklincanyonpark  \n",
      "1835  franklincanyonpark  \n",
      "2113  franklincanyonpark  \n",
      "2164  franklincanyonpark  \n",
      "2165  franklincanyonpark  \n",
      "2166  franklincanyonpark  \n",
      "2167  franklincanyonpark  \n",
      "2168  franklincanyonpark  \n",
      "2169  franklincanyonpark  \n",
      "2170  franklincanyonpark  \n",
      "2171  franklincanyonpark  \n",
      "2172  franklincanyonpark  \n",
      "2205  franklincanyonpark  \n",
      "2206  franklincanyonpark  \n",
      "2207  franklincanyonpark  \n",
      "2208  franklincanyonpark  \n",
      "2209  franklincanyonpark  \n",
      "2210  franklincanyonpark  \n",
      "2211  franklincanyonpark  \n",
      "2212  franklincanyonpark  \n",
      "\n",
      "[37 rows x 22 columns]\n"
     ]
    },
    {
     "data": {
      "text/plain": [
       "array(['franklincanyonpark'], dtype=object)"
      ]
     },
     "execution_count": 48,
     "metadata": {},
     "output_type": "execute_result"
    }
   ],
   "source": [
    "franklincanyonpark_tags = parks_data[franklincanyonpark]\n",
    "print(franklincanyonpark_tags)\n",
    "franklincanyonpark_tags.parkname.unique()"
   ]
  },
  {
   "cell_type": "code",
   "execution_count": 49,
   "metadata": {},
   "outputs": [],
   "source": [
    "cols = ['tags', 'parkname']\n",
    "tag_park = franklincanyonpark_tags[cols].explode('tags', ignore_index=True)"
   ]
  },
  {
   "cell_type": "code",
   "execution_count": 50,
   "metadata": {},
   "outputs": [
    {
     "name": "stdout",
     "output_type": "stream",
     "text": [
      "                                value\n",
      "tags                                 \n",
      "santamonicamountains               13\n",
      "tvshowlocations                     8\n",
      "californiadreamsphotography         8\n",
      "tvlocations                         8\n",
      "losangelesfilminglocations          8\n",
      "franklincanyonlake                  8\n",
      "filminglocations                    8\n",
      "losangelesmountains                 8\n",
      "losangelestvlocations               8\n",
      "mayberrylake                        8\n",
      "mayberrync                          8\n",
      "thefishinhole                       8\n",
      "californiadreamsphotographycom      8\n",
      "myerslake                           8\n",
      "andygriffith                        8\n",
      "andygriffithshow                    8\n",
      "nature                              8\n",
      "rustythedog                         7\n",
      "canine                              7\n",
      "chihuahuamix                        7\n",
      "mutt                                7\n",
      "dog                                 7\n",
      "pet                                 7\n",
      "grass                               6\n",
      "franklincanyon                      5\n",
      "beverlyhills                        4\n",
      "lake                                3\n",
      "trees                               3\n",
      "neature                             3\n",
      "portrait                            2\n",
      "lanceloniephotography               2\n",
      "spring                              2\n",
      "neloniecrelencia                    2\n",
      "springtime                          2\n",
      "ladywithdaisies                     2\n",
      "portraiture                         2\n",
      "ladywithflowers                     2\n",
      "hoperosemary                        2\n",
      "girlwithflowers                     2\n",
      "beautiful                           2\n",
      "beautifulgirl                       2\n",
      "beautifullady                       2\n",
      "beautifulwoman                      2\n",
      "beauty                              2\n",
      "womanwithflowers                    2\n",
      "womanwithdaisies                    2\n",
      "softportrait                        2\n",
      "diptych                             2\n",
      "ducks                               2\n",
      "soft                                2\n",
      "girlwithdaisies                     2\n",
      "weeksfordogs                        1\n",
      "womanontree                         1\n",
      "water                               1\n",
      "urbanhiking                         1\n",
      "upperfranklinreservoir              1\n",
      "wood                                1\n",
      "womanontopoftree                    1\n",
      "afashionnerd                        1\n",
      "sky                                 1\n",
      "sign                                1\n",
      "bark                                1\n",
      "ben                                 1\n",
      "benbayouth                          1\n",
      "benjaminbayouth                     1\n",
      "clones                              1\n",
      "composite                           1\n",
      "dogsonleash                         1\n",
      "evergreens                          1\n",
      "frog                                1\n",
      "girlontopoftree                     1\n",
      "girlontree                          1\n",
      "ladyontopoftree                     1\n",
      "ladyontree                          1\n",
      "amyroiland                          1\n",
      "photo                               1\n",
      "woods                               1\n"
     ]
    }
   ],
   "source": [
    "#create a column with count of each tag \n",
    "tag_park['value'] = [1] * tag_park.shape[0]\n",
    "\n",
    "#return top 100 most used tags sorted by value\n",
    "top_100_tags = tag_park.groupby('tags').sum().sort_values('value', ascending=False).head(100)\n",
    "\n",
    "#so we can view all tags\n",
    "pd.set_option('display.max_rows', 100)\n",
    "\n",
    "print(top_100_tags)"
   ]
  },
  {
   "cell_type": "code",
   "execution_count": 51,
   "metadata": {},
   "outputs": [],
   "source": [
    "# exporting top 100 tags to a csv for hand coding \n",
    "top_100_tags.to_csv('top_tags_franklincanyonpark.csv', index=True)"
   ]
  },
  {
   "cell_type": "markdown",
   "metadata": {},
   "source": [
    "### Angels Gate"
   ]
  },
  {
   "cell_type": "markdown",
   "metadata": {},
   "source": [
    "### Coldwater Canyon"
   ]
  },
  {
   "cell_type": "markdown",
   "metadata": {},
   "source": [
    "### Chatsworth Park South"
   ]
  },
  {
   "cell_type": "markdown",
   "metadata": {},
   "source": [
    "### Cheviot Hills"
   ]
  },
  {
   "cell_type": "code",
   "execution_count": null,
   "metadata": {},
   "outputs": [],
   "source": []
  }
 ],
 "metadata": {
  "kernelspec": {
   "display_name": "Python 3",
   "language": "python",
   "name": "python3"
  },
  "language_info": {
   "codemirror_mode": {
    "name": "ipython",
    "version": 3
   },
   "file_extension": ".py",
   "mimetype": "text/x-python",
   "name": "python",
   "nbconvert_exporter": "python",
   "pygments_lexer": "ipython3",
   "version": "3.7.8"
  }
 },
 "nbformat": 4,
 "nbformat_minor": 4
}
