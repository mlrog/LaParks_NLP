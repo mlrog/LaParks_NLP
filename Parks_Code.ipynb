{
 "cells": [
  {
   "cell_type": "code",
   "execution_count": null,
   "id": "surface-nevada",
   "metadata": {},
   "outputs": [],
   "source": [
    "import flickrapi\n",
    "import json\n",
    "\n",
    "api_key = u'356c3b8530e59f84095a0afc0da1414d'\n",
    "api_secret = u'b51150d99cc64044'\n",
    "\n",
    "#flickr = flickrapi.FlickrAPI(api_key, api_secret)\n",
    "#for json format\n",
    "flickr = flickrapi.FlickrAPI(api_key, api_secret, format='parsed-json')"
   ]
  },
  {
   "cell_type": "code",
   "execution_count": null,
   "id": "offshore-irish",
   "metadata": {},
   "outputs": [],
   "source": [
    "extras='geo,description,tags'\n",
    "MacArthurPark = flickr.photos.search(tags='MacArthur Park', per_page=20, extras=extras,format='parsed-json')\n",
    "photos = MacArthurPark['photos']\n",
    "from pprint import pprint\n",
    "pprint(photos)"
   ]
  },
  {
   "cell_type": "code",
   "execution_count": null,
   "id": "hawaiian-kingdom",
   "metadata": {},
   "outputs": [],
   "source": [
    "print(photos.keys())"
   ]
  },
  {
   "cell_type": "code",
   "execution_count": null,
   "id": "grave-pepper",
   "metadata": {},
   "outputs": [],
   "source": [
    "print(photos['photo'])"
   ]
  },
  {
   "cell_type": "code",
   "execution_count": null,
   "id": "structured-mention",
   "metadata": {},
   "outputs": [],
   "source": [
    "item1 = photos['photo'][0]  \n",
    "print(item1)"
   ]
  },
  {
   "cell_type": "code",
   "execution_count": null,
   "id": "adopted-lindsay",
   "metadata": {},
   "outputs": [],
   "source": [
    "import pandas as pd\n",
    "df = pd.DataFrame(photos['photo'])\n",
    "df"
   ]
  }
 ],
 "metadata": {
  "kernelspec": {
   "display_name": "Python 3",
   "language": "python",
   "name": "python3"
  },
  "language_info": {
   "codemirror_mode": {
    "name": "ipython",
    "version": 3
   },
   "file_extension": ".py",
   "mimetype": "text/x-python",
   "name": "python",
   "nbconvert_exporter": "python",
   "pygments_lexer": "ipython3",
   "version": "3.7.7"
  }
 },
 "nbformat": 4,
 "nbformat_minor": 5
}
