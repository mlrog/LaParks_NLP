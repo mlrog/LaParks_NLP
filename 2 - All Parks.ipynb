{
 "cells": [
  {
   "cell_type": "markdown",
   "metadata": {},
   "source": [
    "# Notebook 2: All Parks\n",
    "Now that we established our method for MacArthur Park, the next step was to apply this process to 12 parks across LA we selected based on a quick Flickr search to determine if there were a variety of photos with a variety of topics. \n",
    "\n",
    "This notebook is broken into three sections:\n",
    "1. Inspect & Explore the Flickr API\n",
    "2. Data Wrangling\n",
    "3. Visualizing Cultural Ecosystem Services"
   ]
  },
  {
   "cell_type": "code",
   "execution_count": 1,
   "metadata": {},
   "outputs": [],
   "source": [
    "#The first step was to once again call the API function\n",
    "\n",
    "import flickrapi\n",
    "import json\n",
    "\n",
    "api_key = u'f950122b83b682c546201f10d33edffe'\n",
    "api_secret = u'057c65cd7fe1b2c8'\n",
    "\n",
    "#flickr = flickrapi.FlickrAPI(api_key, api_secret)\n",
    "#for json format\n",
    "flickr = flickrapi.FlickrAPI(api_key, api_secret, format='parsed-json')"
   ]
  },
  {
   "cell_type": "markdown",
   "metadata": {},
   "source": [
    "This time we wanted to pull data from all 12 pre-selected parks. Here, we searched by tags identifying each park, then saved into a dataframe "
   ]
  },
  {
   "cell_type": "code",
   "execution_count": 2,
   "metadata": {},
   "outputs": [],
   "source": [
    "import pandas as pd\n",
    "\n",
    "def get_parks(num_pages):\n",
    "    park_list = []\n",
    "    for i in range(1, num_pages+1): #range documentation starts at 0, +1 ensures we pull the page number we feed the function below\n",
    "        extras = 'geo,description,tags'\n",
    "        tags = ['MacArthur Park, Woodley Avenue Park, Rio de Los Angeles State Park, Runyon Canyon, Temescal Gateway, Heidelberg Park, Hancock Park, Franklin Canyon Park, Angels Gate, Coldwater Canyon, Chatsworth Park South, Cheviot Hills, O''Melveny Park']\n",
    "        parks_LA = flickr.photos.search(tags=tags, bbox = '-118.898278,33.704902,-118.161021,34.32848',\n",
    "                                        method_name='flickr', page=i, per_page=500, extras=extras)  \n",
    "        \n",
    "        #.extend combines each page of search results together: https://www.programiz.com/python-programming/methods/list/extend\n",
    "        park_list.extend(parks_LA['photos']['photo']) #pulls data from each individual photo \n",
    "        \n",
    "    #reorients the data and converts to pandas df: https://stackoverflow.com/questions/20638006/convert-list-of-dictionaries-to-a-pandas-dataframe\n",
    "    df = pd.DataFrame.from_dict(park_list, orient='columns') \n",
    "    \n",
    "    return df\n",
    "\n",
    "parks_data = get_parks(12) #pulls data from all 12 pages of photos"
   ]
  },
  {
   "cell_type": "code",
   "execution_count": 3,
   "metadata": {},
   "outputs": [
    {
     "data": {
      "text/html": [
       "<div>\n",
       "<style scoped>\n",
       "    .dataframe tbody tr th:only-of-type {\n",
       "        vertical-align: middle;\n",
       "    }\n",
       "\n",
       "    .dataframe tbody tr th {\n",
       "        vertical-align: top;\n",
       "    }\n",
       "\n",
       "    .dataframe thead th {\n",
       "        text-align: right;\n",
       "    }\n",
       "</style>\n",
       "<table border=\"1\" class=\"dataframe\">\n",
       "  <thead>\n",
       "    <tr style=\"text-align: right;\">\n",
       "      <th></th>\n",
       "      <th>id</th>\n",
       "      <th>owner</th>\n",
       "      <th>secret</th>\n",
       "      <th>server</th>\n",
       "      <th>farm</th>\n",
       "      <th>title</th>\n",
       "      <th>ispublic</th>\n",
       "      <th>isfriend</th>\n",
       "      <th>isfamily</th>\n",
       "      <th>description</th>\n",
       "      <th>...</th>\n",
       "      <th>latitude</th>\n",
       "      <th>longitude</th>\n",
       "      <th>accuracy</th>\n",
       "      <th>context</th>\n",
       "      <th>place_id</th>\n",
       "      <th>woeid</th>\n",
       "      <th>geo_is_public</th>\n",
       "      <th>geo_is_contact</th>\n",
       "      <th>geo_is_friend</th>\n",
       "      <th>geo_is_family</th>\n",
       "    </tr>\n",
       "  </thead>\n",
       "  <tbody>\n",
       "    <tr>\n",
       "      <th>0</th>\n",
       "      <td>49856813066</td>\n",
       "      <td>9771767@N04</td>\n",
       "      <td>83838b7d7b</td>\n",
       "      <td>65535</td>\n",
       "      <td>66</td>\n",
       "      <td>Angel's Gate Park</td>\n",
       "      <td>1</td>\n",
       "      <td>0</td>\n",
       "      <td>0</td>\n",
       "      <td>{'_content': 'Have a wonderful day, everyone...'}</td>\n",
       "      <td>...</td>\n",
       "      <td>33.709932</td>\n",
       "      <td>-118.293882</td>\n",
       "      <td>16</td>\n",
       "      <td>0</td>\n",
       "      <td></td>\n",
       "      <td>5392528</td>\n",
       "      <td>1</td>\n",
       "      <td>0</td>\n",
       "      <td>0</td>\n",
       "      <td>0</td>\n",
       "    </tr>\n",
       "    <tr>\n",
       "      <th>1</th>\n",
       "      <td>51050150612</td>\n",
       "      <td>192454804@N08</td>\n",
       "      <td>d07257b1b3</td>\n",
       "      <td>65535</td>\n",
       "      <td>66</td>\n",
       "      <td>English Home</td>\n",
       "      <td>1</td>\n",
       "      <td>0</td>\n",
       "      <td>0</td>\n",
       "      <td>{'_content': 'English style house in Los Angel...</td>\n",
       "      <td>...</td>\n",
       "      <td>34.074580</td>\n",
       "      <td>-118.334275</td>\n",
       "      <td>16</td>\n",
       "      <td>0</td>\n",
       "      <td></td>\n",
       "      <td>5355165</td>\n",
       "      <td>1</td>\n",
       "      <td>0</td>\n",
       "      <td>0</td>\n",
       "      <td>0</td>\n",
       "    </tr>\n",
       "    <tr>\n",
       "      <th>2</th>\n",
       "      <td>50952829406</td>\n",
       "      <td>77318907@N08</td>\n",
       "      <td>6fe5b8ef3a</td>\n",
       "      <td>65535</td>\n",
       "      <td>66</td>\n",
       "      <td>Angel's Gate Cloudscape</td>\n",
       "      <td>1</td>\n",
       "      <td>0</td>\n",
       "      <td>0</td>\n",
       "      <td>{'_content': 'San Pedro, CA\n",
       "01-02-21'}</td>\n",
       "      <td>...</td>\n",
       "      <td>33.721867</td>\n",
       "      <td>-118.271759</td>\n",
       "      <td>16</td>\n",
       "      <td>0</td>\n",
       "      <td></td>\n",
       "      <td>5392528</td>\n",
       "      <td>1</td>\n",
       "      <td>0</td>\n",
       "      <td>0</td>\n",
       "      <td>0</td>\n",
       "    </tr>\n",
       "    <tr>\n",
       "      <th>3</th>\n",
       "      <td>50952896937</td>\n",
       "      <td>77318907@N08</td>\n",
       "      <td>ebe224b984</td>\n",
       "      <td>65535</td>\n",
       "      <td>66</td>\n",
       "      <td>Harbor Entrance at Sunrise</td>\n",
       "      <td>1</td>\n",
       "      <td>0</td>\n",
       "      <td>0</td>\n",
       "      <td>{'_content': 'The Angel's Gate in San Pedro, C...</td>\n",
       "      <td>...</td>\n",
       "      <td>33.721707</td>\n",
       "      <td>-118.271791</td>\n",
       "      <td>16</td>\n",
       "      <td>0</td>\n",
       "      <td></td>\n",
       "      <td>5392528</td>\n",
       "      <td>1</td>\n",
       "      <td>0</td>\n",
       "      <td>0</td>\n",
       "      <td>0</td>\n",
       "    </tr>\n",
       "    <tr>\n",
       "      <th>4</th>\n",
       "      <td>50474879407</td>\n",
       "      <td>54718757@N00</td>\n",
       "      <td>a011599de5</td>\n",
       "      <td>65535</td>\n",
       "      <td>66</td>\n",
       "      <td>22,834</td>\n",
       "      <td>1</td>\n",
       "      <td>0</td>\n",
       "      <td>0</td>\n",
       "      <td>{'_content': '22,834 smoke on the water, in th...</td>\n",
       "      <td>...</td>\n",
       "      <td>33.732833</td>\n",
       "      <td>-118.317989</td>\n",
       "      <td>16</td>\n",
       "      <td>0</td>\n",
       "      <td></td>\n",
       "      <td>5392544</td>\n",
       "      <td>1</td>\n",
       "      <td>0</td>\n",
       "      <td>0</td>\n",
       "      <td>0</td>\n",
       "    </tr>\n",
       "    <tr>\n",
       "      <th>...</th>\n",
       "      <td>...</td>\n",
       "      <td>...</td>\n",
       "      <td>...</td>\n",
       "      <td>...</td>\n",
       "      <td>...</td>\n",
       "      <td>...</td>\n",
       "      <td>...</td>\n",
       "      <td>...</td>\n",
       "      <td>...</td>\n",
       "      <td>...</td>\n",
       "      <td>...</td>\n",
       "      <td>...</td>\n",
       "      <td>...</td>\n",
       "      <td>...</td>\n",
       "      <td>...</td>\n",
       "      <td>...</td>\n",
       "      <td>...</td>\n",
       "      <td>...</td>\n",
       "      <td>...</td>\n",
       "      <td>...</td>\n",
       "      <td>...</td>\n",
       "    </tr>\n",
       "    <tr>\n",
       "      <th>2745</th>\n",
       "      <td>280833391</td>\n",
       "      <td>67833269@N00</td>\n",
       "      <td>b14241e30a</td>\n",
       "      <td>102</td>\n",
       "      <td>1</td>\n",
       "      <td>Jon Nakamura 10-27-06</td>\n",
       "      <td>1</td>\n",
       "      <td>0</td>\n",
       "      <td>0</td>\n",
       "      <td>{'_content': 'Angels Gate Cultural Center Stud...</td>\n",
       "      <td>...</td>\n",
       "      <td>33.713961</td>\n",
       "      <td>-118.294783</td>\n",
       "      <td>16</td>\n",
       "      <td>0</td>\n",
       "      <td>.D8LiGdQUL_LN4aBcw</td>\n",
       "      <td>12587688</td>\n",
       "      <td>1</td>\n",
       "      <td>0</td>\n",
       "      <td>0</td>\n",
       "      <td>0</td>\n",
       "    </tr>\n",
       "    <tr>\n",
       "      <th>2746</th>\n",
       "      <td>279079416</td>\n",
       "      <td>63348143@N00</td>\n",
       "      <td>4b0eb50c34</td>\n",
       "      <td>103</td>\n",
       "      <td>1</td>\n",
       "      <td>cleavage</td>\n",
       "      <td>1</td>\n",
       "      <td>0</td>\n",
       "      <td>0</td>\n",
       "      <td>{'_content': ''}</td>\n",
       "      <td>...</td>\n",
       "      <td>34.081597</td>\n",
       "      <td>-118.327217</td>\n",
       "      <td>16</td>\n",
       "      <td>0</td>\n",
       "      <td>efoucK5TWr0U1ThAlQ</td>\n",
       "      <td>28751566</td>\n",
       "      <td>1</td>\n",
       "      <td>0</td>\n",
       "      <td>0</td>\n",
       "      <td>0</td>\n",
       "    </tr>\n",
       "    <tr>\n",
       "      <th>2747</th>\n",
       "      <td>279078460</td>\n",
       "      <td>63348143@N00</td>\n",
       "      <td>a8a2f65a8e</td>\n",
       "      <td>90</td>\n",
       "      <td>1</td>\n",
       "      <td>cement</td>\n",
       "      <td>1</td>\n",
       "      <td>0</td>\n",
       "      <td>0</td>\n",
       "      <td>{'_content': ''}</td>\n",
       "      <td>...</td>\n",
       "      <td>34.081597</td>\n",
       "      <td>-118.327217</td>\n",
       "      <td>16</td>\n",
       "      <td>0</td>\n",
       "      <td>efoucK5TWr0U1ThAlQ</td>\n",
       "      <td>28751566</td>\n",
       "      <td>1</td>\n",
       "      <td>0</td>\n",
       "      <td>0</td>\n",
       "      <td>0</td>\n",
       "    </tr>\n",
       "    <tr>\n",
       "      <th>2748</th>\n",
       "      <td>277276618</td>\n",
       "      <td>36521983488@N01</td>\n",
       "      <td>a7a3b3b36f</td>\n",
       "      <td>115</td>\n",
       "      <td>1</td>\n",
       "      <td></td>\n",
       "      <td>1</td>\n",
       "      <td>0</td>\n",
       "      <td>0</td>\n",
       "      <td>{'_content': 'got a ton of pics to upload from...</td>\n",
       "      <td>...</td>\n",
       "      <td>34.108437</td>\n",
       "      <td>-118.213984</td>\n",
       "      <td>16</td>\n",
       "      <td>0</td>\n",
       "      <td>7Z5HMmpTVr4VzDpD</td>\n",
       "      <td>2442047</td>\n",
       "      <td>1</td>\n",
       "      <td>0</td>\n",
       "      <td>0</td>\n",
       "      <td>0</td>\n",
       "    </tr>\n",
       "    <tr>\n",
       "      <th>2749</th>\n",
       "      <td>268727168</td>\n",
       "      <td>67833269@N00</td>\n",
       "      <td>7e9d26d9ed</td>\n",
       "      <td>94</td>\n",
       "      <td>1</td>\n",
       "      <td>intern Mindy Bird</td>\n",
       "      <td>1</td>\n",
       "      <td>0</td>\n",
       "      <td>0</td>\n",
       "      <td>{'_content': ''}</td>\n",
       "      <td>...</td>\n",
       "      <td>33.713430</td>\n",
       "      <td>-118.293313</td>\n",
       "      <td>16</td>\n",
       "      <td>0</td>\n",
       "      <td>.D8LiGdQUL_LN4aBcw</td>\n",
       "      <td>12587688</td>\n",
       "      <td>1</td>\n",
       "      <td>0</td>\n",
       "      <td>0</td>\n",
       "      <td>0</td>\n",
       "    </tr>\n",
       "  </tbody>\n",
       "</table>\n",
       "<p>2750 rows × 21 columns</p>\n",
       "</div>"
      ],
      "text/plain": [
       "               id            owner      secret server  farm  \\\n",
       "0     49856813066      9771767@N04  83838b7d7b  65535    66   \n",
       "1     51050150612    192454804@N08  d07257b1b3  65535    66   \n",
       "2     50952829406     77318907@N08  6fe5b8ef3a  65535    66   \n",
       "3     50952896937     77318907@N08  ebe224b984  65535    66   \n",
       "4     50474879407     54718757@N00  a011599de5  65535    66   \n",
       "...           ...              ...         ...    ...   ...   \n",
       "2745    280833391     67833269@N00  b14241e30a    102     1   \n",
       "2746    279079416     63348143@N00  4b0eb50c34    103     1   \n",
       "2747    279078460     63348143@N00  a8a2f65a8e     90     1   \n",
       "2748    277276618  36521983488@N01  a7a3b3b36f    115     1   \n",
       "2749    268727168     67833269@N00  7e9d26d9ed     94     1   \n",
       "\n",
       "                           title  ispublic  isfriend  isfamily  \\\n",
       "0              Angel's Gate Park         1         0         0   \n",
       "1                   English Home         1         0         0   \n",
       "2        Angel's Gate Cloudscape         1         0         0   \n",
       "3     Harbor Entrance at Sunrise         1         0         0   \n",
       "4                         22,834         1         0         0   \n",
       "...                          ...       ...       ...       ...   \n",
       "2745       Jon Nakamura 10-27-06         1         0         0   \n",
       "2746                    cleavage         1         0         0   \n",
       "2747                      cement         1         0         0   \n",
       "2748                                     1         0         0   \n",
       "2749           intern Mindy Bird         1         0         0   \n",
       "\n",
       "                                            description  ...   latitude  \\\n",
       "0     {'_content': 'Have a wonderful day, everyone...'}  ...  33.709932   \n",
       "1     {'_content': 'English style house in Los Angel...  ...  34.074580   \n",
       "2                {'_content': 'San Pedro, CA\n",
       "01-02-21'}  ...  33.721867   \n",
       "3     {'_content': 'The Angel's Gate in San Pedro, C...  ...  33.721707   \n",
       "4     {'_content': '22,834 smoke on the water, in th...  ...  33.732833   \n",
       "...                                                 ...  ...        ...   \n",
       "2745  {'_content': 'Angels Gate Cultural Center Stud...  ...  33.713961   \n",
       "2746                                   {'_content': ''}  ...  34.081597   \n",
       "2747                                   {'_content': ''}  ...  34.081597   \n",
       "2748  {'_content': 'got a ton of pics to upload from...  ...  34.108437   \n",
       "2749                                   {'_content': ''}  ...  33.713430   \n",
       "\n",
       "        longitude accuracy context            place_id     woeid  \\\n",
       "0     -118.293882       16       0                       5392528   \n",
       "1     -118.334275       16       0                       5355165   \n",
       "2     -118.271759       16       0                       5392528   \n",
       "3     -118.271791       16       0                       5392528   \n",
       "4     -118.317989       16       0                       5392544   \n",
       "...           ...      ...     ...                 ...       ...   \n",
       "2745  -118.294783       16       0  .D8LiGdQUL_LN4aBcw  12587688   \n",
       "2746  -118.327217       16       0  efoucK5TWr0U1ThAlQ  28751566   \n",
       "2747  -118.327217       16       0  efoucK5TWr0U1ThAlQ  28751566   \n",
       "2748  -118.213984       16       0    7Z5HMmpTVr4VzDpD   2442047   \n",
       "2749  -118.293313       16       0  .D8LiGdQUL_LN4aBcw  12587688   \n",
       "\n",
       "     geo_is_public  geo_is_contact  geo_is_friend  geo_is_family  \n",
       "0                1               0              0              0  \n",
       "1                1               0              0              0  \n",
       "2                1               0              0              0  \n",
       "3                1               0              0              0  \n",
       "4                1               0              0              0  \n",
       "...            ...             ...            ...            ...  \n",
       "2745             1               0              0              0  \n",
       "2746             1               0              0              0  \n",
       "2747             1               0              0              0  \n",
       "2748             1               0              0              0  \n",
       "2749             1               0              0              0  \n",
       "\n",
       "[2750 rows x 21 columns]"
      ]
     },
     "execution_count": 3,
     "metadata": {},
     "output_type": "execute_result"
    }
   ],
   "source": [
    "#checking the dataframe \n",
    "parks_data"
   ]
  },
  {
   "cell_type": "markdown",
   "metadata": {},
   "source": [
    "The next step was to create a new column and assign the park name to that column so that we could more easily track tags as they relate to specific parks."
   ]
  },
  {
   "cell_type": "code",
   "execution_count": 4,
   "metadata": {},
   "outputs": [],
   "source": [
    "# Create a new column and assign the park name \n",
    "park_names = ['macarthur', 'woodley', 'riodelosangeles', 'runyoncanyon', 'temescalgateway', 'heidelbergpark', 'hancockpark', 'franklincanyonpark', 'angelsgate', 'coldwatercanyon', 'chatsworthparksouth','cheviothills']\n",
    "\n",
    "def get_park_name(row):\n",
    "    for park in park_names:\n",
    "        if park in row['tags']:\n",
    "            return park\n",
    "    return 'Unknown'\n",
    "\n",
    "parks_data['parkname'] = parks_data.apply(lambda row: get_park_name(row), axis=1)"
   ]
  },
  {
   "cell_type": "code",
   "execution_count": 5,
   "metadata": {
    "scrolled": true
   },
   "outputs": [
    {
     "data": {
      "text/html": [
       "<div>\n",
       "<style scoped>\n",
       "    .dataframe tbody tr th:only-of-type {\n",
       "        vertical-align: middle;\n",
       "    }\n",
       "\n",
       "    .dataframe tbody tr th {\n",
       "        vertical-align: top;\n",
       "    }\n",
       "\n",
       "    .dataframe thead th {\n",
       "        text-align: right;\n",
       "    }\n",
       "</style>\n",
       "<table border=\"1\" class=\"dataframe\">\n",
       "  <thead>\n",
       "    <tr style=\"text-align: right;\">\n",
       "      <th></th>\n",
       "      <th>id</th>\n",
       "      <th>owner</th>\n",
       "      <th>secret</th>\n",
       "      <th>server</th>\n",
       "      <th>farm</th>\n",
       "      <th>title</th>\n",
       "      <th>ispublic</th>\n",
       "      <th>isfriend</th>\n",
       "      <th>isfamily</th>\n",
       "      <th>description</th>\n",
       "      <th>...</th>\n",
       "      <th>longitude</th>\n",
       "      <th>accuracy</th>\n",
       "      <th>context</th>\n",
       "      <th>place_id</th>\n",
       "      <th>woeid</th>\n",
       "      <th>geo_is_public</th>\n",
       "      <th>geo_is_contact</th>\n",
       "      <th>geo_is_friend</th>\n",
       "      <th>geo_is_family</th>\n",
       "      <th>parkname</th>\n",
       "    </tr>\n",
       "  </thead>\n",
       "  <tbody>\n",
       "    <tr>\n",
       "      <th>0</th>\n",
       "      <td>49856813066</td>\n",
       "      <td>9771767@N04</td>\n",
       "      <td>83838b7d7b</td>\n",
       "      <td>65535</td>\n",
       "      <td>66</td>\n",
       "      <td>Angel's Gate Park</td>\n",
       "      <td>1</td>\n",
       "      <td>0</td>\n",
       "      <td>0</td>\n",
       "      <td>{'_content': 'Have a wonderful day, everyone...'}</td>\n",
       "      <td>...</td>\n",
       "      <td>-118.293882</td>\n",
       "      <td>16</td>\n",
       "      <td>0</td>\n",
       "      <td></td>\n",
       "      <td>5392528</td>\n",
       "      <td>1</td>\n",
       "      <td>0</td>\n",
       "      <td>0</td>\n",
       "      <td>0</td>\n",
       "      <td>angelsgate</td>\n",
       "    </tr>\n",
       "    <tr>\n",
       "      <th>1</th>\n",
       "      <td>51050150612</td>\n",
       "      <td>192454804@N08</td>\n",
       "      <td>d07257b1b3</td>\n",
       "      <td>65535</td>\n",
       "      <td>66</td>\n",
       "      <td>English Home</td>\n",
       "      <td>1</td>\n",
       "      <td>0</td>\n",
       "      <td>0</td>\n",
       "      <td>{'_content': 'English style house in Los Angel...</td>\n",
       "      <td>...</td>\n",
       "      <td>-118.334275</td>\n",
       "      <td>16</td>\n",
       "      <td>0</td>\n",
       "      <td></td>\n",
       "      <td>5355165</td>\n",
       "      <td>1</td>\n",
       "      <td>0</td>\n",
       "      <td>0</td>\n",
       "      <td>0</td>\n",
       "      <td>hancockpark</td>\n",
       "    </tr>\n",
       "    <tr>\n",
       "      <th>2</th>\n",
       "      <td>50952829406</td>\n",
       "      <td>77318907@N08</td>\n",
       "      <td>6fe5b8ef3a</td>\n",
       "      <td>65535</td>\n",
       "      <td>66</td>\n",
       "      <td>Angel's Gate Cloudscape</td>\n",
       "      <td>1</td>\n",
       "      <td>0</td>\n",
       "      <td>0</td>\n",
       "      <td>{'_content': 'San Pedro, CA\n",
       "01-02-21'}</td>\n",
       "      <td>...</td>\n",
       "      <td>-118.271759</td>\n",
       "      <td>16</td>\n",
       "      <td>0</td>\n",
       "      <td></td>\n",
       "      <td>5392528</td>\n",
       "      <td>1</td>\n",
       "      <td>0</td>\n",
       "      <td>0</td>\n",
       "      <td>0</td>\n",
       "      <td>angelsgate</td>\n",
       "    </tr>\n",
       "    <tr>\n",
       "      <th>3</th>\n",
       "      <td>50952896937</td>\n",
       "      <td>77318907@N08</td>\n",
       "      <td>ebe224b984</td>\n",
       "      <td>65535</td>\n",
       "      <td>66</td>\n",
       "      <td>Harbor Entrance at Sunrise</td>\n",
       "      <td>1</td>\n",
       "      <td>0</td>\n",
       "      <td>0</td>\n",
       "      <td>{'_content': 'The Angel's Gate in San Pedro, C...</td>\n",
       "      <td>...</td>\n",
       "      <td>-118.271791</td>\n",
       "      <td>16</td>\n",
       "      <td>0</td>\n",
       "      <td></td>\n",
       "      <td>5392528</td>\n",
       "      <td>1</td>\n",
       "      <td>0</td>\n",
       "      <td>0</td>\n",
       "      <td>0</td>\n",
       "      <td>angelsgate</td>\n",
       "    </tr>\n",
       "    <tr>\n",
       "      <th>4</th>\n",
       "      <td>50474879407</td>\n",
       "      <td>54718757@N00</td>\n",
       "      <td>a011599de5</td>\n",
       "      <td>65535</td>\n",
       "      <td>66</td>\n",
       "      <td>22,834</td>\n",
       "      <td>1</td>\n",
       "      <td>0</td>\n",
       "      <td>0</td>\n",
       "      <td>{'_content': '22,834 smoke on the water, in th...</td>\n",
       "      <td>...</td>\n",
       "      <td>-118.317989</td>\n",
       "      <td>16</td>\n",
       "      <td>0</td>\n",
       "      <td></td>\n",
       "      <td>5392544</td>\n",
       "      <td>1</td>\n",
       "      <td>0</td>\n",
       "      <td>0</td>\n",
       "      <td>0</td>\n",
       "      <td>angelsgate</td>\n",
       "    </tr>\n",
       "    <tr>\n",
       "      <th>...</th>\n",
       "      <td>...</td>\n",
       "      <td>...</td>\n",
       "      <td>...</td>\n",
       "      <td>...</td>\n",
       "      <td>...</td>\n",
       "      <td>...</td>\n",
       "      <td>...</td>\n",
       "      <td>...</td>\n",
       "      <td>...</td>\n",
       "      <td>...</td>\n",
       "      <td>...</td>\n",
       "      <td>...</td>\n",
       "      <td>...</td>\n",
       "      <td>...</td>\n",
       "      <td>...</td>\n",
       "      <td>...</td>\n",
       "      <td>...</td>\n",
       "      <td>...</td>\n",
       "      <td>...</td>\n",
       "      <td>...</td>\n",
       "      <td>...</td>\n",
       "    </tr>\n",
       "    <tr>\n",
       "      <th>2745</th>\n",
       "      <td>280833391</td>\n",
       "      <td>67833269@N00</td>\n",
       "      <td>b14241e30a</td>\n",
       "      <td>102</td>\n",
       "      <td>1</td>\n",
       "      <td>Jon Nakamura 10-27-06</td>\n",
       "      <td>1</td>\n",
       "      <td>0</td>\n",
       "      <td>0</td>\n",
       "      <td>{'_content': 'Angels Gate Cultural Center Stud...</td>\n",
       "      <td>...</td>\n",
       "      <td>-118.294783</td>\n",
       "      <td>16</td>\n",
       "      <td>0</td>\n",
       "      <td>.D8LiGdQUL_LN4aBcw</td>\n",
       "      <td>12587688</td>\n",
       "      <td>1</td>\n",
       "      <td>0</td>\n",
       "      <td>0</td>\n",
       "      <td>0</td>\n",
       "      <td>angelsgate</td>\n",
       "    </tr>\n",
       "    <tr>\n",
       "      <th>2746</th>\n",
       "      <td>279079416</td>\n",
       "      <td>63348143@N00</td>\n",
       "      <td>4b0eb50c34</td>\n",
       "      <td>103</td>\n",
       "      <td>1</td>\n",
       "      <td>cleavage</td>\n",
       "      <td>1</td>\n",
       "      <td>0</td>\n",
       "      <td>0</td>\n",
       "      <td>{'_content': ''}</td>\n",
       "      <td>...</td>\n",
       "      <td>-118.327217</td>\n",
       "      <td>16</td>\n",
       "      <td>0</td>\n",
       "      <td>efoucK5TWr0U1ThAlQ</td>\n",
       "      <td>28751566</td>\n",
       "      <td>1</td>\n",
       "      <td>0</td>\n",
       "      <td>0</td>\n",
       "      <td>0</td>\n",
       "      <td>hancockpark</td>\n",
       "    </tr>\n",
       "    <tr>\n",
       "      <th>2747</th>\n",
       "      <td>279078460</td>\n",
       "      <td>63348143@N00</td>\n",
       "      <td>a8a2f65a8e</td>\n",
       "      <td>90</td>\n",
       "      <td>1</td>\n",
       "      <td>cement</td>\n",
       "      <td>1</td>\n",
       "      <td>0</td>\n",
       "      <td>0</td>\n",
       "      <td>{'_content': ''}</td>\n",
       "      <td>...</td>\n",
       "      <td>-118.327217</td>\n",
       "      <td>16</td>\n",
       "      <td>0</td>\n",
       "      <td>efoucK5TWr0U1ThAlQ</td>\n",
       "      <td>28751566</td>\n",
       "      <td>1</td>\n",
       "      <td>0</td>\n",
       "      <td>0</td>\n",
       "      <td>0</td>\n",
       "      <td>hancockpark</td>\n",
       "    </tr>\n",
       "    <tr>\n",
       "      <th>2748</th>\n",
       "      <td>277276618</td>\n",
       "      <td>36521983488@N01</td>\n",
       "      <td>a7a3b3b36f</td>\n",
       "      <td>115</td>\n",
       "      <td>1</td>\n",
       "      <td></td>\n",
       "      <td>1</td>\n",
       "      <td>0</td>\n",
       "      <td>0</td>\n",
       "      <td>{'_content': 'got a ton of pics to upload from...</td>\n",
       "      <td>...</td>\n",
       "      <td>-118.213984</td>\n",
       "      <td>16</td>\n",
       "      <td>0</td>\n",
       "      <td>7Z5HMmpTVr4VzDpD</td>\n",
       "      <td>2442047</td>\n",
       "      <td>1</td>\n",
       "      <td>0</td>\n",
       "      <td>0</td>\n",
       "      <td>0</td>\n",
       "      <td>heidelbergpark</td>\n",
       "    </tr>\n",
       "    <tr>\n",
       "      <th>2749</th>\n",
       "      <td>268727168</td>\n",
       "      <td>67833269@N00</td>\n",
       "      <td>7e9d26d9ed</td>\n",
       "      <td>94</td>\n",
       "      <td>1</td>\n",
       "      <td>intern Mindy Bird</td>\n",
       "      <td>1</td>\n",
       "      <td>0</td>\n",
       "      <td>0</td>\n",
       "      <td>{'_content': ''}</td>\n",
       "      <td>...</td>\n",
       "      <td>-118.293313</td>\n",
       "      <td>16</td>\n",
       "      <td>0</td>\n",
       "      <td>.D8LiGdQUL_LN4aBcw</td>\n",
       "      <td>12587688</td>\n",
       "      <td>1</td>\n",
       "      <td>0</td>\n",
       "      <td>0</td>\n",
       "      <td>0</td>\n",
       "      <td>angelsgate</td>\n",
       "    </tr>\n",
       "  </tbody>\n",
       "</table>\n",
       "<p>2750 rows × 22 columns</p>\n",
       "</div>"
      ],
      "text/plain": [
       "               id            owner      secret server  farm  \\\n",
       "0     49856813066      9771767@N04  83838b7d7b  65535    66   \n",
       "1     51050150612    192454804@N08  d07257b1b3  65535    66   \n",
       "2     50952829406     77318907@N08  6fe5b8ef3a  65535    66   \n",
       "3     50952896937     77318907@N08  ebe224b984  65535    66   \n",
       "4     50474879407     54718757@N00  a011599de5  65535    66   \n",
       "...           ...              ...         ...    ...   ...   \n",
       "2745    280833391     67833269@N00  b14241e30a    102     1   \n",
       "2746    279079416     63348143@N00  4b0eb50c34    103     1   \n",
       "2747    279078460     63348143@N00  a8a2f65a8e     90     1   \n",
       "2748    277276618  36521983488@N01  a7a3b3b36f    115     1   \n",
       "2749    268727168     67833269@N00  7e9d26d9ed     94     1   \n",
       "\n",
       "                           title  ispublic  isfriend  isfamily  \\\n",
       "0              Angel's Gate Park         1         0         0   \n",
       "1                   English Home         1         0         0   \n",
       "2        Angel's Gate Cloudscape         1         0         0   \n",
       "3     Harbor Entrance at Sunrise         1         0         0   \n",
       "4                         22,834         1         0         0   \n",
       "...                          ...       ...       ...       ...   \n",
       "2745       Jon Nakamura 10-27-06         1         0         0   \n",
       "2746                    cleavage         1         0         0   \n",
       "2747                      cement         1         0         0   \n",
       "2748                                     1         0         0   \n",
       "2749           intern Mindy Bird         1         0         0   \n",
       "\n",
       "                                            description  ...    longitude  \\\n",
       "0     {'_content': 'Have a wonderful day, everyone...'}  ...  -118.293882   \n",
       "1     {'_content': 'English style house in Los Angel...  ...  -118.334275   \n",
       "2                {'_content': 'San Pedro, CA\n",
       "01-02-21'}  ...  -118.271759   \n",
       "3     {'_content': 'The Angel's Gate in San Pedro, C...  ...  -118.271791   \n",
       "4     {'_content': '22,834 smoke on the water, in th...  ...  -118.317989   \n",
       "...                                                 ...  ...          ...   \n",
       "2745  {'_content': 'Angels Gate Cultural Center Stud...  ...  -118.294783   \n",
       "2746                                   {'_content': ''}  ...  -118.327217   \n",
       "2747                                   {'_content': ''}  ...  -118.327217   \n",
       "2748  {'_content': 'got a ton of pics to upload from...  ...  -118.213984   \n",
       "2749                                   {'_content': ''}  ...  -118.293313   \n",
       "\n",
       "     accuracy context            place_id     woeid geo_is_public  \\\n",
       "0          16       0                       5392528             1   \n",
       "1          16       0                       5355165             1   \n",
       "2          16       0                       5392528             1   \n",
       "3          16       0                       5392528             1   \n",
       "4          16       0                       5392544             1   \n",
       "...       ...     ...                 ...       ...           ...   \n",
       "2745       16       0  .D8LiGdQUL_LN4aBcw  12587688             1   \n",
       "2746       16       0  efoucK5TWr0U1ThAlQ  28751566             1   \n",
       "2747       16       0  efoucK5TWr0U1ThAlQ  28751566             1   \n",
       "2748       16       0    7Z5HMmpTVr4VzDpD   2442047             1   \n",
       "2749       16       0  .D8LiGdQUL_LN4aBcw  12587688             1   \n",
       "\n",
       "     geo_is_contact  geo_is_friend  geo_is_family        parkname  \n",
       "0                 0              0              0      angelsgate  \n",
       "1                 0              0              0     hancockpark  \n",
       "2                 0              0              0      angelsgate  \n",
       "3                 0              0              0      angelsgate  \n",
       "4                 0              0              0      angelsgate  \n",
       "...             ...            ...            ...             ...  \n",
       "2745              0              0              0      angelsgate  \n",
       "2746              0              0              0     hancockpark  \n",
       "2747              0              0              0     hancockpark  \n",
       "2748              0              0              0  heidelbergpark  \n",
       "2749              0              0              0      angelsgate  \n",
       "\n",
       "[2750 rows x 22 columns]"
      ]
     },
     "execution_count": 5,
     "metadata": {},
     "output_type": "execute_result"
    }
   ],
   "source": [
    "#checking our work\n",
    "parks_data"
   ]
  },
  {
   "cell_type": "code",
   "execution_count": 6,
   "metadata": {},
   "outputs": [],
   "source": [
    "#save to a CSV file so we do not have to keep pulling from Flickr\n",
    "\n",
    "parks_data.to_csv('parks_data.csv', index=False)  "
   ]
  },
  {
   "cell_type": "markdown",
   "metadata": {},
   "source": [
    "Next we take a look at the tags to determine how best to clean them up. "
   ]
  },
  {
   "cell_type": "code",
   "execution_count": 70,
   "metadata": {},
   "outputs": [
    {
     "data": {
      "text/html": [
       "<div>\n",
       "<style scoped>\n",
       "    .dataframe tbody tr th:only-of-type {\n",
       "        vertical-align: middle;\n",
       "    }\n",
       "\n",
       "    .dataframe tbody tr th {\n",
       "        vertical-align: top;\n",
       "    }\n",
       "\n",
       "    .dataframe thead th {\n",
       "        text-align: right;\n",
       "    }\n",
       "</style>\n",
       "<table border=\"1\" class=\"dataframe\">\n",
       "  <thead>\n",
       "    <tr style=\"text-align: right;\">\n",
       "      <th></th>\n",
       "      <th>id</th>\n",
       "      <th>owner</th>\n",
       "      <th>secret</th>\n",
       "      <th>server</th>\n",
       "      <th>farm</th>\n",
       "      <th>title</th>\n",
       "      <th>ispublic</th>\n",
       "      <th>isfriend</th>\n",
       "      <th>isfamily</th>\n",
       "      <th>description</th>\n",
       "      <th>...</th>\n",
       "      <th>longitude</th>\n",
       "      <th>accuracy</th>\n",
       "      <th>context</th>\n",
       "      <th>place_id</th>\n",
       "      <th>woeid</th>\n",
       "      <th>geo_is_public</th>\n",
       "      <th>geo_is_contact</th>\n",
       "      <th>geo_is_friend</th>\n",
       "      <th>geo_is_family</th>\n",
       "      <th>parkname</th>\n",
       "    </tr>\n",
       "  </thead>\n",
       "  <tbody>\n",
       "    <tr>\n",
       "      <th>0</th>\n",
       "      <td>49856813066</td>\n",
       "      <td>9771767@N04</td>\n",
       "      <td>83838b7d7b</td>\n",
       "      <td>65535</td>\n",
       "      <td>66</td>\n",
       "      <td>Angel's Gate Park</td>\n",
       "      <td>1</td>\n",
       "      <td>0</td>\n",
       "      <td>0</td>\n",
       "      <td>{'_content': 'Have a wonderful day, everyone...'}</td>\n",
       "      <td>...</td>\n",
       "      <td>-118.293882</td>\n",
       "      <td>16</td>\n",
       "      <td>0</td>\n",
       "      <td>NaN</td>\n",
       "      <td>5392528.0</td>\n",
       "      <td>1</td>\n",
       "      <td>0</td>\n",
       "      <td>0</td>\n",
       "      <td>0</td>\n",
       "      <td>angelsgate</td>\n",
       "    </tr>\n",
       "    <tr>\n",
       "      <th>1</th>\n",
       "      <td>51050150612</td>\n",
       "      <td>192454804@N08</td>\n",
       "      <td>d07257b1b3</td>\n",
       "      <td>65535</td>\n",
       "      <td>66</td>\n",
       "      <td>English Home</td>\n",
       "      <td>1</td>\n",
       "      <td>0</td>\n",
       "      <td>0</td>\n",
       "      <td>{'_content': 'English style house in Los Angel...</td>\n",
       "      <td>...</td>\n",
       "      <td>-118.334275</td>\n",
       "      <td>16</td>\n",
       "      <td>0</td>\n",
       "      <td>NaN</td>\n",
       "      <td>5355165.0</td>\n",
       "      <td>1</td>\n",
       "      <td>0</td>\n",
       "      <td>0</td>\n",
       "      <td>0</td>\n",
       "      <td>hancockpark</td>\n",
       "    </tr>\n",
       "    <tr>\n",
       "      <th>2</th>\n",
       "      <td>50952829406</td>\n",
       "      <td>77318907@N08</td>\n",
       "      <td>6fe5b8ef3a</td>\n",
       "      <td>65535</td>\n",
       "      <td>66</td>\n",
       "      <td>Angel's Gate Cloudscape</td>\n",
       "      <td>1</td>\n",
       "      <td>0</td>\n",
       "      <td>0</td>\n",
       "      <td>{'_content': 'San Pedro, CA\\n01-02-21'}</td>\n",
       "      <td>...</td>\n",
       "      <td>-118.271759</td>\n",
       "      <td>16</td>\n",
       "      <td>0</td>\n",
       "      <td>NaN</td>\n",
       "      <td>5392528.0</td>\n",
       "      <td>1</td>\n",
       "      <td>0</td>\n",
       "      <td>0</td>\n",
       "      <td>0</td>\n",
       "      <td>angelsgate</td>\n",
       "    </tr>\n",
       "    <tr>\n",
       "      <th>3</th>\n",
       "      <td>50952896937</td>\n",
       "      <td>77318907@N08</td>\n",
       "      <td>ebe224b984</td>\n",
       "      <td>65535</td>\n",
       "      <td>66</td>\n",
       "      <td>Harbor Entrance at Sunrise</td>\n",
       "      <td>1</td>\n",
       "      <td>0</td>\n",
       "      <td>0</td>\n",
       "      <td>{'_content': \"The Angel's Gate in San Pedro, C...</td>\n",
       "      <td>...</td>\n",
       "      <td>-118.271791</td>\n",
       "      <td>16</td>\n",
       "      <td>0</td>\n",
       "      <td>NaN</td>\n",
       "      <td>5392528.0</td>\n",
       "      <td>1</td>\n",
       "      <td>0</td>\n",
       "      <td>0</td>\n",
       "      <td>0</td>\n",
       "      <td>angelsgate</td>\n",
       "    </tr>\n",
       "    <tr>\n",
       "      <th>4</th>\n",
       "      <td>50474879407</td>\n",
       "      <td>54718757@N00</td>\n",
       "      <td>a011599de5</td>\n",
       "      <td>65535</td>\n",
       "      <td>66</td>\n",
       "      <td>22,834</td>\n",
       "      <td>1</td>\n",
       "      <td>0</td>\n",
       "      <td>0</td>\n",
       "      <td>{'_content': '22,834 smoke on the water, in th...</td>\n",
       "      <td>...</td>\n",
       "      <td>-118.317989</td>\n",
       "      <td>16</td>\n",
       "      <td>0</td>\n",
       "      <td>NaN</td>\n",
       "      <td>5392544.0</td>\n",
       "      <td>1</td>\n",
       "      <td>0</td>\n",
       "      <td>0</td>\n",
       "      <td>0</td>\n",
       "      <td>angelsgate</td>\n",
       "    </tr>\n",
       "  </tbody>\n",
       "</table>\n",
       "<p>5 rows × 22 columns</p>\n",
       "</div>"
      ],
      "text/plain": [
       "            id          owner      secret  server  farm  \\\n",
       "0  49856813066    9771767@N04  83838b7d7b   65535    66   \n",
       "1  51050150612  192454804@N08  d07257b1b3   65535    66   \n",
       "2  50952829406   77318907@N08  6fe5b8ef3a   65535    66   \n",
       "3  50952896937   77318907@N08  ebe224b984   65535    66   \n",
       "4  50474879407   54718757@N00  a011599de5   65535    66   \n",
       "\n",
       "                        title  ispublic  isfriend  isfamily  \\\n",
       "0           Angel's Gate Park         1         0         0   \n",
       "1                English Home         1         0         0   \n",
       "2     Angel's Gate Cloudscape         1         0         0   \n",
       "3  Harbor Entrance at Sunrise         1         0         0   \n",
       "4                      22,834         1         0         0   \n",
       "\n",
       "                                         description  ...   longitude  \\\n",
       "0  {'_content': 'Have a wonderful day, everyone...'}  ... -118.293882   \n",
       "1  {'_content': 'English style house in Los Angel...  ... -118.334275   \n",
       "2            {'_content': 'San Pedro, CA\\n01-02-21'}  ... -118.271759   \n",
       "3  {'_content': \"The Angel's Gate in San Pedro, C...  ... -118.271791   \n",
       "4  {'_content': '22,834 smoke on the water, in th...  ... -118.317989   \n",
       "\n",
       "   accuracy  context  place_id      woeid geo_is_public  geo_is_contact  \\\n",
       "0        16        0       NaN  5392528.0             1               0   \n",
       "1        16        0       NaN  5355165.0             1               0   \n",
       "2        16        0       NaN  5392528.0             1               0   \n",
       "3        16        0       NaN  5392528.0             1               0   \n",
       "4        16        0       NaN  5392544.0             1               0   \n",
       "\n",
       "   geo_is_friend  geo_is_family     parkname  \n",
       "0              0              0   angelsgate  \n",
       "1              0              0  hancockpark  \n",
       "2              0              0   angelsgate  \n",
       "3              0              0   angelsgate  \n",
       "4              0              0   angelsgate  \n",
       "\n",
       "[5 rows x 22 columns]"
      ]
     },
     "execution_count": 70,
     "metadata": {},
     "output_type": "execute_result"
    }
   ],
   "source": [
    "#importing parks csv\n",
    "import pandas as pd\n",
    "\n",
    "# You might need to add a path as well\n",
    "fn = 'parks_data.csv'\n",
    "parks_data = pd.read_csv(fn)\n",
    "parks_data.head()"
   ]
  },
  {
   "cell_type": "code",
   "execution_count": 71,
   "metadata": {},
   "outputs": [
    {
     "data": {
      "text/html": [
       "<div>\n",
       "<style scoped>\n",
       "    .dataframe tbody tr th:only-of-type {\n",
       "        vertical-align: middle;\n",
       "    }\n",
       "\n",
       "    .dataframe tbody tr th {\n",
       "        vertical-align: top;\n",
       "    }\n",
       "\n",
       "    .dataframe thead th {\n",
       "        text-align: right;\n",
       "    }\n",
       "</style>\n",
       "<table border=\"1\" class=\"dataframe\">\n",
       "  <thead>\n",
       "    <tr style=\"text-align: right;\">\n",
       "      <th></th>\n",
       "      <th>id</th>\n",
       "      <th>owner</th>\n",
       "      <th>secret</th>\n",
       "      <th>server</th>\n",
       "      <th>farm</th>\n",
       "      <th>title</th>\n",
       "      <th>ispublic</th>\n",
       "      <th>isfriend</th>\n",
       "      <th>isfamily</th>\n",
       "      <th>description</th>\n",
       "      <th>...</th>\n",
       "      <th>longitude</th>\n",
       "      <th>accuracy</th>\n",
       "      <th>context</th>\n",
       "      <th>place_id</th>\n",
       "      <th>woeid</th>\n",
       "      <th>geo_is_public</th>\n",
       "      <th>geo_is_contact</th>\n",
       "      <th>geo_is_friend</th>\n",
       "      <th>geo_is_family</th>\n",
       "      <th>parkname</th>\n",
       "    </tr>\n",
       "  </thead>\n",
       "  <tbody>\n",
       "    <tr>\n",
       "      <th>0</th>\n",
       "      <td>49856813066</td>\n",
       "      <td>9771767@N04</td>\n",
       "      <td>83838b7d7b</td>\n",
       "      <td>65535</td>\n",
       "      <td>66</td>\n",
       "      <td>Angel's Gate Park</td>\n",
       "      <td>1</td>\n",
       "      <td>0</td>\n",
       "      <td>0</td>\n",
       "      <td>{'_content': 'Have a wonderful day, everyone...'}</td>\n",
       "      <td>...</td>\n",
       "      <td>-118.293882</td>\n",
       "      <td>16</td>\n",
       "      <td>0</td>\n",
       "      <td>NaN</td>\n",
       "      <td>5392528.0</td>\n",
       "      <td>1</td>\n",
       "      <td>0</td>\n",
       "      <td>0</td>\n",
       "      <td>0</td>\n",
       "      <td>angelsgate</td>\n",
       "    </tr>\n",
       "    <tr>\n",
       "      <th>1</th>\n",
       "      <td>51050150612</td>\n",
       "      <td>192454804@N08</td>\n",
       "      <td>d07257b1b3</td>\n",
       "      <td>65535</td>\n",
       "      <td>66</td>\n",
       "      <td>English Home</td>\n",
       "      <td>1</td>\n",
       "      <td>0</td>\n",
       "      <td>0</td>\n",
       "      <td>{'_content': 'English style house in Los Angel...</td>\n",
       "      <td>...</td>\n",
       "      <td>-118.334275</td>\n",
       "      <td>16</td>\n",
       "      <td>0</td>\n",
       "      <td>NaN</td>\n",
       "      <td>5355165.0</td>\n",
       "      <td>1</td>\n",
       "      <td>0</td>\n",
       "      <td>0</td>\n",
       "      <td>0</td>\n",
       "      <td>hancockpark</td>\n",
       "    </tr>\n",
       "    <tr>\n",
       "      <th>2</th>\n",
       "      <td>50952829406</td>\n",
       "      <td>77318907@N08</td>\n",
       "      <td>6fe5b8ef3a</td>\n",
       "      <td>65535</td>\n",
       "      <td>66</td>\n",
       "      <td>Angel's Gate Cloudscape</td>\n",
       "      <td>1</td>\n",
       "      <td>0</td>\n",
       "      <td>0</td>\n",
       "      <td>{'_content': 'San Pedro, CA\\n01-02-21'}</td>\n",
       "      <td>...</td>\n",
       "      <td>-118.271759</td>\n",
       "      <td>16</td>\n",
       "      <td>0</td>\n",
       "      <td>NaN</td>\n",
       "      <td>5392528.0</td>\n",
       "      <td>1</td>\n",
       "      <td>0</td>\n",
       "      <td>0</td>\n",
       "      <td>0</td>\n",
       "      <td>angelsgate</td>\n",
       "    </tr>\n",
       "    <tr>\n",
       "      <th>3</th>\n",
       "      <td>50952896937</td>\n",
       "      <td>77318907@N08</td>\n",
       "      <td>ebe224b984</td>\n",
       "      <td>65535</td>\n",
       "      <td>66</td>\n",
       "      <td>Harbor Entrance at Sunrise</td>\n",
       "      <td>1</td>\n",
       "      <td>0</td>\n",
       "      <td>0</td>\n",
       "      <td>{'_content': \"The Angel's Gate in San Pedro, C...</td>\n",
       "      <td>...</td>\n",
       "      <td>-118.271791</td>\n",
       "      <td>16</td>\n",
       "      <td>0</td>\n",
       "      <td>NaN</td>\n",
       "      <td>5392528.0</td>\n",
       "      <td>1</td>\n",
       "      <td>0</td>\n",
       "      <td>0</td>\n",
       "      <td>0</td>\n",
       "      <td>angelsgate</td>\n",
       "    </tr>\n",
       "    <tr>\n",
       "      <th>4</th>\n",
       "      <td>50474879407</td>\n",
       "      <td>54718757@N00</td>\n",
       "      <td>a011599de5</td>\n",
       "      <td>65535</td>\n",
       "      <td>66</td>\n",
       "      <td>22,834</td>\n",
       "      <td>1</td>\n",
       "      <td>0</td>\n",
       "      <td>0</td>\n",
       "      <td>{'_content': '22,834 smoke on the water, in th...</td>\n",
       "      <td>...</td>\n",
       "      <td>-118.317989</td>\n",
       "      <td>16</td>\n",
       "      <td>0</td>\n",
       "      <td>NaN</td>\n",
       "      <td>5392544.0</td>\n",
       "      <td>1</td>\n",
       "      <td>0</td>\n",
       "      <td>0</td>\n",
       "      <td>0</td>\n",
       "      <td>angelsgate</td>\n",
       "    </tr>\n",
       "    <tr>\n",
       "      <th>...</th>\n",
       "      <td>...</td>\n",
       "      <td>...</td>\n",
       "      <td>...</td>\n",
       "      <td>...</td>\n",
       "      <td>...</td>\n",
       "      <td>...</td>\n",
       "      <td>...</td>\n",
       "      <td>...</td>\n",
       "      <td>...</td>\n",
       "      <td>...</td>\n",
       "      <td>...</td>\n",
       "      <td>...</td>\n",
       "      <td>...</td>\n",
       "      <td>...</td>\n",
       "      <td>...</td>\n",
       "      <td>...</td>\n",
       "      <td>...</td>\n",
       "      <td>...</td>\n",
       "      <td>...</td>\n",
       "      <td>...</td>\n",
       "      <td>...</td>\n",
       "    </tr>\n",
       "    <tr>\n",
       "      <th>2745</th>\n",
       "      <td>280833391</td>\n",
       "      <td>67833269@N00</td>\n",
       "      <td>b14241e30a</td>\n",
       "      <td>102</td>\n",
       "      <td>1</td>\n",
       "      <td>Jon Nakamura 10-27-06</td>\n",
       "      <td>1</td>\n",
       "      <td>0</td>\n",
       "      <td>0</td>\n",
       "      <td>{'_content': 'Angels Gate Cultural Center Stud...</td>\n",
       "      <td>...</td>\n",
       "      <td>-118.294783</td>\n",
       "      <td>16</td>\n",
       "      <td>0</td>\n",
       "      <td>.D8LiGdQUL_LN4aBcw</td>\n",
       "      <td>12587688.0</td>\n",
       "      <td>1</td>\n",
       "      <td>0</td>\n",
       "      <td>0</td>\n",
       "      <td>0</td>\n",
       "      <td>angelsgate</td>\n",
       "    </tr>\n",
       "    <tr>\n",
       "      <th>2746</th>\n",
       "      <td>279079416</td>\n",
       "      <td>63348143@N00</td>\n",
       "      <td>4b0eb50c34</td>\n",
       "      <td>103</td>\n",
       "      <td>1</td>\n",
       "      <td>cleavage</td>\n",
       "      <td>1</td>\n",
       "      <td>0</td>\n",
       "      <td>0</td>\n",
       "      <td>{'_content': ''}</td>\n",
       "      <td>...</td>\n",
       "      <td>-118.327217</td>\n",
       "      <td>16</td>\n",
       "      <td>0</td>\n",
       "      <td>efoucK5TWr0U1ThAlQ</td>\n",
       "      <td>28751566.0</td>\n",
       "      <td>1</td>\n",
       "      <td>0</td>\n",
       "      <td>0</td>\n",
       "      <td>0</td>\n",
       "      <td>hancockpark</td>\n",
       "    </tr>\n",
       "    <tr>\n",
       "      <th>2747</th>\n",
       "      <td>279078460</td>\n",
       "      <td>63348143@N00</td>\n",
       "      <td>a8a2f65a8e</td>\n",
       "      <td>90</td>\n",
       "      <td>1</td>\n",
       "      <td>cement</td>\n",
       "      <td>1</td>\n",
       "      <td>0</td>\n",
       "      <td>0</td>\n",
       "      <td>{'_content': ''}</td>\n",
       "      <td>...</td>\n",
       "      <td>-118.327217</td>\n",
       "      <td>16</td>\n",
       "      <td>0</td>\n",
       "      <td>efoucK5TWr0U1ThAlQ</td>\n",
       "      <td>28751566.0</td>\n",
       "      <td>1</td>\n",
       "      <td>0</td>\n",
       "      <td>0</td>\n",
       "      <td>0</td>\n",
       "      <td>hancockpark</td>\n",
       "    </tr>\n",
       "    <tr>\n",
       "      <th>2748</th>\n",
       "      <td>277276618</td>\n",
       "      <td>36521983488@N01</td>\n",
       "      <td>a7a3b3b36f</td>\n",
       "      <td>115</td>\n",
       "      <td>1</td>\n",
       "      <td>NaN</td>\n",
       "      <td>1</td>\n",
       "      <td>0</td>\n",
       "      <td>0</td>\n",
       "      <td>{'_content': 'got a ton of pics to upload from...</td>\n",
       "      <td>...</td>\n",
       "      <td>-118.213984</td>\n",
       "      <td>16</td>\n",
       "      <td>0</td>\n",
       "      <td>7Z5HMmpTVr4VzDpD</td>\n",
       "      <td>2442047.0</td>\n",
       "      <td>1</td>\n",
       "      <td>0</td>\n",
       "      <td>0</td>\n",
       "      <td>0</td>\n",
       "      <td>heidelbergpark</td>\n",
       "    </tr>\n",
       "    <tr>\n",
       "      <th>2749</th>\n",
       "      <td>268727168</td>\n",
       "      <td>67833269@N00</td>\n",
       "      <td>7e9d26d9ed</td>\n",
       "      <td>94</td>\n",
       "      <td>1</td>\n",
       "      <td>intern Mindy Bird</td>\n",
       "      <td>1</td>\n",
       "      <td>0</td>\n",
       "      <td>0</td>\n",
       "      <td>{'_content': ''}</td>\n",
       "      <td>...</td>\n",
       "      <td>-118.293313</td>\n",
       "      <td>16</td>\n",
       "      <td>0</td>\n",
       "      <td>.D8LiGdQUL_LN4aBcw</td>\n",
       "      <td>12587688.0</td>\n",
       "      <td>1</td>\n",
       "      <td>0</td>\n",
       "      <td>0</td>\n",
       "      <td>0</td>\n",
       "      <td>angelsgate</td>\n",
       "    </tr>\n",
       "  </tbody>\n",
       "</table>\n",
       "<p>2750 rows × 22 columns</p>\n",
       "</div>"
      ],
      "text/plain": [
       "               id            owner      secret  server  farm  \\\n",
       "0     49856813066      9771767@N04  83838b7d7b   65535    66   \n",
       "1     51050150612    192454804@N08  d07257b1b3   65535    66   \n",
       "2     50952829406     77318907@N08  6fe5b8ef3a   65535    66   \n",
       "3     50952896937     77318907@N08  ebe224b984   65535    66   \n",
       "4     50474879407     54718757@N00  a011599de5   65535    66   \n",
       "...           ...              ...         ...     ...   ...   \n",
       "2745    280833391     67833269@N00  b14241e30a     102     1   \n",
       "2746    279079416     63348143@N00  4b0eb50c34     103     1   \n",
       "2747    279078460     63348143@N00  a8a2f65a8e      90     1   \n",
       "2748    277276618  36521983488@N01  a7a3b3b36f     115     1   \n",
       "2749    268727168     67833269@N00  7e9d26d9ed      94     1   \n",
       "\n",
       "                           title  ispublic  isfriend  isfamily  \\\n",
       "0              Angel's Gate Park         1         0         0   \n",
       "1                   English Home         1         0         0   \n",
       "2        Angel's Gate Cloudscape         1         0         0   \n",
       "3     Harbor Entrance at Sunrise         1         0         0   \n",
       "4                         22,834         1         0         0   \n",
       "...                          ...       ...       ...       ...   \n",
       "2745       Jon Nakamura 10-27-06         1         0         0   \n",
       "2746                    cleavage         1         0         0   \n",
       "2747                      cement         1         0         0   \n",
       "2748                         NaN         1         0         0   \n",
       "2749           intern Mindy Bird         1         0         0   \n",
       "\n",
       "                                            description  ...   longitude  \\\n",
       "0     {'_content': 'Have a wonderful day, everyone...'}  ... -118.293882   \n",
       "1     {'_content': 'English style house in Los Angel...  ... -118.334275   \n",
       "2               {'_content': 'San Pedro, CA\\n01-02-21'}  ... -118.271759   \n",
       "3     {'_content': \"The Angel's Gate in San Pedro, C...  ... -118.271791   \n",
       "4     {'_content': '22,834 smoke on the water, in th...  ... -118.317989   \n",
       "...                                                 ...  ...         ...   \n",
       "2745  {'_content': 'Angels Gate Cultural Center Stud...  ... -118.294783   \n",
       "2746                                   {'_content': ''}  ... -118.327217   \n",
       "2747                                   {'_content': ''}  ... -118.327217   \n",
       "2748  {'_content': 'got a ton of pics to upload from...  ... -118.213984   \n",
       "2749                                   {'_content': ''}  ... -118.293313   \n",
       "\n",
       "      accuracy  context            place_id       woeid geo_is_public  \\\n",
       "0           16        0                 NaN   5392528.0             1   \n",
       "1           16        0                 NaN   5355165.0             1   \n",
       "2           16        0                 NaN   5392528.0             1   \n",
       "3           16        0                 NaN   5392528.0             1   \n",
       "4           16        0                 NaN   5392544.0             1   \n",
       "...        ...      ...                 ...         ...           ...   \n",
       "2745        16        0  .D8LiGdQUL_LN4aBcw  12587688.0             1   \n",
       "2746        16        0  efoucK5TWr0U1ThAlQ  28751566.0             1   \n",
       "2747        16        0  efoucK5TWr0U1ThAlQ  28751566.0             1   \n",
       "2748        16        0    7Z5HMmpTVr4VzDpD   2442047.0             1   \n",
       "2749        16        0  .D8LiGdQUL_LN4aBcw  12587688.0             1   \n",
       "\n",
       "      geo_is_contact  geo_is_friend  geo_is_family        parkname  \n",
       "0                  0              0              0      angelsgate  \n",
       "1                  0              0              0     hancockpark  \n",
       "2                  0              0              0      angelsgate  \n",
       "3                  0              0              0      angelsgate  \n",
       "4                  0              0              0      angelsgate  \n",
       "...              ...            ...            ...             ...  \n",
       "2745               0              0              0      angelsgate  \n",
       "2746               0              0              0     hancockpark  \n",
       "2747               0              0              0     hancockpark  \n",
       "2748               0              0              0  heidelbergpark  \n",
       "2749               0              0              0      angelsgate  \n",
       "\n",
       "[2750 rows x 22 columns]"
      ]
     },
     "execution_count": 71,
     "metadata": {},
     "output_type": "execute_result"
    }
   ],
   "source": [
    "#create function to remove stop words, tokenize, convert all text to lowercase, and convert string to list\n",
    "#We also went back and created a list from our tags of common words we did not want to analyze (i.e. losangeles, la, california, etc)\n",
    "\n",
    "import nltk\n",
    "import re\n",
    "from nltk.tokenize import word_tokenize, sent_tokenize\n",
    "from nltk.corpus import stopwords\n",
    "\n",
    "swords = [re.sub(r\"[^A-z\\s]\", \"\", sword) for sword in stopwords.words('english')]\n",
    "swords += ['losangeles', 'la', 'losangelesca', 'ca', 'dtla', 'macarthur', 'macarthurpark', 'woodley', 'riodelosangeles', 'runyoncanyon', \n",
    "           'temescalgateway', 'heidelbergpark', 'hancockpark', 'franklincanyonpark', 'franklincanyonpark', 'angelsgate', \n",
    "           'coldwatercanyon', 'chatsworthparksouth','cheviothills', 'california', 'usa', 'southerncalifornia', 'park', 'parklabrea', \n",
    "          'unitedstates', 'america','us']\n",
    "\n",
    "def clean_string(text):\n",
    "    # remove punctuation\n",
    "    text = re.sub(r\"[^A-z\\s]\", \"\", text)\n",
    "    \n",
    "    cleaned_list_of_words = [word for word in word_tokenize(text.lower()) if word not in swords] #return a string or apply to all tags\n",
    "    \n",
    "    return cleaned_list_of_words\n",
    "\n",
    "#calling the function to only apply to the tags column \n",
    "parks_data['tags'] = parks_data['tags'].apply(clean_string)\n",
    "parks_data"
   ]
  },
  {
   "cell_type": "code",
   "execution_count": 56,
   "metadata": {},
   "outputs": [
    {
     "data": {
      "text/plain": [
       "0       [koreanfriendshipbell, korean, friendshipbell,...\n",
       "1                             [englishhome, architecture]\n",
       "2       [losangelesharbor, sanpedro, sunrise, colorful...\n",
       "3                                      [sanpedro, harbor]\n",
       "4       [jrglongbeach, smoke, water, harbor, hiking, s...\n",
       "                              ...                        \n",
       "2745    [jon, artist, studioartist, agcc, angelsgatecu...\n",
       "2746    [camera, cars, corner, clinton, rudy, tiles, h...\n",
       "2747    [morning, corner, truck, clinton, cement, holl...\n",
       "2748    [auto, car, vw, volkswagen, automobile, conver...\n",
       "2749    [intern, agcc, angelsgateculturalcenter, mindy...\n",
       "Name: tags, Length: 2750, dtype: object"
      ]
     },
     "execution_count": 56,
     "metadata": {},
     "output_type": "execute_result"
    }
   ],
   "source": [
    "# Check to make sure tags are in a list\n",
    "parks_data['tags']"
   ]
  },
  {
   "cell_type": "markdown",
   "metadata": {},
   "source": [
    "For our next step, we needed to break apart the tags so tha no more than one tag is assocated with each park name. To do this, we used the .explode function. When moved each list item (the tags) to a new row. "
   ]
  },
  {
   "cell_type": "code",
   "execution_count": 57,
   "metadata": {},
   "outputs": [],
   "source": [
    "#extend the daraframe by pairing up each individual tag by park name\n",
    "#Source: https://pandas.pydata.org/pandas-docs/stable/reference/api/pandas.DataFrame.explode.html\n",
    "\n",
    "cols = ['tags', 'parkname']\n",
    "tag_park = parks_data[cols].explode('tags', ignore_index=True)"
   ]
  },
  {
   "cell_type": "markdown",
   "metadata": {},
   "source": [
    "Next, we grouped the tags by park name to determine how many tags are associated with each park"
   ]
  },
  {
   "cell_type": "code",
   "execution_count": 11,
   "metadata": {},
   "outputs": [
    {
     "name": "stdout",
     "output_type": "stream",
     "text": [
      "                      tags\n",
      "parkname                  \n",
      "Unknown                126\n",
      "angelsgate            4021\n",
      "chatsworthparksouth     12\n",
      "cheviothills           350\n",
      "coldwatercanyon        213\n",
      "franklincanyonpark     319\n",
      "hancockpark          12242\n",
      "heidelbergpark          11\n",
      "macarthur             3812\n",
      "riodelosangeles        151\n",
      "runyoncanyon          2433\n",
      "temescalgateway          3\n",
      "woodley                 39\n"
     ]
    }
   ],
   "source": [
    "#getting a simple count of tags per park \n",
    "print(tag_park.groupby('parkname').count())"
   ]
  },
  {
   "cell_type": "markdown",
   "metadata": {},
   "source": [
    "Next, we obtained the top 100 most-used tags across all parks."
   ]
  },
  {
   "cell_type": "code",
   "execution_count": 60,
   "metadata": {},
   "outputs": [
    {
     "name": "stdout",
     "output_type": "stream",
     "text": [
      "                                         value\n",
      "tags                                          \n",
      "tarpits                                    562\n",
      "labreatarpits                              443\n",
      "museum                                     355\n",
      "labrea                                     343\n",
      "agcc                                       342\n",
      "art                                        251\n",
      "angelsgateculturalcenter                   241\n",
      "socal                                      241\n",
      "fossils                                    218\n",
      "openstudios                                208\n",
      "bones                                      195\n",
      "hollywood                                  193\n",
      "pagemuseum                                 191\n",
      "westlake                                   185\n",
      "paleontology                               177\n",
      "lacma                                      167\n",
      "animals                                    146\n",
      "real                                       144\n",
      "estate                                     144\n",
      "realestate                                 144\n",
      "mammoths                                   143\n",
      "artonthewaterfront                         142\n",
      "excavation                                 138\n",
      "tigers                                     135\n",
      "giantgroundsloths                          135\n",
      "sabretooth                                 135\n",
      "georgecpagemuseum                          117\n",
      "city                                        97\n",
      "hiking                                      96\n",
      "gay                                         95\n",
      "gettyhouse                                  95\n",
      "mayorantoniovillaraigosa                    95\n",
      "lapride                                     94\n",
      "gaypride                                    94\n",
      "firstever                                   94\n",
      "losangelespride                             94\n",
      "westhollywoodgaypride                       94\n",
      "losangelesmayor                             94\n",
      "lesbian                                     94\n",
      "pride                                       94\n",
      "lgbt                                        94\n",
      "losangelesgaypride                          94\n",
      "lagaypride                                  94\n",
      "gardenparty                                 94\n",
      "westhollywoodpride                          94\n",
      "officialresidenceofthemayoroflosangeles     94\n",
      "june                                        94\n",
      "calvinfleming                               94\n",
      "christopherstreetwest                       94\n",
      "museums                                     91\n",
      "lake                                        91\n",
      "ciclavia                                    90\n",
      "allankaprow                                 81\n",
      "happening                                   81\n",
      "portoflosangeles                            80\n",
      "midcity                                     77\n",
      "losangelescountymuseumofart                 77\n",
      "ice                                         76\n",
      "palmtrees                                   75\n",
      "house                                       74\n",
      "architecture                                74\n",
      "fluids                                      73\n",
      "nikon                                       72\n",
      "urban                                       72\n",
      "sculpture                                   72\n",
      "runyon                                      71\n",
      "gallerya                                    71\n",
      "angelsgatepark                              71\n",
      "pola                                        70\n",
      "sanpedro                                    69\n",
      "people                                      68\n",
      "wilshire                                    67\n",
      "iceblocks                                   65\n",
      "building                                    65\n",
      "pleistocene                                 61\n",
      "fountain                                    61\n",
      "blocksofice                                 61\n",
      "blackandwhite                               61\n",
      "iceage                                      61\n",
      "port                                        58\n",
      "pit                                         57\n",
      "artist                                      55\n",
      "canyon                                      55\n",
      "artgallery                                  54\n",
      "gallery                                     54\n",
      "artexhibition                               53\n",
      "wallofice                                   53\n",
      "rancholabrea                                53\n",
      "tar                                         53\n",
      "fossil                                      52\n",
      "skeletons                                   52\n",
      "downtown                                    51\n",
      "hike                                        50\n",
      "buildings                                   50\n",
      "sky                                         50\n",
      "michaellockephotographer                    49\n",
      "angeles                                     49\n",
      "skulls                                      49\n",
      "michaellockerealtor                         49\n",
      "treasuresoflosangelesarchitecture           49\n"
     ]
    }
   ],
   "source": [
    "#groupby documentation: https://pandas.pydata.org/pandas-docs/stable/reference/api/pandas.DataFrame.groupby.html\n",
    "#sort_values documentation: https://pandas.pydata.org/pandas-docs/stable/reference/api/pandas.DataFrame.sort_values.html\n",
    "\n",
    "#create a new column, value, using a list comprehension, and I'll temporarily fill each row with a value of 1\n",
    "#I added this code because I intially tried to run the below code, and was not getting a separate \"value\" count column so I added this as a temporary fill\n",
    "tag_park['value'] = [1 for i in range(tag_park.shape[0])]\n",
    "\n",
    "#return top 100 most used tags sorted by value\n",
    "top_100_tags = tag_park.groupby('tags').sum().sort_values('value', ascending=False).head(100)\n",
    "\n",
    "#so we can view all tags\n",
    "pd.set_option('display.max_rows', 100)\n",
    "\n",
    "print(top_100_tags)"
   ]
  },
  {
   "cell_type": "code",
   "execution_count": 61,
   "metadata": {},
   "outputs": [],
   "source": [
    "# exporting top 100 tags to a csv for hand coding \n",
    "top_100_tags.to_csv('top_100_tags.csv', index=True)"
   ]
  },
  {
   "cell_type": "code",
   "execution_count": 14,
   "metadata": {},
   "outputs": [
    {
     "name": "stdout",
     "output_type": "stream",
     "text": [
      "                                         value\n",
      "tags                                          \n",
      "tarpits                                    562\n",
      "labreatarpits                              443\n",
      "museum                                     355\n",
      "labrea                                     343\n",
      "agcc                                       342\n",
      "art                                        251\n",
      "angelsgateculturalcenter                   241\n",
      "socal                                      241\n",
      "fossils                                    218\n",
      "openstudios                                208\n",
      "bones                                      195\n",
      "hollywood                                  193\n",
      "pagemuseum                                 191\n",
      "westlake                                   185\n",
      "paleontology                               177\n",
      "lacma                                      167\n",
      "animals                                    146\n",
      "realestate                                 144\n",
      "estate                                     144\n",
      "real                                       144\n",
      "mammoths                                   143\n",
      "artonthewaterfront                         142\n",
      "excavation                                 138\n",
      "giantgroundsloths                          135\n",
      "sabretooth                                 135\n",
      "tigers                                     135\n",
      "georgecpagemuseum                          117\n",
      "city                                        97\n",
      "hiking                                      96\n",
      "gay                                         95\n",
      "gettyhouse                                  95\n",
      "mayorantoniovillaraigosa                    95\n",
      "lapride                                     94\n",
      "losangelespride                             94\n",
      "firstever                                   94\n",
      "losangelesmayor                             94\n",
      "june                                        94\n",
      "losangelesgaypride                          94\n",
      "lesbian                                     94\n",
      "gaypride                                    94\n",
      "lgbt                                        94\n",
      "gardenparty                                 94\n",
      "officialresidenceofthemayoroflosangeles     94\n",
      "calvinfleming                               94\n",
      "lagaypride                                  94\n",
      "christopherstreetwest                       94\n",
      "pride                                       94\n",
      "westhollywoodgaypride                       94\n",
      "westhollywoodpride                          94\n",
      "lake                                        91\n",
      "museums                                     91\n",
      "ciclavia                                    90\n",
      "allankaprow                                 81\n",
      "happening                                   81\n",
      "portoflosangeles                            80\n",
      "losangelescountymuseumofart                 77\n",
      "midcity                                     77\n",
      "ice                                         76\n",
      "palmtrees                                   75\n",
      "house                                       74\n",
      "architecture                                74\n",
      "fluids                                      73\n",
      "urban                                       72\n",
      "sculpture                                   72\n",
      "nikon                                       72\n",
      "runyon                                      71\n",
      "gallerya                                    71\n",
      "angelsgatepark                              71\n",
      "pola                                        70\n",
      "sanpedro                                    69\n",
      "people                                      68\n",
      "wilshire                                    67\n",
      "building                                    65\n",
      "iceblocks                                   65\n",
      "fountain                                    61\n",
      "blackandwhite                               61\n",
      "blocksofice                                 61\n",
      "iceage                                      61\n",
      "pleistocene                                 61\n",
      "port                                        58\n",
      "pit                                         57\n",
      "artist                                      55\n",
      "canyon                                      55\n",
      "artgallery                                  54\n",
      "gallery                                     54\n",
      "us                                          54\n",
      "wallofice                                   53\n",
      "rancholabrea                                53\n",
      "artexhibition                               53\n",
      "tar                                         53\n",
      "fossil                                      52\n",
      "skeletons                                   52\n",
      "downtown                                    51\n",
      "sky                                         50\n",
      "buildings                                   50\n",
      "hike                                        50\n",
      "hancockparkarchitecture                     49\n",
      "michaellocke                                49\n",
      "skulls                                      49\n",
      "michaellockephotographer                    49\n",
      "michaellockerealtor                         49\n",
      "treasuresoflosangelesarchitecture           49\n",
      "angeles                                     49\n",
      "nikond                                      48\n",
      "sabretoothtigers                            48\n",
      "neighborhood                                48\n",
      "sunset                                      48\n",
      "wilshireboulevard                           47\n",
      "downtownlosangeles                          45\n",
      "palms                                       45\n",
      "sign                                        45\n",
      "dtla                                        44\n",
      "kitlens                                     44\n",
      "canondigitalrebelxti                        44\n",
      "wrigley                                     42\n",
      "omelveny                                    42\n",
      "los                                         42\n",
      "omelvenypark                                42\n",
      "community                                   41\n",
      "bikes                                       41\n",
      "mountains                                   40\n",
      "grand                                       40\n",
      "canon                                       40\n",
      "portofla                                    39\n",
      "unitedstatesofamerica                       39\n",
      "skeleton                                    39\n",
      "clouds                                      39\n",
      "attackcat                                   38\n",
      "flickr                                      38\n",
      "intersection                                38\n",
      "parks                                       37\n",
      "corner                                      36\n",
      "bw                                          36\n",
      "rossmore                                    35\n",
      "clinton                                     35\n",
      "palmtree                                    34\n",
      "rally                                       34\n",
      "monochrome                                  34\n",
      "texture                                     34\n",
      "runyoncanyonpark                            33\n",
      "mammoth                                     33\n",
      "rancholabreatarpits                         32\n",
      "statue                                      32\n",
      "nature                                      32\n",
      "landmark                                    32\n",
      "miraclemile                                 32\n",
      "textures                                    32\n",
      "texturemaps                                 32\n",
      "fr                                          32\n",
      "texturemap                                  32\n",
      "portrait                                    32\n",
      "fish                                        31\n",
      "painting                                    31\n",
      "hcm                                         31\n",
      "asphalt                                     31\n",
      "artmuseum                                   31\n",
      "garden                                      31\n",
      "publicart                                   31\n",
      "lasantacon                                  30\n",
      "music                                       30\n",
      "costume                                     30\n",
      "costumes                                    30\n",
      "heartofla                                   29\n",
      "gardentour                                  29\n",
      "bicycles                                    29\n",
      "warreinactment                              29\n",
      "mexican                                     28\n",
      "monument                                    28\n",
      "picnik                                      28\n",
      "losangelescounty                            28\n",
      "sharibellis                                 27\n",
      "parkplaza                                   27\n",
      "lodge                                       27\n",
      "elks                                        27\n",
      "college                                     27\n",
      "geek                                        27\n",
      "westerncup                                  27\n",
      "quidditch                                   27\n",
      "geeks                                       27\n",
      "blue                                        27\n",
      "harrypotter                                 27\n",
      "sports                                      27\n",
      "ijustcantgetenough                          27\n",
      "sparkview                                   27\n",
      "hollywoodhills                              27\n",
      "parlance                                    27\n",
      "skyline                                     26\n",
      "signs                                       26\n",
      "colorful                                    26\n",
      "pond                                        26\n",
      "travel                                      26\n",
      "picounion                                   26\n",
      "red                                         26\n",
      "birds                                       26\n",
      "tamale                                      25\n",
      "asada                                       25\n",
      "lengua                                      25\n",
      "eltaurino                                   25\n",
      "carnitas                                    25\n",
      "alpastor                                    25\n"
     ]
    }
   ],
   "source": [
    "# pulling top 200 tags \n",
    "\n",
    "#create a new column, value, using a list comprehension, and I'll temporarily fill each row with a value of 1\n",
    "#I added this code because I intially tried to run the below code, and was not getting a separate \"value\" count column so I added this as a temporary fill\n",
    "tag_park['value'] = [1 for i in range(tag_park.shape[0])]\n",
    "\n",
    "#return top 100 most used tags sorted by value\n",
    "top_200_tags = tag_park.groupby('tags').sum().sort_values('value', ascending=False).head(200)\n",
    "\n",
    "#so we can view all tags\n",
    "pd.set_option('display.max_rows', 200)\n",
    "\n",
    "print(top_200_tags)"
   ]
  },
  {
   "cell_type": "code",
   "execution_count": 15,
   "metadata": {},
   "outputs": [],
   "source": [
    "# exporting top 200 tags to a csv for hand coding \n",
    "top_200_tags.to_csv('top_200_tags.csv', index=True)"
   ]
  },
  {
   "cell_type": "code",
   "execution_count": 76,
   "metadata": {},
   "outputs": [],
   "source": [
    "#create a new dataframe, grouping by tags and parkname, and then find the sum of each tags' occurence \n",
    "#tag_park_counts = tag_park.groupby(cols).sum()\n",
    "\n",
    "#we want unique tags associated with each individual park name, so we use the .unique function: https://www.w3resource.com/numpy/manipulation/unique.php\n",
    "#park_names = tag_park['parkname'].unique()\n",
    "\n",
    "#then write a for loop to loop through each park name, returning the top 50 most common tags for each park, sorted by the \"value\" column (i.e. the frequency of that tags' occurence)\n",
    "#.index.get_level_values allows us to sort by park name: https://pandas.pydata.org/pandas-docs/stable/reference/api/pandas.Index.get_level_values.html\n",
    "#park_counts = {}\n",
    "#for park in park_names:\n",
    "    #park_counts[park] = tag_park_counts.iloc[tag_park_counts.index.get_level_values('parkname') == park].sort_values('value', ascending=False).head(100)\n",
    "\n",
    "#park_counts"
   ]
  },
  {
   "cell_type": "markdown",
   "metadata": {},
   "source": [
    "## Visualizing Cultural Ecosystem Services"
   ]
  },
  {
   "cell_type": "markdown",
   "metadata": {},
   "source": [
    "#### Radar Plot"
   ]
  },
  {
   "cell_type": "code",
   "execution_count": 113,
   "metadata": {},
   "outputs": [
    {
     "name": "stdout",
     "output_type": "stream",
     "text": [
      "[{'Existence': 325, 'Recreation': 48, 'Social Relations': 0, 'Aesthetics': 10, 'Spiritual': 7, 'Inspiration': 412, 'Cultural Heritage': 1305, 'Sense of Place': 50, 'Cultural Diversity': 7, 'Knowledge Systems': 17, 'Education': 120}, {'Existence': 4, 'Recreation': 78, 'Social Relations': 43, 'Aesthetics': 5, 'Spiritual': 0, 'Inspiration': 0, 'Cultural Heritage': 14, 'Sense of Place': 1, 'Cultural Diversity': 0, 'Knowledge Systems': 0, 'Education': 0}, {'Existence': 33, 'Recreation': 1, 'Social Relations': 2, 'Aesthetics': 9, 'Spiritual': 2, 'Inspiration': 14, 'Cultural Heritage': 2, 'Sense of Place': 0, 'Cultural Diversity': 0, 'Knowledge Systems': 27, 'Education': 1}, {'Existence': 64, 'Recreation': 44, 'Social Relations': 0, 'Aesthetics': 1, 'Spiritual': 11, 'Inspiration': 2, 'Cultural Heritage': 0, 'Sense of Place': 0, 'Cultural Diversity': 0, 'Knowledge Systems': 0, 'Education': 0}, {'Existence': 69, 'Recreation': 58, 'Social Relations': 189, 'Aesthetics': 0, 'Spiritual': 0, 'Inspiration': 75, 'Cultural Heritage': 137, 'Sense of Place': 0, 'Cultural Diversity': 928, 'Knowledge Systems': 0, 'Education': 4027}, {'Existence': 455, 'Recreation': 166, 'Social Relations': 567, 'Aesthetics': 25, 'Spiritual': 37, 'Inspiration': 76, 'Cultural Heritage': 150, 'Sense of Place': 98, 'Cultural Diversity': 146, 'Knowledge Systems': 0, 'Education': 0}, {'Existence': 14, 'Recreation': 6, 'Social Relations': 13, 'Aesthetics': 0, 'Spiritual': 1, 'Inspiration': 0, 'Cultural Heritage': 6, 'Sense of Place': 0, 'Cultural Diversity': 0, 'Knowledge Systems': 0, 'Education': 12}, {'Existence': 91, 'Recreation': 156, 'Social Relations': 0, 'Aesthetics': 731, 'Spiritual': 0, 'Inspiration': 3, 'Cultural Heritage': 0, 'Sense of Place': 0, 'Cultural Diversity': 0, 'Knowledge Systems': 0, 'Education': 0}]\n"
     ]
    }
   ],
   "source": [
    "category_map = { 'Existence': ['westlake', 'lake','palmtrees','palms','elks','parkplaza','birds','palmtree', 'santamonicamountains','franklincanyonlake','losangelesmountains','mayberrylake','myerslake','grass','lake','trees','ducks','water','evergreens','frog','woods', 'ice', 'fluids','iceblocks','blocksofice','wallofice','harbor', 'sky', 'weather','tree','cloudy','garden','parks','lariver','losangelesriver','grass','mountains','canyons','hills','mountains','hill','horse','tujungawashgreenway','tujungawash','pacificocean','sky','weather','tree','cloudy'], \n",
    "                'Recreation': ['music','bikes','lilihaydn','bicycles','violin','ciclovia','loslobos','event', 'rustythedog','canine','chihuahuamix','mutt','dog','pet','weeksfordogs','urbanhiking', 'costumes', 'costume', 'cosplay', 'boomerang', 'lighthouse','westerncup','sports', 'quidditch', 'dog', 'puggle', 'puppy', 'referee', 'boat', 'nikon', 'nikond','gardentour','fish','campout','hiking','hike','sunriserunyon','sunriseinrunyon','sunriseinrunyoncanyonpark','trail','observatory','run','jog','summerolympics','westerncup','sports','quidditch','nikon','nikond','dog','puggle','puppy','referee','boat'], \n",
    "                'Social Relations': ['ciclavia','rally','protest','keepfamliestogethor','tamale','asada','alpastor','march','carnitas','eltaurino','burrito','thegreattacohunt','lasantacon','people','tacos','food','harrypotter', 'wand', 'geeks', 'geek','gardenparty','people','picnik','walkathon','earthday','zurbulon','harrypotter','wand'],\n",
    "                'Aesthetics': ['colorful','green', 'landscape','textures','texturemaps','texturemap','texture','sunset','sky','skyline','clouds','sun','weather','sunrise','pacificocean','panorama','color','overlook','sunset','viewpoint','scenicoverview','mulhollandscenicoverview','brown','barbaraafineoverlook','lasunset','green','landscape'],\n",
    "                'Spiritual': ['signs','sanity','nature','neature','harborinterfaith','outside','church','littlebrownchurchinthevalley'], \n",
    "                'Inspiration':['art','portraitsofhope','publicart', 'artonthewaterfront', 'artist', 'sculpture', 'printmaking', 'portrait', 'contemporaryart', 'painting', 'polaroid', 'draw', 'photographer', 'studioartist', 'prints','mural'],\n",
    "                'Cultural Heritage': ['landmark','monument', 'curlettandbeelman','fortmacarthur','warreinactment', 'agcc', 'angelsgateculturalcenter', 'openstudios', 'allankaprow', 'gallerya', 'artgallery', 'gallery', 'artexhibition', 'slobodandimitrov', 'culturalcenter', 'exhibition', 'downstairsgallery', 'installation', 'hillarybradfield', 'festival','parlance','sculpture','art','statue','treasuresoflosangelesarchitecture','losangelesstatehistoricpark','midcenturymodernhomes','charliechaplin','parlance'],\n",
    "                'Sense of Place': ['neighborhood','community','eccideasclub', 'sanpedro', 'neighborhood'], \n",
    "                'Cultural Diversity': ['mexican','lengua','march','immigration','czechart','lapride','westhollywoodpride','lagaypride','westhollywoodgaypride','losangelespride','losangelesgaypride','pride','gaypride'],\n",
    "                'Knowledge Systems': ['historyofsanpedropunk', 'belleepoque','lahistory','californiahistory'],\n",
    "                'Education': ['portoflosangeles', 'port','portofla','marshallastor','berth','georgecpagemuseum','museums','losangelescountymuseumofart','iceage','pleistocene','skeletons','skulls','pit','tarpits','labreatarpits','labrea','museum','pagemuseum','fossils','bones','paleontology','lacma','animalsmammoths','excavation','sabretooth','tigers','giantgroundsloths','gettyhouse','tar','sabretoothtigers','olympusem','skeleton','fossil','mammoth','mastodon','environmentaljustice','urbanparkmovement','losangelespubliclibrary'\n",
    "                             ]}\n",
    "\n",
    "# Import the csv of frequencies for each park under consideration\n",
    "fns = ['top_tags_angelsgate.csv','top_tags_cheviothills.csv','top_tags_coldwatercanyon.csv',\n",
    "       'top_tags_franklincanyonpark.csv','top_tags_hancockpark.csv','top_tags_macarthur.csv',\n",
    "       'top_tags_riodelosangeles.csv','top_tags_runyoncanyon.csv']\n",
    "parks_frequency = []\n",
    "for fn in fns: \n",
    "    parks_frequency.append(pd.read_csv(fn))\n",
    "\n",
    "#print(parks_frequency)\n",
    "\n",
    "# Create a function to loop over the categories and sum the words associated with each category  \n",
    "def getCategories(frequencyDf):\n",
    "    \n",
    "    category_frequencies = dict.fromkeys(category_map,0)\n",
    "    \n",
    "    for index, row in frequencyDf.iterrows():\n",
    "        #print(row['tags'],row['value'])\n",
    "        for category_name in category_map:\n",
    "            wordlist = category_map[category_name]\n",
    "            if row['tags'] in wordlist:\n",
    "                category_frequencies[category_name]+=row['value']\n",
    "            \n",
    "    return category_frequencies\n",
    "    \n",
    "# Create a list of dictionaries with the frequencies by category for each park\n",
    "cat_frequencies = []\n",
    "for park in parks_frequency:\n",
    "    cat_frequencies.append(getCategories(park))\n",
    "\n",
    "print(cat_frequencies)\n",
    "\n",
    "    "
   ]
  },
  {
   "cell_type": "code",
   "execution_count": 136,
   "metadata": {},
   "outputs": [
    {
     "data": {
      "application/vnd.plotly.v1+json": {
       "config": {
        "plotlyServerURL": "https://plot.ly"
       },
       "data": [
        {
         "fill": "toself",
         "name": "MacArthur Park",
         "r": [
          0.14124293785310735,
          0.020860495436766623,
          0,
          0.004345936549326379,
          0.003042155584528466,
          0.17905258583224684,
          0.5671447196870926,
          0.0217296827466319,
          0.003042155584528466,
          0.007388092133854845,
          0.05215123859191656
         ],
         "theta": [
          "Existence",
          "Recreation",
          "Social Relations",
          "Aesthetics",
          "Spiritual",
          "Inspiration",
          "Cultural Heritage",
          "Sense of Place",
          "Cultural Diversity",
          "Knowledge Systems",
          "Education"
         ],
         "type": "scatterpolar"
        },
        {
         "fill": "toself",
         "name": "MacArthur Park",
         "r": [
          0.027586206896551724,
          0.5379310344827586,
          0.296551724137931,
          0.034482758620689655,
          0,
          0,
          0.09655172413793103,
          0.006896551724137931,
          0,
          0,
          0
         ],
         "theta": [
          "Existence",
          "Recreation",
          "Social Relations",
          "Aesthetics",
          "Spiritual",
          "Inspiration",
          "Cultural Heritage",
          "Sense of Place",
          "Cultural Diversity",
          "Knowledge Systems",
          "Education"
         ],
         "type": "scatterpolar"
        },
        {
         "fill": "toself",
         "name": "MacArthur Park",
         "r": [
          0.3626373626373626,
          0.01098901098901099,
          0.02197802197802198,
          0.0989010989010989,
          0.02197802197802198,
          0.15384615384615385,
          0.02197802197802198,
          0,
          0,
          0.2967032967032967,
          0.01098901098901099
         ],
         "theta": [
          "Existence",
          "Recreation",
          "Social Relations",
          "Aesthetics",
          "Spiritual",
          "Inspiration",
          "Cultural Heritage",
          "Sense of Place",
          "Cultural Diversity",
          "Knowledge Systems",
          "Education"
         ],
         "type": "scatterpolar"
        },
        {
         "fill": "toself",
         "name": "MacArthur Park",
         "r": [
          0.5245901639344263,
          0.36065573770491804,
          0,
          0.00819672131147541,
          0.09016393442622951,
          0.01639344262295082,
          0,
          0,
          0,
          0,
          0
         ],
         "theta": [
          "Existence",
          "Recreation",
          "Social Relations",
          "Aesthetics",
          "Spiritual",
          "Inspiration",
          "Cultural Heritage",
          "Sense of Place",
          "Cultural Diversity",
          "Knowledge Systems",
          "Education"
         ],
         "type": "scatterpolar"
        },
        {
         "fill": "toself",
         "name": "MacArthur Park",
         "r": [
          0.012584351632318073,
          0.010578150647455773,
          0.03447018055808864,
          0,
          0,
          0.013678643078606603,
          0.024986321356921394,
          0,
          0.16925041035929236,
          0,
          0.7344519423673171
         ],
         "theta": [
          "Existence",
          "Recreation",
          "Social Relations",
          "Aesthetics",
          "Spiritual",
          "Inspiration",
          "Cultural Heritage",
          "Sense of Place",
          "Cultural Diversity",
          "Knowledge Systems",
          "Education"
         ],
         "type": "scatterpolar"
        },
        {
         "fill": "toself",
         "name": "MacArthur Park",
         "r": [
          0.26453488372093026,
          0.09651162790697675,
          0.32965116279069767,
          0.014534883720930232,
          0.021511627906976746,
          0.044186046511627906,
          0.0872093023255814,
          0.056976744186046514,
          0.08488372093023255,
          0,
          0
         ],
         "theta": [
          "Existence",
          "Recreation",
          "Social Relations",
          "Aesthetics",
          "Spiritual",
          "Inspiration",
          "Cultural Heritage",
          "Sense of Place",
          "Cultural Diversity",
          "Knowledge Systems",
          "Education"
         ],
         "type": "scatterpolar"
        },
        {
         "fill": "toself",
         "name": "MacArthur Park",
         "r": [
          0.2692307692307692,
          0.11538461538461539,
          0.25,
          0,
          0.019230769230769232,
          0,
          0.11538461538461539,
          0,
          0,
          0,
          0.23076923076923078
         ],
         "theta": [
          "Existence",
          "Recreation",
          "Social Relations",
          "Aesthetics",
          "Spiritual",
          "Inspiration",
          "Cultural Heritage",
          "Sense of Place",
          "Cultural Diversity",
          "Knowledge Systems",
          "Education"
         ],
         "type": "scatterpolar"
        },
        {
         "fill": "toself",
         "name": "MacArthur Park",
         "r": [
          0.09276248725790011,
          0.15902140672782875,
          0,
          0.745158002038736,
          0,
          0.0030581039755351682,
          0,
          0,
          0,
          0,
          0
         ],
         "theta": [
          "Existence",
          "Recreation",
          "Social Relations",
          "Aesthetics",
          "Spiritual",
          "Inspiration",
          "Cultural Heritage",
          "Sense of Place",
          "Cultural Diversity",
          "Knowledge Systems",
          "Education"
         ],
         "type": "scatterpolar"
        }
       ],
       "layout": {
        "polar": {
         "radialaxis": {
          "range": [
           0,
           0.8
          ],
          "visible": true
         }
        },
        "showlegend": true,
        "template": {
         "data": {
          "bar": [
           {
            "error_x": {
             "color": "#2a3f5f"
            },
            "error_y": {
             "color": "#2a3f5f"
            },
            "marker": {
             "line": {
              "color": "#E5ECF6",
              "width": 0.5
             }
            },
            "type": "bar"
           }
          ],
          "barpolar": [
           {
            "marker": {
             "line": {
              "color": "#E5ECF6",
              "width": 0.5
             }
            },
            "type": "barpolar"
           }
          ],
          "carpet": [
           {
            "aaxis": {
             "endlinecolor": "#2a3f5f",
             "gridcolor": "white",
             "linecolor": "white",
             "minorgridcolor": "white",
             "startlinecolor": "#2a3f5f"
            },
            "baxis": {
             "endlinecolor": "#2a3f5f",
             "gridcolor": "white",
             "linecolor": "white",
             "minorgridcolor": "white",
             "startlinecolor": "#2a3f5f"
            },
            "type": "carpet"
           }
          ],
          "choropleth": [
           {
            "colorbar": {
             "outlinewidth": 0,
             "ticks": ""
            },
            "type": "choropleth"
           }
          ],
          "contour": [
           {
            "colorbar": {
             "outlinewidth": 0,
             "ticks": ""
            },
            "colorscale": [
             [
              0,
              "#0d0887"
             ],
             [
              0.1111111111111111,
              "#46039f"
             ],
             [
              0.2222222222222222,
              "#7201a8"
             ],
             [
              0.3333333333333333,
              "#9c179e"
             ],
             [
              0.4444444444444444,
              "#bd3786"
             ],
             [
              0.5555555555555556,
              "#d8576b"
             ],
             [
              0.6666666666666666,
              "#ed7953"
             ],
             [
              0.7777777777777778,
              "#fb9f3a"
             ],
             [
              0.8888888888888888,
              "#fdca26"
             ],
             [
              1,
              "#f0f921"
             ]
            ],
            "type": "contour"
           }
          ],
          "contourcarpet": [
           {
            "colorbar": {
             "outlinewidth": 0,
             "ticks": ""
            },
            "type": "contourcarpet"
           }
          ],
          "heatmap": [
           {
            "colorbar": {
             "outlinewidth": 0,
             "ticks": ""
            },
            "colorscale": [
             [
              0,
              "#0d0887"
             ],
             [
              0.1111111111111111,
              "#46039f"
             ],
             [
              0.2222222222222222,
              "#7201a8"
             ],
             [
              0.3333333333333333,
              "#9c179e"
             ],
             [
              0.4444444444444444,
              "#bd3786"
             ],
             [
              0.5555555555555556,
              "#d8576b"
             ],
             [
              0.6666666666666666,
              "#ed7953"
             ],
             [
              0.7777777777777778,
              "#fb9f3a"
             ],
             [
              0.8888888888888888,
              "#fdca26"
             ],
             [
              1,
              "#f0f921"
             ]
            ],
            "type": "heatmap"
           }
          ],
          "heatmapgl": [
           {
            "colorbar": {
             "outlinewidth": 0,
             "ticks": ""
            },
            "colorscale": [
             [
              0,
              "#0d0887"
             ],
             [
              0.1111111111111111,
              "#46039f"
             ],
             [
              0.2222222222222222,
              "#7201a8"
             ],
             [
              0.3333333333333333,
              "#9c179e"
             ],
             [
              0.4444444444444444,
              "#bd3786"
             ],
             [
              0.5555555555555556,
              "#d8576b"
             ],
             [
              0.6666666666666666,
              "#ed7953"
             ],
             [
              0.7777777777777778,
              "#fb9f3a"
             ],
             [
              0.8888888888888888,
              "#fdca26"
             ],
             [
              1,
              "#f0f921"
             ]
            ],
            "type": "heatmapgl"
           }
          ],
          "histogram": [
           {
            "marker": {
             "colorbar": {
              "outlinewidth": 0,
              "ticks": ""
             }
            },
            "type": "histogram"
           }
          ],
          "histogram2d": [
           {
            "colorbar": {
             "outlinewidth": 0,
             "ticks": ""
            },
            "colorscale": [
             [
              0,
              "#0d0887"
             ],
             [
              0.1111111111111111,
              "#46039f"
             ],
             [
              0.2222222222222222,
              "#7201a8"
             ],
             [
              0.3333333333333333,
              "#9c179e"
             ],
             [
              0.4444444444444444,
              "#bd3786"
             ],
             [
              0.5555555555555556,
              "#d8576b"
             ],
             [
              0.6666666666666666,
              "#ed7953"
             ],
             [
              0.7777777777777778,
              "#fb9f3a"
             ],
             [
              0.8888888888888888,
              "#fdca26"
             ],
             [
              1,
              "#f0f921"
             ]
            ],
            "type": "histogram2d"
           }
          ],
          "histogram2dcontour": [
           {
            "colorbar": {
             "outlinewidth": 0,
             "ticks": ""
            },
            "colorscale": [
             [
              0,
              "#0d0887"
             ],
             [
              0.1111111111111111,
              "#46039f"
             ],
             [
              0.2222222222222222,
              "#7201a8"
             ],
             [
              0.3333333333333333,
              "#9c179e"
             ],
             [
              0.4444444444444444,
              "#bd3786"
             ],
             [
              0.5555555555555556,
              "#d8576b"
             ],
             [
              0.6666666666666666,
              "#ed7953"
             ],
             [
              0.7777777777777778,
              "#fb9f3a"
             ],
             [
              0.8888888888888888,
              "#fdca26"
             ],
             [
              1,
              "#f0f921"
             ]
            ],
            "type": "histogram2dcontour"
           }
          ],
          "mesh3d": [
           {
            "colorbar": {
             "outlinewidth": 0,
             "ticks": ""
            },
            "type": "mesh3d"
           }
          ],
          "parcoords": [
           {
            "line": {
             "colorbar": {
              "outlinewidth": 0,
              "ticks": ""
             }
            },
            "type": "parcoords"
           }
          ],
          "pie": [
           {
            "automargin": true,
            "type": "pie"
           }
          ],
          "scatter": [
           {
            "marker": {
             "colorbar": {
              "outlinewidth": 0,
              "ticks": ""
             }
            },
            "type": "scatter"
           }
          ],
          "scatter3d": [
           {
            "line": {
             "colorbar": {
              "outlinewidth": 0,
              "ticks": ""
             }
            },
            "marker": {
             "colorbar": {
              "outlinewidth": 0,
              "ticks": ""
             }
            },
            "type": "scatter3d"
           }
          ],
          "scattercarpet": [
           {
            "marker": {
             "colorbar": {
              "outlinewidth": 0,
              "ticks": ""
             }
            },
            "type": "scattercarpet"
           }
          ],
          "scattergeo": [
           {
            "marker": {
             "colorbar": {
              "outlinewidth": 0,
              "ticks": ""
             }
            },
            "type": "scattergeo"
           }
          ],
          "scattergl": [
           {
            "marker": {
             "colorbar": {
              "outlinewidth": 0,
              "ticks": ""
             }
            },
            "type": "scattergl"
           }
          ],
          "scattermapbox": [
           {
            "marker": {
             "colorbar": {
              "outlinewidth": 0,
              "ticks": ""
             }
            },
            "type": "scattermapbox"
           }
          ],
          "scatterpolar": [
           {
            "marker": {
             "colorbar": {
              "outlinewidth": 0,
              "ticks": ""
             }
            },
            "type": "scatterpolar"
           }
          ],
          "scatterpolargl": [
           {
            "marker": {
             "colorbar": {
              "outlinewidth": 0,
              "ticks": ""
             }
            },
            "type": "scatterpolargl"
           }
          ],
          "scatterternary": [
           {
            "marker": {
             "colorbar": {
              "outlinewidth": 0,
              "ticks": ""
             }
            },
            "type": "scatterternary"
           }
          ],
          "surface": [
           {
            "colorbar": {
             "outlinewidth": 0,
             "ticks": ""
            },
            "colorscale": [
             [
              0,
              "#0d0887"
             ],
             [
              0.1111111111111111,
              "#46039f"
             ],
             [
              0.2222222222222222,
              "#7201a8"
             ],
             [
              0.3333333333333333,
              "#9c179e"
             ],
             [
              0.4444444444444444,
              "#bd3786"
             ],
             [
              0.5555555555555556,
              "#d8576b"
             ],
             [
              0.6666666666666666,
              "#ed7953"
             ],
             [
              0.7777777777777778,
              "#fb9f3a"
             ],
             [
              0.8888888888888888,
              "#fdca26"
             ],
             [
              1,
              "#f0f921"
             ]
            ],
            "type": "surface"
           }
          ],
          "table": [
           {
            "cells": {
             "fill": {
              "color": "#EBF0F8"
             },
             "line": {
              "color": "white"
             }
            },
            "header": {
             "fill": {
              "color": "#C8D4E3"
             },
             "line": {
              "color": "white"
             }
            },
            "type": "table"
           }
          ]
         },
         "layout": {
          "annotationdefaults": {
           "arrowcolor": "#2a3f5f",
           "arrowhead": 0,
           "arrowwidth": 1
          },
          "autotypenumbers": "strict",
          "coloraxis": {
           "colorbar": {
            "outlinewidth": 0,
            "ticks": ""
           }
          },
          "colorscale": {
           "diverging": [
            [
             0,
             "#8e0152"
            ],
            [
             0.1,
             "#c51b7d"
            ],
            [
             0.2,
             "#de77ae"
            ],
            [
             0.3,
             "#f1b6da"
            ],
            [
             0.4,
             "#fde0ef"
            ],
            [
             0.5,
             "#f7f7f7"
            ],
            [
             0.6,
             "#e6f5d0"
            ],
            [
             0.7,
             "#b8e186"
            ],
            [
             0.8,
             "#7fbc41"
            ],
            [
             0.9,
             "#4d9221"
            ],
            [
             1,
             "#276419"
            ]
           ],
           "sequential": [
            [
             0,
             "#0d0887"
            ],
            [
             0.1111111111111111,
             "#46039f"
            ],
            [
             0.2222222222222222,
             "#7201a8"
            ],
            [
             0.3333333333333333,
             "#9c179e"
            ],
            [
             0.4444444444444444,
             "#bd3786"
            ],
            [
             0.5555555555555556,
             "#d8576b"
            ],
            [
             0.6666666666666666,
             "#ed7953"
            ],
            [
             0.7777777777777778,
             "#fb9f3a"
            ],
            [
             0.8888888888888888,
             "#fdca26"
            ],
            [
             1,
             "#f0f921"
            ]
           ],
           "sequentialminus": [
            [
             0,
             "#0d0887"
            ],
            [
             0.1111111111111111,
             "#46039f"
            ],
            [
             0.2222222222222222,
             "#7201a8"
            ],
            [
             0.3333333333333333,
             "#9c179e"
            ],
            [
             0.4444444444444444,
             "#bd3786"
            ],
            [
             0.5555555555555556,
             "#d8576b"
            ],
            [
             0.6666666666666666,
             "#ed7953"
            ],
            [
             0.7777777777777778,
             "#fb9f3a"
            ],
            [
             0.8888888888888888,
             "#fdca26"
            ],
            [
             1,
             "#f0f921"
            ]
           ]
          },
          "colorway": [
           "#636efa",
           "#EF553B",
           "#00cc96",
           "#ab63fa",
           "#FFA15A",
           "#19d3f3",
           "#FF6692",
           "#B6E880",
           "#FF97FF",
           "#FECB52"
          ],
          "font": {
           "color": "#2a3f5f"
          },
          "geo": {
           "bgcolor": "white",
           "lakecolor": "white",
           "landcolor": "#E5ECF6",
           "showlakes": true,
           "showland": true,
           "subunitcolor": "white"
          },
          "hoverlabel": {
           "align": "left"
          },
          "hovermode": "closest",
          "mapbox": {
           "style": "light"
          },
          "paper_bgcolor": "white",
          "plot_bgcolor": "#E5ECF6",
          "polar": {
           "angularaxis": {
            "gridcolor": "white",
            "linecolor": "white",
            "ticks": ""
           },
           "bgcolor": "#E5ECF6",
           "radialaxis": {
            "gridcolor": "white",
            "linecolor": "white",
            "ticks": ""
           }
          },
          "scene": {
           "xaxis": {
            "backgroundcolor": "#E5ECF6",
            "gridcolor": "white",
            "gridwidth": 2,
            "linecolor": "white",
            "showbackground": true,
            "ticks": "",
            "zerolinecolor": "white"
           },
           "yaxis": {
            "backgroundcolor": "#E5ECF6",
            "gridcolor": "white",
            "gridwidth": 2,
            "linecolor": "white",
            "showbackground": true,
            "ticks": "",
            "zerolinecolor": "white"
           },
           "zaxis": {
            "backgroundcolor": "#E5ECF6",
            "gridcolor": "white",
            "gridwidth": 2,
            "linecolor": "white",
            "showbackground": true,
            "ticks": "",
            "zerolinecolor": "white"
           }
          },
          "shapedefaults": {
           "line": {
            "color": "#2a3f5f"
           }
          },
          "ternary": {
           "aaxis": {
            "gridcolor": "white",
            "linecolor": "white",
            "ticks": ""
           },
           "baxis": {
            "gridcolor": "white",
            "linecolor": "white",
            "ticks": ""
           },
           "bgcolor": "#E5ECF6",
           "caxis": {
            "gridcolor": "white",
            "linecolor": "white",
            "ticks": ""
           }
          },
          "title": {
           "x": 0.05
          },
          "xaxis": {
           "automargin": true,
           "gridcolor": "white",
           "linecolor": "white",
           "ticks": "",
           "title": {
            "standoff": 15
           },
           "zerolinecolor": "white",
           "zerolinewidth": 2
          },
          "yaxis": {
           "automargin": true,
           "gridcolor": "white",
           "linecolor": "white",
           "ticks": "",
           "title": {
            "standoff": 15
           },
           "zerolinecolor": "white",
           "zerolinewidth": 2
          }
         }
        }
       }
      },
      "text/html": [
       "<div>                            <div id=\"89ec83e0-7fd6-4102-afbb-caf2dfd02ce9\" class=\"plotly-graph-div\" style=\"height:525px; width:100%;\"></div>            <script type=\"text/javascript\">                require([\"plotly\"], function(Plotly) {                    window.PLOTLYENV=window.PLOTLYENV || {};                                    if (document.getElementById(\"89ec83e0-7fd6-4102-afbb-caf2dfd02ce9\")) {                    Plotly.newPlot(                        \"89ec83e0-7fd6-4102-afbb-caf2dfd02ce9\",                        [{\"fill\": \"toself\", \"name\": \"MacArthur Park\", \"r\": [0.14124293785310735, 0.020860495436766623, 0.0, 0.004345936549326379, 0.003042155584528466, 0.17905258583224684, 0.5671447196870926, 0.0217296827466319, 0.003042155584528466, 0.007388092133854845, 0.05215123859191656], \"theta\": [\"Existence\", \"Recreation\", \"Social Relations\", \"Aesthetics\", \"Spiritual\", \"Inspiration\", \"Cultural Heritage\", \"Sense of Place\", \"Cultural Diversity\", \"Knowledge Systems\", \"Education\"], \"type\": \"scatterpolar\"}, {\"fill\": \"toself\", \"name\": \"MacArthur Park\", \"r\": [0.027586206896551724, 0.5379310344827586, 0.296551724137931, 0.034482758620689655, 0.0, 0.0, 0.09655172413793103, 0.006896551724137931, 0.0, 0.0, 0.0], \"theta\": [\"Existence\", \"Recreation\", \"Social Relations\", \"Aesthetics\", \"Spiritual\", \"Inspiration\", \"Cultural Heritage\", \"Sense of Place\", \"Cultural Diversity\", \"Knowledge Systems\", \"Education\"], \"type\": \"scatterpolar\"}, {\"fill\": \"toself\", \"name\": \"MacArthur Park\", \"r\": [0.3626373626373626, 0.01098901098901099, 0.02197802197802198, 0.0989010989010989, 0.02197802197802198, 0.15384615384615385, 0.02197802197802198, 0.0, 0.0, 0.2967032967032967, 0.01098901098901099], \"theta\": [\"Existence\", \"Recreation\", \"Social Relations\", \"Aesthetics\", \"Spiritual\", \"Inspiration\", \"Cultural Heritage\", \"Sense of Place\", \"Cultural Diversity\", \"Knowledge Systems\", \"Education\"], \"type\": \"scatterpolar\"}, {\"fill\": \"toself\", \"name\": \"MacArthur Park\", \"r\": [0.5245901639344263, 0.36065573770491804, 0.0, 0.00819672131147541, 0.09016393442622951, 0.01639344262295082, 0.0, 0.0, 0.0, 0.0, 0.0], \"theta\": [\"Existence\", \"Recreation\", \"Social Relations\", \"Aesthetics\", \"Spiritual\", \"Inspiration\", \"Cultural Heritage\", \"Sense of Place\", \"Cultural Diversity\", \"Knowledge Systems\", \"Education\"], \"type\": \"scatterpolar\"}, {\"fill\": \"toself\", \"name\": \"MacArthur Park\", \"r\": [0.012584351632318073, 0.010578150647455773, 0.03447018055808864, 0.0, 0.0, 0.013678643078606603, 0.024986321356921394, 0.0, 0.16925041035929236, 0.0, 0.7344519423673171], \"theta\": [\"Existence\", \"Recreation\", \"Social Relations\", \"Aesthetics\", \"Spiritual\", \"Inspiration\", \"Cultural Heritage\", \"Sense of Place\", \"Cultural Diversity\", \"Knowledge Systems\", \"Education\"], \"type\": \"scatterpolar\"}, {\"fill\": \"toself\", \"name\": \"MacArthur Park\", \"r\": [0.26453488372093026, 0.09651162790697675, 0.32965116279069767, 0.014534883720930232, 0.021511627906976746, 0.044186046511627906, 0.0872093023255814, 0.056976744186046514, 0.08488372093023255, 0.0, 0.0], \"theta\": [\"Existence\", \"Recreation\", \"Social Relations\", \"Aesthetics\", \"Spiritual\", \"Inspiration\", \"Cultural Heritage\", \"Sense of Place\", \"Cultural Diversity\", \"Knowledge Systems\", \"Education\"], \"type\": \"scatterpolar\"}, {\"fill\": \"toself\", \"name\": \"MacArthur Park\", \"r\": [0.2692307692307692, 0.11538461538461539, 0.25, 0.0, 0.019230769230769232, 0.0, 0.11538461538461539, 0.0, 0.0, 0.0, 0.23076923076923078], \"theta\": [\"Existence\", \"Recreation\", \"Social Relations\", \"Aesthetics\", \"Spiritual\", \"Inspiration\", \"Cultural Heritage\", \"Sense of Place\", \"Cultural Diversity\", \"Knowledge Systems\", \"Education\"], \"type\": \"scatterpolar\"}, {\"fill\": \"toself\", \"name\": \"MacArthur Park\", \"r\": [0.09276248725790011, 0.15902140672782875, 0.0, 0.745158002038736, 0.0, 0.0030581039755351682, 0.0, 0.0, 0.0, 0.0, 0.0], \"theta\": [\"Existence\", \"Recreation\", \"Social Relations\", \"Aesthetics\", \"Spiritual\", \"Inspiration\", \"Cultural Heritage\", \"Sense of Place\", \"Cultural Diversity\", \"Knowledge Systems\", \"Education\"], \"type\": \"scatterpolar\"}],                        {\"polar\": {\"radialaxis\": {\"range\": [0, 0.8], \"visible\": true}}, \"showlegend\": true, \"template\": {\"data\": {\"bar\": [{\"error_x\": {\"color\": \"#2a3f5f\"}, \"error_y\": {\"color\": \"#2a3f5f\"}, \"marker\": {\"line\": {\"color\": \"#E5ECF6\", \"width\": 0.5}}, \"type\": \"bar\"}], \"barpolar\": [{\"marker\": {\"line\": {\"color\": \"#E5ECF6\", \"width\": 0.5}}, \"type\": \"barpolar\"}], \"carpet\": [{\"aaxis\": {\"endlinecolor\": \"#2a3f5f\", \"gridcolor\": \"white\", \"linecolor\": \"white\", \"minorgridcolor\": \"white\", \"startlinecolor\": \"#2a3f5f\"}, \"baxis\": {\"endlinecolor\": \"#2a3f5f\", \"gridcolor\": \"white\", \"linecolor\": \"white\", \"minorgridcolor\": \"white\", \"startlinecolor\": \"#2a3f5f\"}, \"type\": \"carpet\"}], \"choropleth\": [{\"colorbar\": {\"outlinewidth\": 0, \"ticks\": \"\"}, \"type\": \"choropleth\"}], \"contour\": [{\"colorbar\": {\"outlinewidth\": 0, \"ticks\": \"\"}, \"colorscale\": [[0.0, \"#0d0887\"], [0.1111111111111111, \"#46039f\"], [0.2222222222222222, \"#7201a8\"], [0.3333333333333333, \"#9c179e\"], [0.4444444444444444, \"#bd3786\"], [0.5555555555555556, \"#d8576b\"], [0.6666666666666666, \"#ed7953\"], [0.7777777777777778, \"#fb9f3a\"], [0.8888888888888888, \"#fdca26\"], [1.0, \"#f0f921\"]], \"type\": \"contour\"}], \"contourcarpet\": [{\"colorbar\": {\"outlinewidth\": 0, \"ticks\": \"\"}, \"type\": \"contourcarpet\"}], \"heatmap\": [{\"colorbar\": {\"outlinewidth\": 0, \"ticks\": \"\"}, \"colorscale\": [[0.0, \"#0d0887\"], [0.1111111111111111, \"#46039f\"], [0.2222222222222222, \"#7201a8\"], [0.3333333333333333, \"#9c179e\"], [0.4444444444444444, \"#bd3786\"], [0.5555555555555556, \"#d8576b\"], [0.6666666666666666, \"#ed7953\"], [0.7777777777777778, \"#fb9f3a\"], [0.8888888888888888, \"#fdca26\"], [1.0, \"#f0f921\"]], \"type\": \"heatmap\"}], \"heatmapgl\": [{\"colorbar\": {\"outlinewidth\": 0, \"ticks\": \"\"}, \"colorscale\": [[0.0, \"#0d0887\"], [0.1111111111111111, \"#46039f\"], [0.2222222222222222, \"#7201a8\"], [0.3333333333333333, \"#9c179e\"], [0.4444444444444444, \"#bd3786\"], [0.5555555555555556, \"#d8576b\"], [0.6666666666666666, \"#ed7953\"], [0.7777777777777778, \"#fb9f3a\"], [0.8888888888888888, \"#fdca26\"], [1.0, \"#f0f921\"]], \"type\": \"heatmapgl\"}], \"histogram\": [{\"marker\": {\"colorbar\": {\"outlinewidth\": 0, \"ticks\": \"\"}}, \"type\": \"histogram\"}], \"histogram2d\": [{\"colorbar\": {\"outlinewidth\": 0, \"ticks\": \"\"}, \"colorscale\": [[0.0, \"#0d0887\"], [0.1111111111111111, \"#46039f\"], [0.2222222222222222, \"#7201a8\"], [0.3333333333333333, \"#9c179e\"], [0.4444444444444444, \"#bd3786\"], [0.5555555555555556, \"#d8576b\"], [0.6666666666666666, \"#ed7953\"], [0.7777777777777778, \"#fb9f3a\"], [0.8888888888888888, \"#fdca26\"], [1.0, \"#f0f921\"]], \"type\": \"histogram2d\"}], \"histogram2dcontour\": [{\"colorbar\": {\"outlinewidth\": 0, \"ticks\": \"\"}, \"colorscale\": [[0.0, \"#0d0887\"], [0.1111111111111111, \"#46039f\"], [0.2222222222222222, \"#7201a8\"], [0.3333333333333333, \"#9c179e\"], [0.4444444444444444, \"#bd3786\"], [0.5555555555555556, \"#d8576b\"], [0.6666666666666666, \"#ed7953\"], [0.7777777777777778, \"#fb9f3a\"], [0.8888888888888888, \"#fdca26\"], [1.0, \"#f0f921\"]], \"type\": \"histogram2dcontour\"}], \"mesh3d\": [{\"colorbar\": {\"outlinewidth\": 0, \"ticks\": \"\"}, \"type\": \"mesh3d\"}], \"parcoords\": [{\"line\": {\"colorbar\": {\"outlinewidth\": 0, \"ticks\": \"\"}}, \"type\": \"parcoords\"}], \"pie\": [{\"automargin\": true, \"type\": \"pie\"}], \"scatter\": [{\"marker\": {\"colorbar\": {\"outlinewidth\": 0, \"ticks\": \"\"}}, \"type\": \"scatter\"}], \"scatter3d\": [{\"line\": {\"colorbar\": {\"outlinewidth\": 0, \"ticks\": \"\"}}, \"marker\": {\"colorbar\": {\"outlinewidth\": 0, \"ticks\": \"\"}}, \"type\": \"scatter3d\"}], \"scattercarpet\": [{\"marker\": {\"colorbar\": {\"outlinewidth\": 0, \"ticks\": \"\"}}, \"type\": \"scattercarpet\"}], \"scattergeo\": [{\"marker\": {\"colorbar\": {\"outlinewidth\": 0, \"ticks\": \"\"}}, \"type\": \"scattergeo\"}], \"scattergl\": [{\"marker\": {\"colorbar\": {\"outlinewidth\": 0, \"ticks\": \"\"}}, \"type\": \"scattergl\"}], \"scattermapbox\": [{\"marker\": {\"colorbar\": {\"outlinewidth\": 0, \"ticks\": \"\"}}, \"type\": \"scattermapbox\"}], \"scatterpolar\": [{\"marker\": {\"colorbar\": {\"outlinewidth\": 0, \"ticks\": \"\"}}, \"type\": \"scatterpolar\"}], \"scatterpolargl\": [{\"marker\": {\"colorbar\": {\"outlinewidth\": 0, \"ticks\": \"\"}}, \"type\": \"scatterpolargl\"}], \"scatterternary\": [{\"marker\": {\"colorbar\": {\"outlinewidth\": 0, \"ticks\": \"\"}}, \"type\": \"scatterternary\"}], \"surface\": [{\"colorbar\": {\"outlinewidth\": 0, \"ticks\": \"\"}, \"colorscale\": [[0.0, \"#0d0887\"], [0.1111111111111111, \"#46039f\"], [0.2222222222222222, \"#7201a8\"], [0.3333333333333333, \"#9c179e\"], [0.4444444444444444, \"#bd3786\"], [0.5555555555555556, \"#d8576b\"], [0.6666666666666666, \"#ed7953\"], [0.7777777777777778, \"#fb9f3a\"], [0.8888888888888888, \"#fdca26\"], [1.0, \"#f0f921\"]], \"type\": \"surface\"}], \"table\": [{\"cells\": {\"fill\": {\"color\": \"#EBF0F8\"}, \"line\": {\"color\": \"white\"}}, \"header\": {\"fill\": {\"color\": \"#C8D4E3\"}, \"line\": {\"color\": \"white\"}}, \"type\": \"table\"}]}, \"layout\": {\"annotationdefaults\": {\"arrowcolor\": \"#2a3f5f\", \"arrowhead\": 0, \"arrowwidth\": 1}, \"autotypenumbers\": \"strict\", \"coloraxis\": {\"colorbar\": {\"outlinewidth\": 0, \"ticks\": \"\"}}, \"colorscale\": {\"diverging\": [[0, \"#8e0152\"], [0.1, \"#c51b7d\"], [0.2, \"#de77ae\"], [0.3, \"#f1b6da\"], [0.4, \"#fde0ef\"], [0.5, \"#f7f7f7\"], [0.6, \"#e6f5d0\"], [0.7, \"#b8e186\"], [0.8, \"#7fbc41\"], [0.9, \"#4d9221\"], [1, \"#276419\"]], \"sequential\": [[0.0, \"#0d0887\"], [0.1111111111111111, \"#46039f\"], [0.2222222222222222, \"#7201a8\"], [0.3333333333333333, \"#9c179e\"], [0.4444444444444444, \"#bd3786\"], [0.5555555555555556, \"#d8576b\"], [0.6666666666666666, \"#ed7953\"], [0.7777777777777778, \"#fb9f3a\"], [0.8888888888888888, \"#fdca26\"], [1.0, \"#f0f921\"]], \"sequentialminus\": [[0.0, \"#0d0887\"], [0.1111111111111111, \"#46039f\"], [0.2222222222222222, \"#7201a8\"], [0.3333333333333333, \"#9c179e\"], [0.4444444444444444, \"#bd3786\"], [0.5555555555555556, \"#d8576b\"], [0.6666666666666666, \"#ed7953\"], [0.7777777777777778, \"#fb9f3a\"], [0.8888888888888888, \"#fdca26\"], [1.0, \"#f0f921\"]]}, \"colorway\": [\"#636efa\", \"#EF553B\", \"#00cc96\", \"#ab63fa\", \"#FFA15A\", \"#19d3f3\", \"#FF6692\", \"#B6E880\", \"#FF97FF\", \"#FECB52\"], \"font\": {\"color\": \"#2a3f5f\"}, \"geo\": {\"bgcolor\": \"white\", \"lakecolor\": \"white\", \"landcolor\": \"#E5ECF6\", \"showlakes\": true, \"showland\": true, \"subunitcolor\": \"white\"}, \"hoverlabel\": {\"align\": \"left\"}, \"hovermode\": \"closest\", \"mapbox\": {\"style\": \"light\"}, \"paper_bgcolor\": \"white\", \"plot_bgcolor\": \"#E5ECF6\", \"polar\": {\"angularaxis\": {\"gridcolor\": \"white\", \"linecolor\": \"white\", \"ticks\": \"\"}, \"bgcolor\": \"#E5ECF6\", \"radialaxis\": {\"gridcolor\": \"white\", \"linecolor\": \"white\", \"ticks\": \"\"}}, \"scene\": {\"xaxis\": {\"backgroundcolor\": \"#E5ECF6\", \"gridcolor\": \"white\", \"gridwidth\": 2, \"linecolor\": \"white\", \"showbackground\": true, \"ticks\": \"\", \"zerolinecolor\": \"white\"}, \"yaxis\": {\"backgroundcolor\": \"#E5ECF6\", \"gridcolor\": \"white\", \"gridwidth\": 2, \"linecolor\": \"white\", \"showbackground\": true, \"ticks\": \"\", \"zerolinecolor\": \"white\"}, \"zaxis\": {\"backgroundcolor\": \"#E5ECF6\", \"gridcolor\": \"white\", \"gridwidth\": 2, \"linecolor\": \"white\", \"showbackground\": true, \"ticks\": \"\", \"zerolinecolor\": \"white\"}}, \"shapedefaults\": {\"line\": {\"color\": \"#2a3f5f\"}}, \"ternary\": {\"aaxis\": {\"gridcolor\": \"white\", \"linecolor\": \"white\", \"ticks\": \"\"}, \"baxis\": {\"gridcolor\": \"white\", \"linecolor\": \"white\", \"ticks\": \"\"}, \"bgcolor\": \"#E5ECF6\", \"caxis\": {\"gridcolor\": \"white\", \"linecolor\": \"white\", \"ticks\": \"\"}}, \"title\": {\"x\": 0.05}, \"xaxis\": {\"automargin\": true, \"gridcolor\": \"white\", \"linecolor\": \"white\", \"ticks\": \"\", \"title\": {\"standoff\": 15}, \"zerolinecolor\": \"white\", \"zerolinewidth\": 2}, \"yaxis\": {\"automargin\": true, \"gridcolor\": \"white\", \"linecolor\": \"white\", \"ticks\": \"\", \"title\": {\"standoff\": 15}, \"zerolinecolor\": \"white\", \"zerolinewidth\": 2}}}},                        {\"responsive\": true}                    ).then(function(){\n",
       "                            \n",
       "var gd = document.getElementById('89ec83e0-7fd6-4102-afbb-caf2dfd02ce9');\n",
       "var x = new MutationObserver(function (mutations, observer) {{\n",
       "        var display = window.getComputedStyle(gd).display;\n",
       "        if (!display || display === 'none') {{\n",
       "            console.log([gd, 'removed!']);\n",
       "            Plotly.purge(gd);\n",
       "            observer.disconnect();\n",
       "        }}\n",
       "}});\n",
       "\n",
       "// Listen for the removal of the full notebook cells\n",
       "var notebookContainer = gd.closest('#notebook-container');\n",
       "if (notebookContainer) {{\n",
       "    x.observe(notebookContainer, {childList: true});\n",
       "}}\n",
       "\n",
       "// Listen for the clearing of the current output cell\n",
       "var outputEl = gd.closest('.output');\n",
       "if (outputEl) {{\n",
       "    x.observe(outputEl, {childList: true});\n",
       "}}\n",
       "\n",
       "                        })                };                });            </script>        </div>"
      ]
     },
     "metadata": {},
     "output_type": "display_data"
    }
   ],
   "source": [
    "# Source: https://plotly.com/python/radar-chart/\n",
    "import plotly.graph_objects as go\n",
    "\n",
    "fig = go.Figure()\n",
    "\n",
    "for category in cat_frequencies:\n",
    "    # compute frequency total per park\n",
    "    park_freq_total = sum(list(category.values()))\n",
    "    r_values = [x/park_freq_total for x in list(category.values())]\n",
    "    fig.add_trace(go.Scatterpolar(\n",
    "          r=r_values, #This is a method\n",
    "          theta=list(category.keys()),\n",
    "          fill='toself',\n",
    "          name='MacArthur Park'\n",
    "    ))\n",
    "\n",
    "fig.update_layout(\n",
    "  polar=dict(\n",
    "    radialaxis=dict(\n",
    "      visible=True,\n",
    "      range=[0, 0.8]\n",
    "    )),\n",
    "  showlegend=True\n",
    ")\n",
    "    \n",
    "fig.show()"
   ]
  },
  {
   "cell_type": "code",
   "execution_count": 138,
   "metadata": {},
   "outputs": [
    {
     "name": "stdout",
     "output_type": "stream",
     "text": [
      "{'Existence': 91, 'Recreation': 156, 'Social Relations': 0, 'Aesthetics': 731, 'Spiritual': 0, 'Inspiration': 3, 'Cultural Heritage': 0, 'Sense of Place': 0, 'Cultural Diversity': 0, 'Knowledge Systems': 0, 'Education': 0}\n",
      "[0.09276248725790011, 0.15902140672782875, 0.0, 0.745158002038736, 0.0, 0.0030581039755351682, 0.0, 0.0, 0.0, 0.0, 0.0]\n"
     ]
    },
    {
     "data": {
      "application/vnd.plotly.v1+json": {
       "config": {
        "plotlyServerURL": "https://plot.ly"
       },
       "data": [
        {
         "fill": "toself",
         "name": "All Parks",
         "r": [
          0.09276248725790011,
          0.15902140672782875,
          0,
          0.745158002038736,
          0,
          0.0030581039755351682,
          0,
          0,
          0,
          0,
          0
         ],
         "theta": [
          "Existence",
          "Recreation",
          "Social Relations",
          "Aesthetics",
          "Spiritual",
          "Inspiration",
          "Cultural Heritage",
          "Sense of Place",
          "Cultural Diversity",
          "Knowledge Systems",
          "Education"
         ],
         "type": "scatterpolar"
        }
       ],
       "layout": {
        "polar": {
         "radialaxis": {
          "range": [
           0,
           1
          ],
          "visible": true
         }
        },
        "showlegend": true,
        "template": {
         "data": {
          "bar": [
           {
            "error_x": {
             "color": "#2a3f5f"
            },
            "error_y": {
             "color": "#2a3f5f"
            },
            "marker": {
             "line": {
              "color": "#E5ECF6",
              "width": 0.5
             }
            },
            "type": "bar"
           }
          ],
          "barpolar": [
           {
            "marker": {
             "line": {
              "color": "#E5ECF6",
              "width": 0.5
             }
            },
            "type": "barpolar"
           }
          ],
          "carpet": [
           {
            "aaxis": {
             "endlinecolor": "#2a3f5f",
             "gridcolor": "white",
             "linecolor": "white",
             "minorgridcolor": "white",
             "startlinecolor": "#2a3f5f"
            },
            "baxis": {
             "endlinecolor": "#2a3f5f",
             "gridcolor": "white",
             "linecolor": "white",
             "minorgridcolor": "white",
             "startlinecolor": "#2a3f5f"
            },
            "type": "carpet"
           }
          ],
          "choropleth": [
           {
            "colorbar": {
             "outlinewidth": 0,
             "ticks": ""
            },
            "type": "choropleth"
           }
          ],
          "contour": [
           {
            "colorbar": {
             "outlinewidth": 0,
             "ticks": ""
            },
            "colorscale": [
             [
              0,
              "#0d0887"
             ],
             [
              0.1111111111111111,
              "#46039f"
             ],
             [
              0.2222222222222222,
              "#7201a8"
             ],
             [
              0.3333333333333333,
              "#9c179e"
             ],
             [
              0.4444444444444444,
              "#bd3786"
             ],
             [
              0.5555555555555556,
              "#d8576b"
             ],
             [
              0.6666666666666666,
              "#ed7953"
             ],
             [
              0.7777777777777778,
              "#fb9f3a"
             ],
             [
              0.8888888888888888,
              "#fdca26"
             ],
             [
              1,
              "#f0f921"
             ]
            ],
            "type": "contour"
           }
          ],
          "contourcarpet": [
           {
            "colorbar": {
             "outlinewidth": 0,
             "ticks": ""
            },
            "type": "contourcarpet"
           }
          ],
          "heatmap": [
           {
            "colorbar": {
             "outlinewidth": 0,
             "ticks": ""
            },
            "colorscale": [
             [
              0,
              "#0d0887"
             ],
             [
              0.1111111111111111,
              "#46039f"
             ],
             [
              0.2222222222222222,
              "#7201a8"
             ],
             [
              0.3333333333333333,
              "#9c179e"
             ],
             [
              0.4444444444444444,
              "#bd3786"
             ],
             [
              0.5555555555555556,
              "#d8576b"
             ],
             [
              0.6666666666666666,
              "#ed7953"
             ],
             [
              0.7777777777777778,
              "#fb9f3a"
             ],
             [
              0.8888888888888888,
              "#fdca26"
             ],
             [
              1,
              "#f0f921"
             ]
            ],
            "type": "heatmap"
           }
          ],
          "heatmapgl": [
           {
            "colorbar": {
             "outlinewidth": 0,
             "ticks": ""
            },
            "colorscale": [
             [
              0,
              "#0d0887"
             ],
             [
              0.1111111111111111,
              "#46039f"
             ],
             [
              0.2222222222222222,
              "#7201a8"
             ],
             [
              0.3333333333333333,
              "#9c179e"
             ],
             [
              0.4444444444444444,
              "#bd3786"
             ],
             [
              0.5555555555555556,
              "#d8576b"
             ],
             [
              0.6666666666666666,
              "#ed7953"
             ],
             [
              0.7777777777777778,
              "#fb9f3a"
             ],
             [
              0.8888888888888888,
              "#fdca26"
             ],
             [
              1,
              "#f0f921"
             ]
            ],
            "type": "heatmapgl"
           }
          ],
          "histogram": [
           {
            "marker": {
             "colorbar": {
              "outlinewidth": 0,
              "ticks": ""
             }
            },
            "type": "histogram"
           }
          ],
          "histogram2d": [
           {
            "colorbar": {
             "outlinewidth": 0,
             "ticks": ""
            },
            "colorscale": [
             [
              0,
              "#0d0887"
             ],
             [
              0.1111111111111111,
              "#46039f"
             ],
             [
              0.2222222222222222,
              "#7201a8"
             ],
             [
              0.3333333333333333,
              "#9c179e"
             ],
             [
              0.4444444444444444,
              "#bd3786"
             ],
             [
              0.5555555555555556,
              "#d8576b"
             ],
             [
              0.6666666666666666,
              "#ed7953"
             ],
             [
              0.7777777777777778,
              "#fb9f3a"
             ],
             [
              0.8888888888888888,
              "#fdca26"
             ],
             [
              1,
              "#f0f921"
             ]
            ],
            "type": "histogram2d"
           }
          ],
          "histogram2dcontour": [
           {
            "colorbar": {
             "outlinewidth": 0,
             "ticks": ""
            },
            "colorscale": [
             [
              0,
              "#0d0887"
             ],
             [
              0.1111111111111111,
              "#46039f"
             ],
             [
              0.2222222222222222,
              "#7201a8"
             ],
             [
              0.3333333333333333,
              "#9c179e"
             ],
             [
              0.4444444444444444,
              "#bd3786"
             ],
             [
              0.5555555555555556,
              "#d8576b"
             ],
             [
              0.6666666666666666,
              "#ed7953"
             ],
             [
              0.7777777777777778,
              "#fb9f3a"
             ],
             [
              0.8888888888888888,
              "#fdca26"
             ],
             [
              1,
              "#f0f921"
             ]
            ],
            "type": "histogram2dcontour"
           }
          ],
          "mesh3d": [
           {
            "colorbar": {
             "outlinewidth": 0,
             "ticks": ""
            },
            "type": "mesh3d"
           }
          ],
          "parcoords": [
           {
            "line": {
             "colorbar": {
              "outlinewidth": 0,
              "ticks": ""
             }
            },
            "type": "parcoords"
           }
          ],
          "pie": [
           {
            "automargin": true,
            "type": "pie"
           }
          ],
          "scatter": [
           {
            "marker": {
             "colorbar": {
              "outlinewidth": 0,
              "ticks": ""
             }
            },
            "type": "scatter"
           }
          ],
          "scatter3d": [
           {
            "line": {
             "colorbar": {
              "outlinewidth": 0,
              "ticks": ""
             }
            },
            "marker": {
             "colorbar": {
              "outlinewidth": 0,
              "ticks": ""
             }
            },
            "type": "scatter3d"
           }
          ],
          "scattercarpet": [
           {
            "marker": {
             "colorbar": {
              "outlinewidth": 0,
              "ticks": ""
             }
            },
            "type": "scattercarpet"
           }
          ],
          "scattergeo": [
           {
            "marker": {
             "colorbar": {
              "outlinewidth": 0,
              "ticks": ""
             }
            },
            "type": "scattergeo"
           }
          ],
          "scattergl": [
           {
            "marker": {
             "colorbar": {
              "outlinewidth": 0,
              "ticks": ""
             }
            },
            "type": "scattergl"
           }
          ],
          "scattermapbox": [
           {
            "marker": {
             "colorbar": {
              "outlinewidth": 0,
              "ticks": ""
             }
            },
            "type": "scattermapbox"
           }
          ],
          "scatterpolar": [
           {
            "marker": {
             "colorbar": {
              "outlinewidth": 0,
              "ticks": ""
             }
            },
            "type": "scatterpolar"
           }
          ],
          "scatterpolargl": [
           {
            "marker": {
             "colorbar": {
              "outlinewidth": 0,
              "ticks": ""
             }
            },
            "type": "scatterpolargl"
           }
          ],
          "scatterternary": [
           {
            "marker": {
             "colorbar": {
              "outlinewidth": 0,
              "ticks": ""
             }
            },
            "type": "scatterternary"
           }
          ],
          "surface": [
           {
            "colorbar": {
             "outlinewidth": 0,
             "ticks": ""
            },
            "colorscale": [
             [
              0,
              "#0d0887"
             ],
             [
              0.1111111111111111,
              "#46039f"
             ],
             [
              0.2222222222222222,
              "#7201a8"
             ],
             [
              0.3333333333333333,
              "#9c179e"
             ],
             [
              0.4444444444444444,
              "#bd3786"
             ],
             [
              0.5555555555555556,
              "#d8576b"
             ],
             [
              0.6666666666666666,
              "#ed7953"
             ],
             [
              0.7777777777777778,
              "#fb9f3a"
             ],
             [
              0.8888888888888888,
              "#fdca26"
             ],
             [
              1,
              "#f0f921"
             ]
            ],
            "type": "surface"
           }
          ],
          "table": [
           {
            "cells": {
             "fill": {
              "color": "#EBF0F8"
             },
             "line": {
              "color": "white"
             }
            },
            "header": {
             "fill": {
              "color": "#C8D4E3"
             },
             "line": {
              "color": "white"
             }
            },
            "type": "table"
           }
          ]
         },
         "layout": {
          "annotationdefaults": {
           "arrowcolor": "#2a3f5f",
           "arrowhead": 0,
           "arrowwidth": 1
          },
          "autotypenumbers": "strict",
          "coloraxis": {
           "colorbar": {
            "outlinewidth": 0,
            "ticks": ""
           }
          },
          "colorscale": {
           "diverging": [
            [
             0,
             "#8e0152"
            ],
            [
             0.1,
             "#c51b7d"
            ],
            [
             0.2,
             "#de77ae"
            ],
            [
             0.3,
             "#f1b6da"
            ],
            [
             0.4,
             "#fde0ef"
            ],
            [
             0.5,
             "#f7f7f7"
            ],
            [
             0.6,
             "#e6f5d0"
            ],
            [
             0.7,
             "#b8e186"
            ],
            [
             0.8,
             "#7fbc41"
            ],
            [
             0.9,
             "#4d9221"
            ],
            [
             1,
             "#276419"
            ]
           ],
           "sequential": [
            [
             0,
             "#0d0887"
            ],
            [
             0.1111111111111111,
             "#46039f"
            ],
            [
             0.2222222222222222,
             "#7201a8"
            ],
            [
             0.3333333333333333,
             "#9c179e"
            ],
            [
             0.4444444444444444,
             "#bd3786"
            ],
            [
             0.5555555555555556,
             "#d8576b"
            ],
            [
             0.6666666666666666,
             "#ed7953"
            ],
            [
             0.7777777777777778,
             "#fb9f3a"
            ],
            [
             0.8888888888888888,
             "#fdca26"
            ],
            [
             1,
             "#f0f921"
            ]
           ],
           "sequentialminus": [
            [
             0,
             "#0d0887"
            ],
            [
             0.1111111111111111,
             "#46039f"
            ],
            [
             0.2222222222222222,
             "#7201a8"
            ],
            [
             0.3333333333333333,
             "#9c179e"
            ],
            [
             0.4444444444444444,
             "#bd3786"
            ],
            [
             0.5555555555555556,
             "#d8576b"
            ],
            [
             0.6666666666666666,
             "#ed7953"
            ],
            [
             0.7777777777777778,
             "#fb9f3a"
            ],
            [
             0.8888888888888888,
             "#fdca26"
            ],
            [
             1,
             "#f0f921"
            ]
           ]
          },
          "colorway": [
           "#636efa",
           "#EF553B",
           "#00cc96",
           "#ab63fa",
           "#FFA15A",
           "#19d3f3",
           "#FF6692",
           "#B6E880",
           "#FF97FF",
           "#FECB52"
          ],
          "font": {
           "color": "#2a3f5f"
          },
          "geo": {
           "bgcolor": "white",
           "lakecolor": "white",
           "landcolor": "#E5ECF6",
           "showlakes": true,
           "showland": true,
           "subunitcolor": "white"
          },
          "hoverlabel": {
           "align": "left"
          },
          "hovermode": "closest",
          "mapbox": {
           "style": "light"
          },
          "paper_bgcolor": "white",
          "plot_bgcolor": "#E5ECF6",
          "polar": {
           "angularaxis": {
            "gridcolor": "white",
            "linecolor": "white",
            "ticks": ""
           },
           "bgcolor": "#E5ECF6",
           "radialaxis": {
            "gridcolor": "white",
            "linecolor": "white",
            "ticks": ""
           }
          },
          "scene": {
           "xaxis": {
            "backgroundcolor": "#E5ECF6",
            "gridcolor": "white",
            "gridwidth": 2,
            "linecolor": "white",
            "showbackground": true,
            "ticks": "",
            "zerolinecolor": "white"
           },
           "yaxis": {
            "backgroundcolor": "#E5ECF6",
            "gridcolor": "white",
            "gridwidth": 2,
            "linecolor": "white",
            "showbackground": true,
            "ticks": "",
            "zerolinecolor": "white"
           },
           "zaxis": {
            "backgroundcolor": "#E5ECF6",
            "gridcolor": "white",
            "gridwidth": 2,
            "linecolor": "white",
            "showbackground": true,
            "ticks": "",
            "zerolinecolor": "white"
           }
          },
          "shapedefaults": {
           "line": {
            "color": "#2a3f5f"
           }
          },
          "ternary": {
           "aaxis": {
            "gridcolor": "white",
            "linecolor": "white",
            "ticks": ""
           },
           "baxis": {
            "gridcolor": "white",
            "linecolor": "white",
            "ticks": ""
           },
           "bgcolor": "#E5ECF6",
           "caxis": {
            "gridcolor": "white",
            "linecolor": "white",
            "ticks": ""
           }
          },
          "title": {
           "x": 0.05
          },
          "xaxis": {
           "automargin": true,
           "gridcolor": "white",
           "linecolor": "white",
           "ticks": "",
           "title": {
            "standoff": 15
           },
           "zerolinecolor": "white",
           "zerolinewidth": 2
          },
          "yaxis": {
           "automargin": true,
           "gridcolor": "white",
           "linecolor": "white",
           "ticks": "",
           "title": {
            "standoff": 15
           },
           "zerolinecolor": "white",
           "zerolinewidth": 2
          }
         }
        }
       }
      },
      "text/html": [
       "<div>                            <div id=\"0a215d2e-2e01-42d7-ae3d-a14da66737db\" class=\"plotly-graph-div\" style=\"height:525px; width:100%;\"></div>            <script type=\"text/javascript\">                require([\"plotly\"], function(Plotly) {                    window.PLOTLYENV=window.PLOTLYENV || {};                                    if (document.getElementById(\"0a215d2e-2e01-42d7-ae3d-a14da66737db\")) {                    Plotly.newPlot(                        \"0a215d2e-2e01-42d7-ae3d-a14da66737db\",                        [{\"fill\": \"toself\", \"name\": \"All Parks\", \"r\": [0.09276248725790011, 0.15902140672782875, 0.0, 0.745158002038736, 0.0, 0.0030581039755351682, 0.0, 0.0, 0.0, 0.0, 0.0], \"theta\": [\"Existence\", \"Recreation\", \"Social Relations\", \"Aesthetics\", \"Spiritual\", \"Inspiration\", \"Cultural Heritage\", \"Sense of Place\", \"Cultural Diversity\", \"Knowledge Systems\", \"Education\"], \"type\": \"scatterpolar\"}],                        {\"polar\": {\"radialaxis\": {\"range\": [0, 1], \"visible\": true}}, \"showlegend\": true, \"template\": {\"data\": {\"bar\": [{\"error_x\": {\"color\": \"#2a3f5f\"}, \"error_y\": {\"color\": \"#2a3f5f\"}, \"marker\": {\"line\": {\"color\": \"#E5ECF6\", \"width\": 0.5}}, \"type\": \"bar\"}], \"barpolar\": [{\"marker\": {\"line\": {\"color\": \"#E5ECF6\", \"width\": 0.5}}, \"type\": \"barpolar\"}], \"carpet\": [{\"aaxis\": {\"endlinecolor\": \"#2a3f5f\", \"gridcolor\": \"white\", \"linecolor\": \"white\", \"minorgridcolor\": \"white\", \"startlinecolor\": \"#2a3f5f\"}, \"baxis\": {\"endlinecolor\": \"#2a3f5f\", \"gridcolor\": \"white\", \"linecolor\": \"white\", \"minorgridcolor\": \"white\", \"startlinecolor\": \"#2a3f5f\"}, \"type\": \"carpet\"}], \"choropleth\": [{\"colorbar\": {\"outlinewidth\": 0, \"ticks\": \"\"}, \"type\": \"choropleth\"}], \"contour\": [{\"colorbar\": {\"outlinewidth\": 0, \"ticks\": \"\"}, \"colorscale\": [[0.0, \"#0d0887\"], [0.1111111111111111, \"#46039f\"], [0.2222222222222222, \"#7201a8\"], [0.3333333333333333, \"#9c179e\"], [0.4444444444444444, \"#bd3786\"], [0.5555555555555556, \"#d8576b\"], [0.6666666666666666, \"#ed7953\"], [0.7777777777777778, \"#fb9f3a\"], [0.8888888888888888, \"#fdca26\"], [1.0, \"#f0f921\"]], \"type\": \"contour\"}], \"contourcarpet\": [{\"colorbar\": {\"outlinewidth\": 0, \"ticks\": \"\"}, \"type\": \"contourcarpet\"}], \"heatmap\": [{\"colorbar\": {\"outlinewidth\": 0, \"ticks\": \"\"}, \"colorscale\": [[0.0, \"#0d0887\"], [0.1111111111111111, \"#46039f\"], [0.2222222222222222, \"#7201a8\"], [0.3333333333333333, \"#9c179e\"], [0.4444444444444444, \"#bd3786\"], [0.5555555555555556, \"#d8576b\"], [0.6666666666666666, \"#ed7953\"], [0.7777777777777778, \"#fb9f3a\"], [0.8888888888888888, \"#fdca26\"], [1.0, \"#f0f921\"]], \"type\": \"heatmap\"}], \"heatmapgl\": [{\"colorbar\": {\"outlinewidth\": 0, \"ticks\": \"\"}, \"colorscale\": [[0.0, \"#0d0887\"], [0.1111111111111111, \"#46039f\"], [0.2222222222222222, \"#7201a8\"], [0.3333333333333333, \"#9c179e\"], [0.4444444444444444, \"#bd3786\"], [0.5555555555555556, \"#d8576b\"], [0.6666666666666666, \"#ed7953\"], [0.7777777777777778, \"#fb9f3a\"], [0.8888888888888888, \"#fdca26\"], [1.0, \"#f0f921\"]], \"type\": \"heatmapgl\"}], \"histogram\": [{\"marker\": {\"colorbar\": {\"outlinewidth\": 0, \"ticks\": \"\"}}, \"type\": \"histogram\"}], \"histogram2d\": [{\"colorbar\": {\"outlinewidth\": 0, \"ticks\": \"\"}, \"colorscale\": [[0.0, \"#0d0887\"], [0.1111111111111111, \"#46039f\"], [0.2222222222222222, \"#7201a8\"], [0.3333333333333333, \"#9c179e\"], [0.4444444444444444, \"#bd3786\"], [0.5555555555555556, \"#d8576b\"], [0.6666666666666666, \"#ed7953\"], [0.7777777777777778, \"#fb9f3a\"], [0.8888888888888888, \"#fdca26\"], [1.0, \"#f0f921\"]], \"type\": \"histogram2d\"}], \"histogram2dcontour\": [{\"colorbar\": {\"outlinewidth\": 0, \"ticks\": \"\"}, \"colorscale\": [[0.0, \"#0d0887\"], [0.1111111111111111, \"#46039f\"], [0.2222222222222222, \"#7201a8\"], [0.3333333333333333, \"#9c179e\"], [0.4444444444444444, \"#bd3786\"], [0.5555555555555556, \"#d8576b\"], [0.6666666666666666, \"#ed7953\"], [0.7777777777777778, \"#fb9f3a\"], [0.8888888888888888, \"#fdca26\"], [1.0, \"#f0f921\"]], \"type\": \"histogram2dcontour\"}], \"mesh3d\": [{\"colorbar\": {\"outlinewidth\": 0, \"ticks\": \"\"}, \"type\": \"mesh3d\"}], \"parcoords\": [{\"line\": {\"colorbar\": {\"outlinewidth\": 0, \"ticks\": \"\"}}, \"type\": \"parcoords\"}], \"pie\": [{\"automargin\": true, \"type\": \"pie\"}], \"scatter\": [{\"marker\": {\"colorbar\": {\"outlinewidth\": 0, \"ticks\": \"\"}}, \"type\": \"scatter\"}], \"scatter3d\": [{\"line\": {\"colorbar\": {\"outlinewidth\": 0, \"ticks\": \"\"}}, \"marker\": {\"colorbar\": {\"outlinewidth\": 0, \"ticks\": \"\"}}, \"type\": \"scatter3d\"}], \"scattercarpet\": [{\"marker\": {\"colorbar\": {\"outlinewidth\": 0, \"ticks\": \"\"}}, \"type\": \"scattercarpet\"}], \"scattergeo\": [{\"marker\": {\"colorbar\": {\"outlinewidth\": 0, \"ticks\": \"\"}}, \"type\": \"scattergeo\"}], \"scattergl\": [{\"marker\": {\"colorbar\": {\"outlinewidth\": 0, \"ticks\": \"\"}}, \"type\": \"scattergl\"}], \"scattermapbox\": [{\"marker\": {\"colorbar\": {\"outlinewidth\": 0, \"ticks\": \"\"}}, \"type\": \"scattermapbox\"}], \"scatterpolar\": [{\"marker\": {\"colorbar\": {\"outlinewidth\": 0, \"ticks\": \"\"}}, \"type\": \"scatterpolar\"}], \"scatterpolargl\": [{\"marker\": {\"colorbar\": {\"outlinewidth\": 0, \"ticks\": \"\"}}, \"type\": \"scatterpolargl\"}], \"scatterternary\": [{\"marker\": {\"colorbar\": {\"outlinewidth\": 0, \"ticks\": \"\"}}, \"type\": \"scatterternary\"}], \"surface\": [{\"colorbar\": {\"outlinewidth\": 0, \"ticks\": \"\"}, \"colorscale\": [[0.0, \"#0d0887\"], [0.1111111111111111, \"#46039f\"], [0.2222222222222222, \"#7201a8\"], [0.3333333333333333, \"#9c179e\"], [0.4444444444444444, \"#bd3786\"], [0.5555555555555556, \"#d8576b\"], [0.6666666666666666, \"#ed7953\"], [0.7777777777777778, \"#fb9f3a\"], [0.8888888888888888, \"#fdca26\"], [1.0, \"#f0f921\"]], \"type\": \"surface\"}], \"table\": [{\"cells\": {\"fill\": {\"color\": \"#EBF0F8\"}, \"line\": {\"color\": \"white\"}}, \"header\": {\"fill\": {\"color\": \"#C8D4E3\"}, \"line\": {\"color\": \"white\"}}, \"type\": \"table\"}]}, \"layout\": {\"annotationdefaults\": {\"arrowcolor\": \"#2a3f5f\", \"arrowhead\": 0, \"arrowwidth\": 1}, \"autotypenumbers\": \"strict\", \"coloraxis\": {\"colorbar\": {\"outlinewidth\": 0, \"ticks\": \"\"}}, \"colorscale\": {\"diverging\": [[0, \"#8e0152\"], [0.1, \"#c51b7d\"], [0.2, \"#de77ae\"], [0.3, \"#f1b6da\"], [0.4, \"#fde0ef\"], [0.5, \"#f7f7f7\"], [0.6, \"#e6f5d0\"], [0.7, \"#b8e186\"], [0.8, \"#7fbc41\"], [0.9, \"#4d9221\"], [1, \"#276419\"]], \"sequential\": [[0.0, \"#0d0887\"], [0.1111111111111111, \"#46039f\"], [0.2222222222222222, \"#7201a8\"], [0.3333333333333333, \"#9c179e\"], [0.4444444444444444, \"#bd3786\"], [0.5555555555555556, \"#d8576b\"], [0.6666666666666666, \"#ed7953\"], [0.7777777777777778, \"#fb9f3a\"], [0.8888888888888888, \"#fdca26\"], [1.0, \"#f0f921\"]], \"sequentialminus\": [[0.0, \"#0d0887\"], [0.1111111111111111, \"#46039f\"], [0.2222222222222222, \"#7201a8\"], [0.3333333333333333, \"#9c179e\"], [0.4444444444444444, \"#bd3786\"], [0.5555555555555556, \"#d8576b\"], [0.6666666666666666, \"#ed7953\"], [0.7777777777777778, \"#fb9f3a\"], [0.8888888888888888, \"#fdca26\"], [1.0, \"#f0f921\"]]}, \"colorway\": [\"#636efa\", \"#EF553B\", \"#00cc96\", \"#ab63fa\", \"#FFA15A\", \"#19d3f3\", \"#FF6692\", \"#B6E880\", \"#FF97FF\", \"#FECB52\"], \"font\": {\"color\": \"#2a3f5f\"}, \"geo\": {\"bgcolor\": \"white\", \"lakecolor\": \"white\", \"landcolor\": \"#E5ECF6\", \"showlakes\": true, \"showland\": true, \"subunitcolor\": \"white\"}, \"hoverlabel\": {\"align\": \"left\"}, \"hovermode\": \"closest\", \"mapbox\": {\"style\": \"light\"}, \"paper_bgcolor\": \"white\", \"plot_bgcolor\": \"#E5ECF6\", \"polar\": {\"angularaxis\": {\"gridcolor\": \"white\", \"linecolor\": \"white\", \"ticks\": \"\"}, \"bgcolor\": \"#E5ECF6\", \"radialaxis\": {\"gridcolor\": \"white\", \"linecolor\": \"white\", \"ticks\": \"\"}}, \"scene\": {\"xaxis\": {\"backgroundcolor\": \"#E5ECF6\", \"gridcolor\": \"white\", \"gridwidth\": 2, \"linecolor\": \"white\", \"showbackground\": true, \"ticks\": \"\", \"zerolinecolor\": \"white\"}, \"yaxis\": {\"backgroundcolor\": \"#E5ECF6\", \"gridcolor\": \"white\", \"gridwidth\": 2, \"linecolor\": \"white\", \"showbackground\": true, \"ticks\": \"\", \"zerolinecolor\": \"white\"}, \"zaxis\": {\"backgroundcolor\": \"#E5ECF6\", \"gridcolor\": \"white\", \"gridwidth\": 2, \"linecolor\": \"white\", \"showbackground\": true, \"ticks\": \"\", \"zerolinecolor\": \"white\"}}, \"shapedefaults\": {\"line\": {\"color\": \"#2a3f5f\"}}, \"ternary\": {\"aaxis\": {\"gridcolor\": \"white\", \"linecolor\": \"white\", \"ticks\": \"\"}, \"baxis\": {\"gridcolor\": \"white\", \"linecolor\": \"white\", \"ticks\": \"\"}, \"bgcolor\": \"#E5ECF6\", \"caxis\": {\"gridcolor\": \"white\", \"linecolor\": \"white\", \"ticks\": \"\"}}, \"title\": {\"x\": 0.05}, \"xaxis\": {\"automargin\": true, \"gridcolor\": \"white\", \"linecolor\": \"white\", \"ticks\": \"\", \"title\": {\"standoff\": 15}, \"zerolinecolor\": \"white\", \"zerolinewidth\": 2}, \"yaxis\": {\"automargin\": true, \"gridcolor\": \"white\", \"linecolor\": \"white\", \"ticks\": \"\", \"title\": {\"standoff\": 15}, \"zerolinecolor\": \"white\", \"zerolinewidth\": 2}}}},                        {\"responsive\": true}                    ).then(function(){\n",
       "                            \n",
       "var gd = document.getElementById('0a215d2e-2e01-42d7-ae3d-a14da66737db');\n",
       "var x = new MutationObserver(function (mutations, observer) {{\n",
       "        var display = window.getComputedStyle(gd).display;\n",
       "        if (!display || display === 'none') {{\n",
       "            console.log([gd, 'removed!']);\n",
       "            Plotly.purge(gd);\n",
       "            observer.disconnect();\n",
       "        }}\n",
       "}});\n",
       "\n",
       "// Listen for the removal of the full notebook cells\n",
       "var notebookContainer = gd.closest('#notebook-container');\n",
       "if (notebookContainer) {{\n",
       "    x.observe(notebookContainer, {childList: true});\n",
       "}}\n",
       "\n",
       "// Listen for the clearing of the current output cell\n",
       "var outputEl = gd.closest('.output');\n",
       "if (outputEl) {{\n",
       "    x.observe(outputEl, {childList: true});\n",
       "}}\n",
       "\n",
       "                        })                };                });            </script>        </div>"
      ]
     },
     "metadata": {},
     "output_type": "display_data"
    }
   ],
   "source": [
    "# Source: https://plotly.com/python/radar-chart/\n",
    "import plotly.graph_objects as go\n",
    "\n",
    "\n",
    "#Source: https://blog.finxter.com/merge-dictionaries\n",
    "# Dictionary comprehension\n",
    "cat_agg_frequencies = {k:v for x in cat_frequencies for k,v in x.items()}\n",
    "print(cat_agg_frequencies)\n",
    "\n",
    "fig = go.Figure()\n",
    "\n",
    "# compute frequency total per park\n",
    "park_freq_total = sum(list(cat_agg_frequencies.values()))\n",
    "r_values = [x/park_freq_total for x in list(cat_agg_frequencies.values())]\n",
    "print(r_values)\n",
    "fig.add_trace(go.Scatterpolar(\n",
    "        r=r_values, #This is a method\n",
    "        theta=list(cat_agg_frequencies.keys()),\n",
    "        fill='toself',\n",
    "        name='All Parks'\n",
    "    ))\n",
    "\n",
    "fig.update_layout(\n",
    "  polar=dict(\n",
    "    radialaxis=dict(\n",
    "      visible=True,\n",
    "      range=[0, 1]\n",
    "    )),\n",
    "  showlegend=True\n",
    ")\n",
    "    \n",
    "fig.show()"
   ]
  },
  {
   "cell_type": "markdown",
   "metadata": {},
   "source": [
    "### Map of Cultural Ecosystem Services by Park"
   ]
  },
  {
   "cell_type": "code",
   "execution_count": 73,
   "metadata": {},
   "outputs": [],
   "source": []
  },
  {
   "cell_type": "code",
   "execution_count": null,
   "metadata": {},
   "outputs": [],
   "source": []
  },
  {
   "cell_type": "code",
   "execution_count": null,
   "metadata": {},
   "outputs": [],
   "source": []
  }
 ],
 "metadata": {
  "kernelspec": {
   "display_name": "Python 3",
   "language": "python",
   "name": "python3"
  },
  "language_info": {
   "codemirror_mode": {
    "name": "ipython",
    "version": 3
   },
   "file_extension": ".py",
   "mimetype": "text/x-python",
   "name": "python",
   "nbconvert_exporter": "python",
   "pygments_lexer": "ipython3",
   "version": "3.8.5"
  }
 },
 "nbformat": 4,
 "nbformat_minor": 5
}
