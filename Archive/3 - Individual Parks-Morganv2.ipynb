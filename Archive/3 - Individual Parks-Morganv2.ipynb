{
 "cells": [
  {
   "cell_type": "markdown",
   "metadata": {},
   "source": [
    "# Notebook 3: Individual Parks"
   ]
  },
  {
   "cell_type": "markdown",
   "metadata": {},
   "source": [
    "The next step in our process was to scale down our analysis to the park level and examine CES servies offered by park. Since our methodology closely follows the Hale (2019) aricle, we needed to hand-code a select set of the tags into Hale's predefined CES buckets. To do this, we first coded the top 200 tags across all parks to get a sense of the types of services offered across all parks. The top 100 tags did not yield enough codeable tags, so we expanded that selection for a more robust sample. \n",
    "\n",
    "Tags themeselves are coded into one of the following categories (we did not cross-code, for parsimony, though we recognize that future analysis would yield more comprehensive results if tags could be cross-coded): existence, recreation, social relations, aesthetics, spritual, knowledge systems, inspiration, cultural heritage, education, sense of place, and culutral diversity. \n",
    "\n",
    "We coded parks that had at least 50 unique tags associated with that specific park. The coded parks are: MacArthur, Franklin Canyon, Hancock,Rio de Los Angeles, Runyon Canyon, Coldwater Creek, Cheviot Hills, and Angels Gate. We coded tags that fit into each of the above cateogories, but did not code tags that did not equate to a CES (i.e., nonsensical tags, vague tags, or tags for unidentifiable built infrastructure). "
   ]
  },
  {
   "cell_type": "markdown",
   "metadata": {},
   "source": [
    "# clean version"
   ]
  },
  {
   "cell_type": "markdown",
   "metadata": {},
   "source": [
    "1. Get CES frequences by park"
   ]
  },
  {
   "cell_type": "code",
   "execution_count": 1,
   "metadata": {},
   "outputs": [
    {
     "name": "stdout",
     "output_type": "stream",
     "text": [
      "[{'Existence': 344, 'Recreation': 51, 'Social Relations': 0, 'Aesthetics': 0, 'Spiritual': 14, 'Inspiration': 517, 'Cultural Heritage': 1698, 'Sense of Place': 63, 'Cultural Diversity': 13, 'Knowledge Systems': 30, 'Education': 119}, {'Existence': 4, 'Recreation': 73, 'Social Relations': 40, 'Aesthetics': 5, 'Spiritual': 0, 'Inspiration': 0, 'Cultural Heritage': 13, 'Sense of Place': 2, 'Cultural Diversity': 0, 'Knowledge Systems': 0, 'Education': 0}, {'Existence': 37, 'Recreation': 1, 'Social Relations': 2, 'Aesthetics': 9, 'Spiritual': 2, 'Inspiration': 16, 'Cultural Heritage': 2, 'Sense of Place': 0, 'Cultural Diversity': 0, 'Knowledge Systems': 31, 'Education': 1}, {'Existence': 56, 'Recreation': 44, 'Social Relations': 0, 'Aesthetics': 1, 'Spiritual': 11, 'Inspiration': 4, 'Cultural Heritage': 0, 'Sense of Place': 0, 'Cultural Diversity': 0, 'Knowledge Systems': 0, 'Education': 0}, {'Existence': 39, 'Recreation': 30, 'Social Relations': 197, 'Aesthetics': 0, 'Spiritual': 0, 'Inspiration': 76, 'Cultural Heritage': 154, 'Sense of Place': 0, 'Cultural Diversity': 1168, 'Knowledge Systems': 0, 'Education': 3988}, {'Existence': 468, 'Recreation': 187, 'Social Relations': 415, 'Aesthetics': 25, 'Spiritual': 39, 'Inspiration': 76, 'Cultural Heritage': 169, 'Sense of Place': 112, 'Cultural Diversity': 85, 'Knowledge Systems': 0, 'Education': 0}, {'Existence': 14, 'Recreation': 6, 'Social Relations': 13, 'Aesthetics': 0, 'Spiritual': 1, 'Inspiration': 0, 'Cultural Heritage': 6, 'Sense of Place': 0, 'Cultural Diversity': 0, 'Knowledge Systems': 0, 'Education': 12}, {'Existence': 82, 'Recreation': 169, 'Social Relations': 0, 'Aesthetics': 178, 'Spiritual': 8, 'Inspiration': 0, 'Cultural Heritage': 0, 'Sense of Place': 0, 'Cultural Diversity': 0, 'Knowledge Systems': 0, 'Education': 0}]\n"
     ]
    }
   ],
   "source": [
    "import pandas as pd\n",
    "\n",
    "category_map = { 'Existence': ['westlake', 'lake','palmtrees','palms','elks','parkplaza','birds','palmtree', 'santamonicamountains','franklincanyonlake','losangelesmountains','mayberrylake','myerslake','grass','lake','trees','ducks','water','evergreens','frog','woods', 'ice', 'fluids','iceblocks','blocksofice','wallofice','harbor', 'sky', 'weather','tree','cloudy','garden','parks','lariver','losangelesriver','grass','mountains','canyons','hills','mountains','hill','horse','tujungawashgreenway','tujungawash','pacificocean','sky','weather','tree','cloudy'], \n",
    "                'Recreation': ['music','bikes','lilihaydn','bicycles','violin','ciclovia','loslobos','event', 'rustythedog','canine','chihuahuamix','mutt','dog','pet','weeksfordogs','urbanhiking', 'costumes', 'costume', 'cosplay', 'boomerang', 'lighthouse','westerncup','sports', 'quidditch', 'dog', 'puggle', 'puppy', 'referee', 'boat', 'nikon', 'nikond','gardentour','fish','campout','hiking','hike','sunriserunyon','sunriseinrunyon','sunriseinrunyoncanyonpark','trail','observatory','run','jog','summerolympics','westerncup','sports','quidditch','nikon','nikond','dog','puggle','puppy','referee','boat'], \n",
    "                'Social Relations': ['ciclavia','rally','protest','keepfamliestogethor','tamale','asada','alpastor','march','carnitas','eltaurino','burrito','thegreattacohunt','lasantacon','people','tacos','food','harrypotter', 'wand', 'geeks', 'geek','gardenparty','people','picnik','walkathon','earthday','zurbulon','harrypotter','wand'],\n",
    "                'Aesthetics': ['colorful','green', 'landscape','textures','texturemaps','texturemap','texture','sunset','sky','skyline','clouds','sun','weather','sunrise','pacificocean','panorama','color','overlook','sunset','viewpoint','scenicoverview','mulhollandscenicoverview','brown','barbaraafineoverlook','lasunset','green','landscape'],\n",
    "                'Spiritual': ['signs','sanity','nature','neature','harborinterfaith','outside','church','littlebrownchurchinthevalley'], \n",
    "                'Inspiration':['art','portraitsofhope','publicart', 'artonthewaterfront', 'artist', 'sculpture', 'printmaking', 'portrait', 'contemporaryart', 'painting', 'polaroid', 'draw', 'photographer', 'studioartist', 'prints','mural'],\n",
    "                'Cultural Heritage': ['landmark','monument', 'curlettandbeelman','fortmacarthur','warreinactment', 'agcc', 'angelsgateculturalcenter', 'openstudios', 'allankaprow', 'gallerya', 'artgallery', 'gallery', 'artexhibition', 'slobodandimitrov', 'culturalcenter', 'exhibition', 'downstairsgallery', 'installation', 'hillarybradfield', 'festival','parlance','sculpture','art','statue','treasuresoflosangelesarchitecture','losangelesstatehistoricpark','midcenturymodernhomes','charliechaplin','parlance'],\n",
    "                'Sense of Place': ['neighborhood','community','eccideasclub', 'sanpedro', 'neighborhood'], \n",
    "                'Cultural Diversity': ['mexican','lengua','march','immigration','czechart','lapride','westhollywoodpride','lagaypride','westhollywoodgaypride','losangelespride','losangelesgaypride','pride','gaypride'],\n",
    "                'Knowledge Systems': ['historyofsanpedropunk', 'belleepoque','lahistory','californiahistory'],\n",
    "                'Education': ['portoflosangeles', 'port','portofla','marshallastor','berth','georgecpagemuseum','museums','losangelescountymuseumofart','iceage','pleistocene','skeletons','skulls','pit','tarpits','labreatarpits','labrea','museum','pagemuseum','fossils','bones','paleontology','lacma','animalsmammoths','excavation','sabretooth','tigers','giantgroundsloths','gettyhouse','tar','sabretoothtigers','olympusem','skeleton','fossil','mammoth','mastodon','environmentaljustice','urbanparkmovement','losangelespubliclibrary'\n",
    "                             ]}\n",
    "\n",
    "# Import the csv of frequencies for each park under consideration\n",
    "fns = ['top_tags_angelsgate.csv','top_tags_cheviothills.csv','top_tags_coldwatercanyon.csv',\n",
    "       'top_tags_franklincanyonpark.csv','top_tags_hancockpark.csv','top_tags_macarthur.csv',\n",
    "       'top_tags_riodelosangeles.csv','top_tags_runyoncanyon.csv']\n",
    "parks_frequency = []\n",
    "for fn in fns: \n",
    "    parks_frequency.append(pd.read_csv(fn))\n",
    "\n",
    "#print(parks_frequency)\n",
    "\n",
    "# Create a function to loop over the categories and sum the words associated with each category  \n",
    "def getCategories(frequencyDf):\n",
    "    \n",
    "    category_frequencies = dict.fromkeys(category_map,0)\n",
    "    \n",
    "    for index, row in frequencyDf.iterrows():\n",
    "        #print(row['tags'],row['value'])\n",
    "        for category_name in category_map:\n",
    "            wordlist = category_map[category_name]\n",
    "            if row['tags'] in wordlist:\n",
    "                category_frequencies[category_name]+=row['value']\n",
    "            \n",
    "    return category_frequencies\n",
    "    \n",
    "# Create a list of dictionaries with the frequencies by category for each park\n",
    "cat_frequencies = []\n",
    "for park in parks_frequency:\n",
    "    cat_frequencies.append(getCategories(park))\n",
    "\n",
    "print(cat_frequencies)"
   ]
  },
  {
   "cell_type": "markdown",
   "metadata": {},
   "source": [
    "2. Convert ces frequency list into a dataframe"
   ]
  },
  {
   "cell_type": "code",
   "execution_count": 2,
   "metadata": {},
   "outputs": [
    {
     "name": "stdout",
     "output_type": "stream",
     "text": [
      "   Existence  Recreation  Social Relations  Aesthetics  Spiritual  \\\n",
      "0        344          51                 0           0         14   \n",
      "1          4          73                40           5          0   \n",
      "2         37           1                 2           9          2   \n",
      "3         56          44                 0           1         11   \n",
      "4         39          30               197           0          0   \n",
      "5        468         187               415          25         39   \n",
      "6         14           6                13           0          1   \n",
      "7         82         169                 0         178          8   \n",
      "\n",
      "   Inspiration  Cultural Heritage  Sense of Place  Cultural Diversity  \\\n",
      "0          517               1698              63                  13   \n",
      "1            0                 13               2                   0   \n",
      "2           16                  2               0                   0   \n",
      "3            4                  0               0                   0   \n",
      "4           76                154               0                1168   \n",
      "5           76                169             112                  85   \n",
      "6            0                  6               0                   0   \n",
      "7            0                  0               0                   0   \n",
      "\n",
      "   Knowledge Systems  Education  \n",
      "0                 30        119  \n",
      "1                  0          0  \n",
      "2                 31          1  \n",
      "3                  0          0  \n",
      "4                  0       3988  \n",
      "5                  0          0  \n",
      "6                  0         12  \n",
      "7                  0          0  \n"
     ]
    }
   ],
   "source": [
    "parksdf = pd.DataFrame(cat_frequencies)\n",
    "print(parksdf)"
   ]
  },
  {
   "cell_type": "markdown",
   "metadata": {},
   "source": [
    "3. Create a list of the park names as they appear in the shape file in the order of the list\n",
    "4. Make this into a dataframe"
   ]
  },
  {
   "cell_type": "code",
   "execution_count": 3,
   "metadata": {},
   "outputs": [
    {
     "data": {
      "text/html": [
       "<div>\n",
       "<style scoped>\n",
       "    .dataframe tbody tr th:only-of-type {\n",
       "        vertical-align: middle;\n",
       "    }\n",
       "\n",
       "    .dataframe tbody tr th {\n",
       "        vertical-align: top;\n",
       "    }\n",
       "\n",
       "    .dataframe thead th {\n",
       "        text-align: right;\n",
       "    }\n",
       "</style>\n",
       "<table border=\"1\" class=\"dataframe\">\n",
       "  <thead>\n",
       "    <tr style=\"text-align: right;\">\n",
       "      <th></th>\n",
       "      <th>0</th>\n",
       "      <th>PARK_NAME</th>\n",
       "    </tr>\n",
       "  </thead>\n",
       "  <tbody>\n",
       "    <tr>\n",
       "      <th>0</th>\n",
       "      <td>Angels Gate Park</td>\n",
       "      <td>Angels Gate Park</td>\n",
       "    </tr>\n",
       "    <tr>\n",
       "      <th>1</th>\n",
       "      <td>Cheviot Hills Park and Recreation Center</td>\n",
       "      <td>Cheviot Hills Park and Recreation Center</td>\n",
       "    </tr>\n",
       "    <tr>\n",
       "      <th>2</th>\n",
       "      <td>Coldwater Canyon Park</td>\n",
       "      <td>Coldwater Canyon Park</td>\n",
       "    </tr>\n",
       "    <tr>\n",
       "      <th>3</th>\n",
       "      <td>Franklin Canyon Park</td>\n",
       "      <td>Franklin Canyon Park</td>\n",
       "    </tr>\n",
       "    <tr>\n",
       "      <th>4</th>\n",
       "      <td>Hancock Park</td>\n",
       "      <td>Hancock Park</td>\n",
       "    </tr>\n",
       "    <tr>\n",
       "      <th>5</th>\n",
       "      <td>MacArthur Park</td>\n",
       "      <td>MacArthur Park</td>\n",
       "    </tr>\n",
       "    <tr>\n",
       "      <th>6</th>\n",
       "      <td>Rio de Los Angeles State Park State Recreation...</td>\n",
       "      <td>Rio de Los Angeles State Park State Recreation...</td>\n",
       "    </tr>\n",
       "    <tr>\n",
       "      <th>7</th>\n",
       "      <td>Runyon Canyon Park</td>\n",
       "      <td>Runyon Canyon Park</td>\n",
       "    </tr>\n",
       "  </tbody>\n",
       "</table>\n",
       "</div>"
      ],
      "text/plain": [
       "                                                   0  \\\n",
       "0                                   Angels Gate Park   \n",
       "1           Cheviot Hills Park and Recreation Center   \n",
       "2                              Coldwater Canyon Park   \n",
       "3                               Franklin Canyon Park   \n",
       "4                                       Hancock Park   \n",
       "5                                     MacArthur Park   \n",
       "6  Rio de Los Angeles State Park State Recreation...   \n",
       "7                                 Runyon Canyon Park   \n",
       "\n",
       "                                           PARK_NAME  \n",
       "0                                   Angels Gate Park  \n",
       "1           Cheviot Hills Park and Recreation Center  \n",
       "2                              Coldwater Canyon Park  \n",
       "3                               Franklin Canyon Park  \n",
       "4                                       Hancock Park  \n",
       "5                                     MacArthur Park  \n",
       "6  Rio de Los Angeles State Park State Recreation...  \n",
       "7                                 Runyon Canyon Park  "
      ]
     },
     "execution_count": 3,
     "metadata": {},
     "output_type": "execute_result"
    }
   ],
   "source": [
    "parknames = ['Angels Gate Park','Cheviot Hills Park and Recreation Center','Coldwater Canyon Park','Franklin Canyon Park','Hancock Park','MacArthur Park','Rio de Los Angeles State Park State Recreation Area','Runyon Canyon Park']\n",
    "\n",
    "parknamesDf = pd.DataFrame(parknames)\n",
    "parknamesDf['PARK_NAME']=parknames\n",
    "parknamesDf"
   ]
  },
  {
   "cell_type": "markdown",
   "metadata": {},
   "source": [
    "5. Join the dataframes so the ces frequency dataframe has associated park"
   ]
  },
  {
   "cell_type": "code",
   "execution_count": 4,
   "metadata": {},
   "outputs": [
    {
     "data": {
      "text/html": [
       "<div>\n",
       "<style scoped>\n",
       "    .dataframe tbody tr th:only-of-type {\n",
       "        vertical-align: middle;\n",
       "    }\n",
       "\n",
       "    .dataframe tbody tr th {\n",
       "        vertical-align: top;\n",
       "    }\n",
       "\n",
       "    .dataframe thead th {\n",
       "        text-align: right;\n",
       "    }\n",
       "</style>\n",
       "<table border=\"1\" class=\"dataframe\">\n",
       "  <thead>\n",
       "    <tr style=\"text-align: right;\">\n",
       "      <th></th>\n",
       "      <th>Existence</th>\n",
       "      <th>Recreation</th>\n",
       "      <th>Social Relations</th>\n",
       "      <th>Aesthetics</th>\n",
       "      <th>Spiritual</th>\n",
       "      <th>Inspiration</th>\n",
       "      <th>Cultural Heritage</th>\n",
       "      <th>Sense of Place</th>\n",
       "      <th>Cultural Diversity</th>\n",
       "      <th>Knowledge Systems</th>\n",
       "      <th>Education</th>\n",
       "      <th>0</th>\n",
       "      <th>PARK_NAME</th>\n",
       "    </tr>\n",
       "  </thead>\n",
       "  <tbody>\n",
       "    <tr>\n",
       "      <th>0</th>\n",
       "      <td>344</td>\n",
       "      <td>51</td>\n",
       "      <td>0</td>\n",
       "      <td>0</td>\n",
       "      <td>14</td>\n",
       "      <td>517</td>\n",
       "      <td>1698</td>\n",
       "      <td>63</td>\n",
       "      <td>13</td>\n",
       "      <td>30</td>\n",
       "      <td>119</td>\n",
       "      <td>Angels Gate Park</td>\n",
       "      <td>Angels Gate Park</td>\n",
       "    </tr>\n",
       "    <tr>\n",
       "      <th>1</th>\n",
       "      <td>4</td>\n",
       "      <td>73</td>\n",
       "      <td>40</td>\n",
       "      <td>5</td>\n",
       "      <td>0</td>\n",
       "      <td>0</td>\n",
       "      <td>13</td>\n",
       "      <td>2</td>\n",
       "      <td>0</td>\n",
       "      <td>0</td>\n",
       "      <td>0</td>\n",
       "      <td>Cheviot Hills Park and Recreation Center</td>\n",
       "      <td>Cheviot Hills Park and Recreation Center</td>\n",
       "    </tr>\n",
       "    <tr>\n",
       "      <th>2</th>\n",
       "      <td>37</td>\n",
       "      <td>1</td>\n",
       "      <td>2</td>\n",
       "      <td>9</td>\n",
       "      <td>2</td>\n",
       "      <td>16</td>\n",
       "      <td>2</td>\n",
       "      <td>0</td>\n",
       "      <td>0</td>\n",
       "      <td>31</td>\n",
       "      <td>1</td>\n",
       "      <td>Coldwater Canyon Park</td>\n",
       "      <td>Coldwater Canyon Park</td>\n",
       "    </tr>\n",
       "    <tr>\n",
       "      <th>3</th>\n",
       "      <td>56</td>\n",
       "      <td>44</td>\n",
       "      <td>0</td>\n",
       "      <td>1</td>\n",
       "      <td>11</td>\n",
       "      <td>4</td>\n",
       "      <td>0</td>\n",
       "      <td>0</td>\n",
       "      <td>0</td>\n",
       "      <td>0</td>\n",
       "      <td>0</td>\n",
       "      <td>Franklin Canyon Park</td>\n",
       "      <td>Franklin Canyon Park</td>\n",
       "    </tr>\n",
       "    <tr>\n",
       "      <th>4</th>\n",
       "      <td>39</td>\n",
       "      <td>30</td>\n",
       "      <td>197</td>\n",
       "      <td>0</td>\n",
       "      <td>0</td>\n",
       "      <td>76</td>\n",
       "      <td>154</td>\n",
       "      <td>0</td>\n",
       "      <td>1168</td>\n",
       "      <td>0</td>\n",
       "      <td>3988</td>\n",
       "      <td>Hancock Park</td>\n",
       "      <td>Hancock Park</td>\n",
       "    </tr>\n",
       "    <tr>\n",
       "      <th>5</th>\n",
       "      <td>468</td>\n",
       "      <td>187</td>\n",
       "      <td>415</td>\n",
       "      <td>25</td>\n",
       "      <td>39</td>\n",
       "      <td>76</td>\n",
       "      <td>169</td>\n",
       "      <td>112</td>\n",
       "      <td>85</td>\n",
       "      <td>0</td>\n",
       "      <td>0</td>\n",
       "      <td>MacArthur Park</td>\n",
       "      <td>MacArthur Park</td>\n",
       "    </tr>\n",
       "    <tr>\n",
       "      <th>6</th>\n",
       "      <td>14</td>\n",
       "      <td>6</td>\n",
       "      <td>13</td>\n",
       "      <td>0</td>\n",
       "      <td>1</td>\n",
       "      <td>0</td>\n",
       "      <td>6</td>\n",
       "      <td>0</td>\n",
       "      <td>0</td>\n",
       "      <td>0</td>\n",
       "      <td>12</td>\n",
       "      <td>Rio de Los Angeles State Park State Recreation...</td>\n",
       "      <td>Rio de Los Angeles State Park State Recreation...</td>\n",
       "    </tr>\n",
       "    <tr>\n",
       "      <th>7</th>\n",
       "      <td>82</td>\n",
       "      <td>169</td>\n",
       "      <td>0</td>\n",
       "      <td>178</td>\n",
       "      <td>8</td>\n",
       "      <td>0</td>\n",
       "      <td>0</td>\n",
       "      <td>0</td>\n",
       "      <td>0</td>\n",
       "      <td>0</td>\n",
       "      <td>0</td>\n",
       "      <td>Runyon Canyon Park</td>\n",
       "      <td>Runyon Canyon Park</td>\n",
       "    </tr>\n",
       "  </tbody>\n",
       "</table>\n",
       "</div>"
      ],
      "text/plain": [
       "   Existence  Recreation  Social Relations  Aesthetics  Spiritual  \\\n",
       "0        344          51                 0           0         14   \n",
       "1          4          73                40           5          0   \n",
       "2         37           1                 2           9          2   \n",
       "3         56          44                 0           1         11   \n",
       "4         39          30               197           0          0   \n",
       "5        468         187               415          25         39   \n",
       "6         14           6                13           0          1   \n",
       "7         82         169                 0         178          8   \n",
       "\n",
       "   Inspiration  Cultural Heritage  Sense of Place  Cultural Diversity  \\\n",
       "0          517               1698              63                  13   \n",
       "1            0                 13               2                   0   \n",
       "2           16                  2               0                   0   \n",
       "3            4                  0               0                   0   \n",
       "4           76                154               0                1168   \n",
       "5           76                169             112                  85   \n",
       "6            0                  6               0                   0   \n",
       "7            0                  0               0                   0   \n",
       "\n",
       "   Knowledge Systems  Education  \\\n",
       "0                 30        119   \n",
       "1                  0          0   \n",
       "2                 31          1   \n",
       "3                  0          0   \n",
       "4                  0       3988   \n",
       "5                  0          0   \n",
       "6                  0         12   \n",
       "7                  0          0   \n",
       "\n",
       "                                                   0  \\\n",
       "0                                   Angels Gate Park   \n",
       "1           Cheviot Hills Park and Recreation Center   \n",
       "2                              Coldwater Canyon Park   \n",
       "3                               Franklin Canyon Park   \n",
       "4                                       Hancock Park   \n",
       "5                                     MacArthur Park   \n",
       "6  Rio de Los Angeles State Park State Recreation...   \n",
       "7                                 Runyon Canyon Park   \n",
       "\n",
       "                                           PARK_NAME  \n",
       "0                                   Angels Gate Park  \n",
       "1           Cheviot Hills Park and Recreation Center  \n",
       "2                              Coldwater Canyon Park  \n",
       "3                               Franklin Canyon Park  \n",
       "4                                       Hancock Park  \n",
       "5                                     MacArthur Park  \n",
       "6  Rio de Los Angeles State Park State Recreation...  \n",
       "7                                 Runyon Canyon Park  "
      ]
     },
     "execution_count": 4,
     "metadata": {},
     "output_type": "execute_result"
    }
   ],
   "source": [
    "parksjoinDf = parksdf.join(parknamesDf, how = 'left')\n",
    "parksjoinDf"
   ]
  },
  {
   "cell_type": "markdown",
   "metadata": {},
   "source": [
    "6. Create a list with the top CES for each park and add it as a column"
   ]
  },
  {
   "cell_type": "code",
   "execution_count": 5,
   "metadata": {},
   "outputs": [],
   "source": [
    "Top_CES = [\"Recreation\",\"Existence\",\"Cultural_Heritage\",\"Existence\",\"Education\",\"Social Relations\",\"Aesthetics\",\"Existence\"]\n",
    "parksjoinDf['Top_CES']=Top_CES"
   ]
  },
  {
   "cell_type": "markdown",
   "metadata": {},
   "source": [
    "7. Import shape file"
   ]
  },
  {
   "cell_type": "code",
   "execution_count": 6,
   "metadata": {},
   "outputs": [],
   "source": [
    "# Import necessary modules\n",
    "import geopandas as gpd\n",
    "\n",
    "# Set filepath (fix path relative to yours)\n",
    "#fp = '/Users/jacquelineadams/Documents/GitHub/LaParks_NLP_6/ces_laparks.shp\"\n",
    "\n",
    "shapefile = gpd.read_file('/Users/jacquelineadams/Documents/GitHub/LaParks_NLP_6/ces_laparks.shp')\n",
    "\n",
    "\n",
    "# Read file using gpd.read_file()\n",
    "#parks_sf = gpd.read_file(parks_shape)\n",
    "#type(parks_sf)"
   ]
  },
  {
   "cell_type": "markdown",
   "metadata": {},
   "source": [
    "8. Join parksjoinDf to the geodataframe parks_sf"
   ]
  },
  {
   "cell_type": "code",
   "execution_count": 15,
   "metadata": {
    "scrolled": true
   },
   "outputs": [
    {
     "name": "stdout",
     "output_type": "stream",
     "text": [
      "<class 'geopandas.geodataframe.GeoDataFrame'>\n"
     ]
    },
    {
     "ename": "CPLE_AppDefinedError",
     "evalue": "b'sqlite3_exec(CREATE TABLE gpkg_extensions (table_name TEXT,column_name TEXT,extension_name TEXT NOT NULL,definition TEXT NOT NULL,scope TEXT NOT NULL,CONSTRAINT ge_tce UNIQUE (table_name, column_name, extension_name))) failed: attempt to write a readonly database'",
     "output_type": "error",
     "traceback": [
      "\u001b[0;31m---------------------------------------------------------------------------\u001b[0m",
      "\u001b[0;31mCPLE_AppDefinedError\u001b[0m                      Traceback (most recent call last)",
      "\u001b[0;32mfiona/_err.pyx\u001b[0m in \u001b[0;36mfiona._err.GDALErrCtxManager.__exit__\u001b[0;34m()\u001b[0m\n",
      "\u001b[0;31mCPLE_AppDefinedError\u001b[0m: b'sqlite3_exec(CREATE TABLE gpkg_extensions (table_name TEXT,column_name TEXT,extension_name TEXT NOT NULL,definition TEXT NOT NULL,scope TEXT NOT NULL,CONSTRAINT ge_tce UNIQUE (table_name, column_name, extension_name))) failed: attempt to write a readonly database'"
     ]
    },
    {
     "name": "stderr",
     "output_type": "stream",
     "text": [
      "Exception ignored in: 'fiona._shim.gdal_flush_cache'\n",
      "Traceback (most recent call last):\n",
      "  File \"fiona/_err.pyx\", line 201, in fiona._err.GDALErrCtxManager.__exit__\n",
      "fiona._err.CPLE_AppDefinedError: b'sqlite3_exec(CREATE TABLE gpkg_extensions (table_name TEXT,column_name TEXT,extension_name TEXT NOT NULL,definition TEXT NOT NULL,scope TEXT NOT NULL,CONSTRAINT ge_tce UNIQUE (table_name, column_name, extension_name))) failed: attempt to write a readonly database'\n"
     ]
    }
   ],
   "source": [
    "park_shapes = shapefile.merge(parksjoinDf, on='PARK_NAME')\n",
    "\n",
    "park_shapes.to_csv('park_shapes.csv') "
   ]
  },
  {
   "cell_type": "code",
   "execution_count": null,
   "metadata": {},
   "outputs": [],
   "source": [
    "import contextily as cx\n",
    "\n",
    "f, ax = plt.subplots(1,1,figsize=(20,20))\n",
    "park_shapes.dropna(subset=['geometry'], axis=0).plot('geometry', ax=ax, cmap='plasma')\n",
    "ax.set_facecolor('k')"
   ]
  },
  {
   "cell_type": "code",
   "execution_count": null,
   "metadata": {
    "scrolled": false
   },
   "outputs": [],
   "source": [
    "# Tags on map\n",
    "import contextily as ctx\n",
    "import matplotlib.pyplot as plt\n",
    "\n",
    "fig, ax = plt.subplots(figsize=(20,20))\n",
    "park_shapes.to_crs('EPSG:3857').plot(color='r', ax=ax) # remember, 3857 is Web Mercator\n",
    "\n",
    "# let's add a basemap using the contextily library\n",
    "ctx.add_basemap(ax, zoom=12)\n",
    "\n",
    "# and we really don't need the axis ticks and labels, so we set them to an empty list\n",
    "ax.set_xticks([])\n",
    "ax.set_yticks([])"
   ]
  },
  {
   "cell_type": "code",
   "execution_count": null,
   "metadata": {},
   "outputs": [],
   "source": [
    "def plot_shape(id, s=None):\n",
    "    \"\"\" PLOTS A SINGLE SHAPE \"\"\"\n",
    "    plt.figure()\n",
    "    ax = plt.axes()\n",
    "    ax.set_aspect('equal')\n",
    "    shape_ex = sf.shape(id)\n",
    "    x_lon = np.zeros((len(shape_ex.points),1))\n",
    "    y_lat = np.zeros((len(shape_ex.points),1))\n",
    "    for ip in range(len(shape_ex.points)):\n",
    "        x_lon[ip] = shape_ex.points[ip][0]\n",
    "        y_lat[ip] = shape_ex.points[ip][1]\n",
    "    plt.plot(x_lon,y_lat) \n",
    "    x0 = np.mean(x_lon)\n",
    "    y0 = np.mean(y_lat)\n",
    "    plt.text(x0, y0, s, fontsize=10)\n",
    "    # use bbox (bounding box) to set plot limits\n",
    "    plt.xlim(shape_ex.bbox[0],shape_ex.bbox[2])\n",
    "    return x0, y0"
   ]
  },
  {
   "cell_type": "code",
   "execution_count": null,
   "metadata": {},
   "outputs": [],
   "source": [
    "#import contextily as ctx\n",
    "import matplotlib.pyplot as plt\n",
    "%matplotlib inline\n",
    "\n",
    "fig, ax = plt.subplots(1,1, figsize=(25,25))\n",
    "\n",
    "# basemaps are typically in Web Mercator (projection 3857), so we need to reproject our dataframe to this\n",
    "# alpha sets the transparency\n",
    "park_shapes.to_crs('EPSG:3857').plot('Top_CES', cmap='plasma', legend=True, ax = ax, alpha=.75)\n",
    "\n",
    "\n",
    "# let's add a basemap using the contextily library\n",
    "# a bell and whistle I added here was to use a different basemap, so that the income data are not overwhelmed\n",
    "# see here for examples: https://contextily.readthedocs.io/en/latest/providers_deepdive.html\n",
    "ctx.add_basemap(ax, zoom=12, source=ctx.providers.Stamen.TonerLite)\n",
    "\n",
    "# and we really don't need the axis ticks and labels, so we set them to an empty list\n",
    "ax.set_xticks([])\n",
    "ax.set_yticks([])\n",
    "\n",
    "ax.set(title='Cultural Ecosystem Services by Park')\n",
    "\n",
    "# save to a file\n",
    "#fig.savefig('med_inc.png')"
   ]
  },
  {
   "cell_type": "markdown",
   "metadata": {},
   "source": [
    "Looking at the map of donimant CES "
   ]
  },
  {
   "cell_type": "markdown",
   "metadata": {},
   "source": [
    "# Past attempts"
   ]
  },
  {
   "cell_type": "code",
   "execution_count": null,
   "metadata": {},
   "outputs": [],
   "source": [
    "#importing parks csv\n",
    "import pandas as pd\n",
    "\n",
    "# You might need to add a path as well\n",
    "fn = 'parks_data.csv'\n",
    "parks_data = pd.read_csv(fn)\n",
    "parks_data.head()"
   ]
  },
  {
   "cell_type": "code",
   "execution_count": null,
   "metadata": {},
   "outputs": [],
   "source": [
    "import nltk\n",
    "import re\n",
    "from nltk.tokenize import word_tokenize, sent_tokenize\n",
    "from nltk.corpus import stopwords\n",
    "\n",
    "swords = [re.sub(r\"[^A-z\\s]\", \"\", sword) for sword in stopwords.words('english')]\n",
    "swords += ['losangeles', 'la', 'losangelesca', 'ca', 'macarthur', 'macarthurpark', 'woodley', 'riodelosangeles', 'runyoncanyon', \n",
    "           'temescalgateway', 'heidelbergpark', 'hancockpark', 'franklincanyonpark', 'franklincanyonpark', 'angelsgate', \n",
    "           'coldwatercanyon', 'chatsworthparksouth','cheviothills', 'california', 'usa', 'southerncalifornia', 'park', 'parklabrea', \n",
    "          'unitedstates', 'america']\n",
    "\n",
    "def clean_string(text):\n",
    "    # remove punctuation\n",
    "    text = re.sub(r\"[^A-z\\s]\", \"\", text)\n",
    "    \n",
    "    cleaned_list_of_words = [word for word in word_tokenize(text.lower()) if word not in swords] #return a string or apply to all tags\n",
    "    \n",
    "    return cleaned_list_of_words\n",
    "\n",
    "#calling the function to only apply to the tags column \n",
    "parks_data['tags'] = parks_data['tags'].apply(clean_string)\n"
   ]
  },
  {
   "cell_type": "code",
   "execution_count": null,
   "metadata": {},
   "outputs": [],
   "source": [
    "parks_data\n",
    "parks_data.parkname.unique()"
   ]
  },
  {
   "cell_type": "markdown",
   "metadata": {},
   "source": [
    "# category map codes by park"
   ]
  },
  {
   "cell_type": "code",
   "execution_count": null,
   "metadata": {},
   "outputs": [],
   "source": [
    "category_CES = ['Existence','Recreation','Social Relations','Aesthetics', 'Knowledge Systems',\n",
    "              'Inspiration', 'Cultural Heritage','Education', 'Sense of Place','Cultural Diversity','Spiritual']"
   ]
  },
  {
   "cell_type": "code",
   "execution_count": null,
   "metadata": {},
   "outputs": [],
   "source": [
    "# Franklin Canyon Park\n",
    "category_map_franklincanyon = { 'Existence': ['santamonicamountains','franklincanyonlake','losangelesmountains','mayberrylake','myerslake','grass','lake','trees','ducks','water','evergreens','frog','woods'], \n",
    "                               'Recreation': ['rustythedog','canine','chihuahuamix','mutt','dog','pet','weeksfordogs','urbanhiking'],\n",
    "                               'Social Relations':[],\n",
    "                               'Aesthetics':['sky'], \n",
    "                               'Knowledge Systems':[],\n",
    "                               'Inspiration':[], \n",
    "                               'Cultural Heritage':[],\n",
    "                               'Education':[], \n",
    "                               'Sense of Place':[],\n",
    "                               'Cultural Diversity':[],\n",
    "                               'Spiritual':['nature','neature']}"
   ]
  },
  {
   "cell_type": "code",
   "execution_count": null,
   "metadata": {},
   "outputs": [],
   "source": [
    "# Hancock park\n",
    "category_map_hancockpark = { 'Existence': ['garden','parks',], \n",
    "                               'Recreation': ['gardentour','fish'],\n",
    "                               'Social Relations':['gardenparty','people','picnik'],\n",
    "                               'Aesthetics':[], \n",
    "                               'Knowledge Systems':[],\n",
    "                               'Inspiration':[], \n",
    "                               'Cultural Heritage':['sculpture','art','statue'],\n",
    "                               'Education':['georgecpagemuseum','museums','losangelescountymuseumofart','iceage','pleistocene','skeletons',\n",
    "                                            'skulls','pit','tarpits','labreatarpits','labrea','museum','pagemuseum','fossils','bones','paleontology',\n",
    "                                           'lacma','animalsmammoths','excavation','sabretooth','tigers','giantgroundsloths','gettyhouse',\n",
    "                                           'tar','sabretoothtigers','olympusem','skeleton','fossil','mammoth','mastodon'], \n",
    "                               'Sense of Place':[],\n",
    "                               'Cultural Diversity':['lapride','westhollywoodpride','lagaypride','westhollywoodgaypride','losangelespride',\n",
    "                                                     'losangelesgaypride','pride','gaypride'],\n",
    "                               'Spiritual':['treasuresoflosangelesarchitecture']}"
   ]
  },
  {
   "cell_type": "code",
   "execution_count": null,
   "metadata": {},
   "outputs": [],
   "source": [
    "# Rio del Los Angeles Park\n",
    "category_map_riodellosangeles = { 'Existence': ['lariver','losangelesriver','grass'], \n",
    "                               'Recreation': ['campout'],\n",
    "                               'Social Relations':['walkathon','earthday'],\n",
    "                               'Aesthetics':[], \n",
    "                               'Knowledge Systems':[],\n",
    "                               'Inspiration':[], \n",
    "                               'Cultural Heritage':['losangelesstatehistoricpark'],\n",
    "                               'Education':['environmentaljustice','urbanparkmovement'], \n",
    "                               'Sense of Place':[],\n",
    "                               'Cultural Diversity':[],\n",
    "                               'Spiritual':['outside']}\n",
    "#note: I recategorized grass into existence instead of aesthetics...."
   ]
  },
  {
   "cell_type": "code",
   "execution_count": null,
   "metadata": {},
   "outputs": [],
   "source": [
    "# Runyon Canyon Park\n",
    "category_map_runyon = { 'Existence': ['mountains','canyons','hills','mountains','hill','horse'], \n",
    "                               'Recreation': ['hiking','hike','sunriserunyon','sunriseinrunyon','sunriseinrunyoncanyonpark',\n",
    "                                              'trail','observatory','run','jog'],\n",
    "                               'Social Relations':[],\n",
    "                               'Aesthetics':['textures','texturemaps','texturemap','texture','sunset','sky','skyline',\n",
    "                                             'clouds','sun','weather','sunrise','pacificocean','panorama','color'], \n",
    "                               'Knowledge Systems':[],\n",
    "                               'Inspiration':[], \n",
    "                               'Cultural Heritage':[],\n",
    "                               'Education':[], \n",
    "                               'Sense of Place':[],\n",
    "                               'Cultural Diversity':[],\n",
    "                               'Spiritual':[]}"
   ]
  },
  {
   "cell_type": "code",
   "execution_count": null,
   "metadata": {},
   "outputs": [],
   "source": [
    "# Coldwater Canyon Park\n",
    "category_map_runyon = { 'Existence': ['tujungawashgreenway','tujungawash','pacificocean'], \n",
    "                               'Recreation': ['summerolympics'],\n",
    "                               'Social Relations':['zurbulon'],\n",
    "                               'Aesthetics':['overlook','sunset','viewpoint','scenicoverview','mulhollandscenicoverview',\n",
    "                                             'brown','barbaraafineoverlook','lasunset','midcenturymodernhomes'], \n",
    "                               'Knowledge Systems':['lahistory','californiahistory'],\n",
    "                               'Inspiration':['mural'], \n",
    "                               'Cultural Heritage':['charliechaplin'],\n",
    "                               'Education':['losangelespubliclibrary'], \n",
    "                               'Sense of Place':[],\n",
    "                               'Cultural Diversity':[],\n",
    "                               'Spiritual':['church','littlebrownchurchinthevalley']}"
   ]
  },
  {
   "cell_type": "code",
   "execution_count": null,
   "metadata": {},
   "outputs": [],
   "source": [
    "# Cheviot Hills Park\n",
    "category_map_cheviothills = { 'Existence': ['sky','weather','tree','cloudy'], \n",
    "                               'Recreation': ['westerncup','sports','quidditch','nikon','nikond','dog','puggle',\n",
    "                                              'puppy','referee','boat'],\n",
    "                               'Social Relations':['harrypotter','wand'],\n",
    "                               'Aesthetics':['green','landscape'], \n",
    "                               'Knowledge Systems':[],\n",
    "                               'Inspiration':[], \n",
    "                               'Cultural Heritage':['parlance'],\n",
    "                               'Education':[], \n",
    "                               'Sense of Place':['geeks','geek','neighborhood'],\n",
    "                               'Cultural Diversity':[],\n",
    "                               'Spiritual':[]}"
   ]
  },
  {
   "cell_type": "markdown",
   "metadata": {},
   "source": [
    "# importing shape file\n",
    "https://www.earthdatascience.org/workshops/gis-open-source-python/intro-vector-data-python/"
   ]
  },
  {
   "cell_type": "code",
   "execution_count": null,
   "metadata": {},
   "outputs": [],
   "source": [
    "import shapefile as shp\n",
    "#/Users/morganrogers/Documents/GitHub/LaParks_NLP/ces_laparks.shp\n",
    "\n",
    "# opening the vector map\n",
    "shp_path = \"/Users/morganrogers/Documents/GitHub/LaParks_NLP/ces_laparks.shp\"\n",
    "assert os.path.exists(shp_path), \"Input file does not exist.\"\n",
    "\n",
    "# reading the shape file by using reader function of the shape lib\n",
    "sf = shp.Reader(shp_path)"
   ]
  },
  {
   "cell_type": "markdown",
   "metadata": {},
   "source": [
    "# CES visualization "
   ]
  },
  {
   "cell_type": "code",
   "execution_count": null,
   "metadata": {},
   "outputs": [],
   "source": [
    "category_map = { 'Existence': ['westlake', 'lake','palmtrees','palms','elks','parkplaza','birds','palmtree', 'santamonicamountains','franklincanyonlake','losangelesmountains','mayberrylake','myerslake','grass','lake','trees','ducks','water','evergreens','frog','woods', 'ice', 'fluids','iceblocks','blocksofice','wallofice','harbor', 'sky', 'weather','tree','cloudy','garden','parks','lariver','losangelesriver','grass','mountains','canyons','hills','mountains','hill','horse','tujungawashgreenway','tujungawash','pacificocean','sky','weather','tree','cloudy'], \n",
    "                'Recreation': ['music','bikes','lilihaydn','bicycles','violin','ciclovia','loslobos','event', 'rustythedog','canine','chihuahuamix','mutt','dog','pet','weeksfordogs','urbanhiking', 'costumes', 'costume', 'cosplay', 'boomerang', 'lighthouse','westerncup','sports', 'quidditch', 'dog', 'puggle', 'puppy', 'referee', 'boat', 'nikon', 'nikond','gardentour','fish','campout','hiking','hike','sunriserunyon','sunriseinrunyon','sunriseinrunyoncanyonpark','trail','observatory','run','jog','summerolympics','westerncup','sports','quidditch','nikon','nikond','dog','puggle','puppy','referee','boat'], \n",
    "                'Social Relations': ['ciclavia','rally','protest','keepfamliestogethor','tamale','asada','alpastor','march','carnitas','eltaurino','burrito','thegreattacohunt','lasantacon','people','tacos','food','harrypotter', 'wand', 'geeks', 'geek','gardenparty','people','picnik','walkathon','earthday','zurbulon','harrypotter','wand'],\n",
    "                'Aesthetics': ['colorful','green', 'landscape','textures','texturemaps','texturemap','texture','sunset','sky','skyline','clouds','sun','weather','sunrise','pacificocean','panorama','color','overlook','sunset','viewpoint','scenicoverview','mulhollandscenicoverview','brown','barbaraafineoverlook','lasunset','green','landscape'],\n",
    "                'Spiritual': ['signs','sanity','nature','neature','harborinterfaith','outside','church','littlebrownchurchinthevalley'], \n",
    "                'Inspiration':['art','portraitsofhope','publicart', 'artonthewaterfront', 'artist', 'sculpture', 'printmaking', 'portrait', 'contemporaryart', 'painting', 'polaroid', 'draw', 'photographer', 'studioartist', 'prints','mural'],\n",
    "                'Cultural Heritage': ['landmark','monument', 'curlettandbeelman','fortmacarthur','warreinactment', 'agcc', 'angelsgateculturalcenter', 'openstudios', 'allankaprow', 'gallerya', 'artgallery', 'gallery', 'artexhibition', 'slobodandimitrov', 'culturalcenter', 'exhibition', 'downstairsgallery', 'installation', 'hillarybradfield', 'festival','parlance','sculpture','art','statue','treasuresoflosangelesarchitecture','losangelesstatehistoricpark','midcenturymodernhomes','charliechaplin','parlance'],\n",
    "                'Sense of Place': ['neighborhood','community','eccideasclub', 'sanpedro', 'neighborhood'], \n",
    "                'Cultural Diversity': ['mexican','lengua','march','immigration','czechart','lapride','westhollywoodpride','lagaypride','westhollywoodgaypride','losangelespride','losangelesgaypride','pride','gaypride'],\n",
    "                'Knowledge Systems': ['historyofsanpedropunk', 'belleepoque','lahistory','californiahistory'],\n",
    "                'Education': ['portoflosangeles', 'port','portofla','marshallastor','berth','georgecpagemuseum','museums','losangelescountymuseumofart','iceage','pleistocene','skeletons','skulls','pit','tarpits','labreatarpits','labrea','museum','pagemuseum','fossils','bones','paleontology','lacma','animalsmammoths','excavation','sabretooth','tigers','giantgroundsloths','gettyhouse','tar','sabretoothtigers','olympusem','skeleton','fossil','mammoth','mastodon','environmentaljustice','urbanparkmovement','losangelespubliclibrary'\n",
    "                             ]}\n",
    "\n",
    "# Import the csv of frequencies for each park under consideration\n",
    "fns = ['top_tags_angelsgate.csv','top_tags_cheviothills.csv','top_tags_coldwatercanyon.csv',\n",
    "       'top_tags_franklincanyonpark.csv','top_tags_hancockpark.csv','top_tags_macarthur.csv',\n",
    "       'top_tags_riodelosangeles.csv','top_tags_runyoncanyon.csv']\n",
    "parks_frequency = []\n",
    "for fn in fns: \n",
    "    parks_frequency.append(pd.read_csv(fn))\n",
    "\n",
    "#print(parks_frequency)\n",
    "\n",
    "# Create a function to loop over the categories and sum the words associated with each category  \n",
    "def getCategories(frequencyDf):\n",
    "    \n",
    "    category_frequencies = dict.fromkeys(category_map,0)\n",
    "    \n",
    "    for index, row in frequencyDf.iterrows():\n",
    "        #print(row['tags'],row['value'])\n",
    "        for category_name in category_map:\n",
    "            wordlist = category_map[category_name]\n",
    "            if row['tags'] in wordlist:\n",
    "                category_frequencies[category_name]+=row['value']\n",
    "            \n",
    "    return category_frequencies\n",
    "    \n",
    "# Create a list of dictionaries with the frequencies by category for each park\n",
    "cat_frequencies = []\n",
    "for park in parks_frequency:\n",
    "    cat_frequencies.append(getCategories(park))\n",
    "\n",
    "print(cat_frequencies)"
   ]
  },
  {
   "cell_type": "code",
   "execution_count": null,
   "metadata": {},
   "outputs": [],
   "source": [
    "import pandas as pd\n",
    "\n",
    "parksdf = pd.DataFrame(cat_frequencies)\n",
    "print(parksdf)"
   ]
  },
  {
   "cell_type": "code",
   "execution_count": null,
   "metadata": {},
   "outputs": [],
   "source": [
    "# create list of park names as they appear in shp file\n",
    "\n",
    "parknames = ['Angels Gate Park','Cheviot Hills Park and Recreation Center','Coldwater Canyon Park','Franklin Canyon Park','Hancock Park','MacArthur Park','Rio de Los Angeles State Park State Recreation Area','Runyon Canyon Park']\n",
    "\n",
    "parknamesDf = pd.DataFrame(parknames)\n",
    "parknamesDf['PARK_NAME']=parknames\n",
    "parknamesDf"
   ]
  },
  {
   "cell_type": "code",
   "execution_count": null,
   "metadata": {},
   "outputs": [],
   "source": [
    "# add parknamesDf as a column to parksDf\n",
    "parksjoinDf = parksdf.join(parknamesDf, how = 'left')\n",
    "parksjoinDf"
   ]
  },
  {
   "cell_type": "markdown",
   "metadata": {},
   "source": [
    "# join parksjoinDf to parks geodataframe"
   ]
  },
  {
   "cell_type": "code",
   "execution_count": null,
   "metadata": {},
   "outputs": [],
   "source": [
    "\n",
    "# https://towardsdatascience.com/mapping-geograph-data-in-python-610a963d2d7f\n",
    "\n",
    "import shapefile as shp\n",
    "#/Users/morganrogers/Documents/GitHub/LaParks_NLP/ces_laparks.shp\n",
    "\n",
    "# opening the vector map\n",
    "shp_path = \"/Users/morganrogers/Documents/GitHub/LaParks_NLP/ces_laparks.shp\"\n",
    "assert os.path.exists(shp_path), \"Input file does not exist.\"\n",
    "\n",
    "# reading the shape file by using reader function of the shape lib\n",
    "sf = shp.Reader(shp_path)\n",
    "\n",
    "def read_shapefile(sf):\n",
    "    \"\"\"\n",
    "    Read a shapefile into a Pandas dataframe with a 'coords' \n",
    "    column holding the geometry information. This uses the pyshp\n",
    "    package\n",
    "    \"\"\"\n",
    "    fields = [x[0] for x in sf.fields][1:]\n",
    "    records = sf.records()\n",
    "    shps = [s.points for s in sf.shapes()]\n",
    "    df = pd.DataFrame(columns=fields, data=records)\n",
    "    df = df.assign(coords=shps)\n",
    "    return df\n",
    "\n",
    "df = read_shapefile(sf)\n",
    "df.shape"
   ]
  },
  {
   "cell_type": "code",
   "execution_count": null,
   "metadata": {},
   "outputs": [],
   "source": [
    "df.sample(5)"
   ]
  },
  {
   "cell_type": "code",
   "execution_count": null,
   "metadata": {},
   "outputs": [],
   "source": [
    "#set index to srprec for both dfs\n",
    "\n",
    "#df.set_index('PARK_NAME', inplace=True)\n",
    "#parksjoinDf.set_index('PARK_NAME', inplace=True)\n",
    "\n",
    "# join\n",
    "parksmap = df.join(parksjoinDf, on = 'PARK_NAME', how = 'left')\n",
    "parksmap\n",
    "parksmap.head()"
   ]
  },
  {
   "cell_type": "code",
   "execution_count": null,
   "metadata": {},
   "outputs": [],
   "source": [
    "Top_CES = [\"Recreation\",\"Existence\",\"Cultural_Heritage\",\"Existence\",\"Education\",\"Social Relations\",\"Aesthetics\",\"Existence\"]\n",
    "parksmap['Top_CES']=Top_CES\n",
    "parksmap"
   ]
  },
  {
   "cell_type": "code",
   "execution_count": null,
   "metadata": {},
   "outputs": [],
   "source": [
    "#turn parkmaps into a geodataframe\n",
    "#parksmap['coords'].head()\n",
    "#parksmap.plot(column='Top_CES')\n",
    "type(parksmap)"
   ]
  },
  {
   "cell_type": "code",
   "execution_count": null,
   "metadata": {},
   "outputs": [],
   "source": [
    "# convert coords to string\n",
    "parksmap['coords'] = parksmap['coords'].astype(str)"
   ]
  },
  {
   "cell_type": "code",
   "execution_count": null,
   "metadata": {},
   "outputs": [],
   "source": [
    "parksmap['coords'] = gpd.GeoSeries.from_wkt(parksmap['coords'])\n",
    "my_geo_df = gpd.GeoDataFrame(parksmap, geometry='coords')"
   ]
  },
  {
   "cell_type": "code",
   "execution_count": null,
   "metadata": {},
   "outputs": [],
   "source": [
    "\n",
    "#import contextily as ctx\n",
    "import matplotlib.pyplot as plt\n",
    "%matplotlib inline\n",
    "\n",
    "fig, ax = plt.subplots(1,1, figsize=(25,25))\n",
    "\n",
    "# basemaps are typically in Web Mercator (projection 3857), so we need to reproject our dataframe to this\n",
    "# alpha sets the transparency\n",
    "parkmaps.to_crs('EPSG:3857').plot('Top_CES', cmap='plasma', legend=True, ax = ax, alpha=.2)"
   ]
  },
  {
   "cell_type": "code",
   "execution_count": null,
   "metadata": {},
   "outputs": [],
   "source": [
    "# Import necessary modules\n",
    "import geopandas as gpd\n",
    "\n",
    "# Set filepath (fix path relative to yours)\n",
    "fp = \"/Users/morganrogers/Documents/GitHub/LaParks_NLP/ces_laparks.shp\"\n",
    "\n",
    "# Read file using gpd.read_file()\n",
    "data = gpd.read_file(fp)"
   ]
  },
  {
   "cell_type": "code",
   "execution_count": null,
   "metadata": {},
   "outputs": [],
   "source": [
    "ces_list = [\"Recreation\",\"Existence\",\"Cultural_Heritage\",\"Existence\",\"Education\",\"Social Relations\",\"Aesthetics\",\"Existence\"]\n",
    "\n",
    "cesDf = pd.DataFrame(ces_list)\n",
    "cesDf['Top_CES']=cesDf\n",
    "cesDf\n",
    "\n",
    "# add park name column to cesDf\n",
    "cesDf['PARK_NAME'] = parknames\n",
    "cesDf"
   ]
  },
  {
   "cell_type": "code",
   "execution_count": null,
   "metadata": {},
   "outputs": [],
   "source": [
    "#cesDf.set_index('PARK_NAME', inplace=True)\n",
    "#parksmap.set_index('PARK_NAME',inplace=True)\n",
    "parksmap2 = parksmap(cesDf, on = 'PARK_NAME', how = 'left')"
   ]
  },
  {
   "cell_type": "code",
   "execution_count": null,
   "metadata": {},
   "outputs": [],
   "source": [
    "# create a list of corresponding dominant CES and add it as a column\n",
    "\n",
    "# create a list of conditions\n",
    "conditions = [\n",
    "    (parksmap['Existence']>parksmap['Recreation']) | (parksmap['Existence']>parksmap['Social Relations'])\n",
    "    | (parksmap['Existence']>parksmap['Social Relations']) | (parksmap['Existence']>parksmap['Aesthetics'])\n",
    "    | (parksmap['Existence']>parksmap['Spiritual']) | (parksmap['Existence']>parksmap['Inspiration']) | \n",
    "    (parksmap['Existence']>parksmap['Cultural Heritage']) | (parksmap['Existence']>parksmap['Sense of Place'])\n",
    "    | (parksmap['Existence']>parksmap['Cultural Diversity']) | (parksmap['Existence']>parksmap['Knowledge Systems'])\n",
    "    | (parksmap['Existence']>parksmap['Education'])\n",
    "    (parksmap['Recreation']>parksmap['Existence']) | (parksmap['Recreation']>parksmap['Social Relations'])\n",
    "    | (parksmap['Recreation']>parksmap['Social Relations']) | (parksmap['Recreation']>parksmap['Aesthetics'])\n",
    "    | (parksmap['Recreation']>parksmap['Spiritual']) | (parksmap['Recreation']>parksmap['Inspiration']) | \n",
    "    (parksmap['Recreation']>parksmap['Cultural Heritage']) | (parksmap['Recreation']>parksmap['Sense of Place'])\n",
    "    | (parksmap['Recreation']>parksmap['Cultural Diversity']) | (parksmap['Recreation']>parksmap['Knowledge Systems'])\n",
    "    | (parksmap['Recreation']>parksmap['Education'])\n",
    "    #(parksmap['Recreation']>parksmap['Existence'],parksmap['Social Relations'],parksmap['Social Relations'],\n",
    "    #parksmap['Aesthetics'],parksmap['Spiritual'],parksmap['Inspiration'],parksmap['Cultural Heritage'],\n",
    "    #parksmap['Sense of Place'],parksmap['Cultural Diversity'],parksmap['Knowledge Systems'],parksmap['Education']))\n",
    "]\n",
    "values =['Existence','Recreation']\n",
    "#values =['Existence','Recreation']\n",
    "\n",
    "parksmap['Top_CES'] = np.select(conditions,values)\n",
    "parksmap"
   ]
  },
  {
   "cell_type": "code",
   "execution_count": null,
   "metadata": {},
   "outputs": [],
   "source": [
    "# this didn't work :/\n",
    "# change column name to PARK_NAME\n",
    "\n",
    "parksjoinDf.rename(columns={\"0\":\"PARK_NAME\"})"
   ]
  },
  {
   "cell_type": "code",
   "execution_count": null,
   "metadata": {},
   "outputs": [],
   "source": [
    "from itertools import chain\n",
    "\n",
    "#print list(chain(*cat_frequencies))\n",
    "# or better: (available since Python 2.6)\n",
    "print list(chain.from_iterable(cat_frequencies))"
   ]
  },
  {
   "cell_type": "markdown",
   "metadata": {},
   "source": [
    "# visualize shape file"
   ]
  },
  {
   "cell_type": "code",
   "execution_count": null,
   "metadata": {},
   "outputs": [],
   "source": [
    "pip install seaborn"
   ]
  },
  {
   "cell_type": "code",
   "execution_count": null,
   "metadata": {},
   "outputs": [],
   "source": [
    "import numpy as np\n",
    "import pandas as pd\n",
    "import shapefile as shp\n",
    "import matplotlib.pyplot as plt\n",
    "import seaborn as sns"
   ]
  },
  {
   "cell_type": "code",
   "execution_count": null,
   "metadata": {},
   "outputs": [],
   "source": [
    "# https://towardsdatascience.com/mapping-geograph-data-in-python-610a963d2d7f\n",
    "\n",
    "import shapefile as shp\n",
    "#/Users/morganrogers/Documents/GitHub/LaParks_NLP/ces_laparks.shp\n",
    "\n",
    "# opening the vector map\n",
    "shp_path = \"/Users/morganrogers/Documents/GitHub/LaParks_NLP/ces_laparks.shp\"\n",
    "assert os.path.exists(shp_path), \"Input file does not exist.\"\n",
    "\n",
    "# reading the shape file by using reader function of the shape lib\n",
    "sf = shp.Reader(shp_path)\n",
    "\n",
    "def read_shapefile(sf):\n",
    "    \"\"\"\n",
    "    Read a shapefile into a Pandas dataframe with a 'coords' \n",
    "    column holding the geometry information. This uses the pyshp\n",
    "    package\n",
    "    \"\"\"\n",
    "    fields = [x[0] for x in sf.fields][1:]\n",
    "    records = sf.records()\n",
    "    shps = [s.points for s in sf.shapes()]\n",
    "    df = pd.DataFrame(columns=fields, data=records)\n",
    "    df = df.assign(coords=shps)\n",
    "    return df\n",
    "\n",
    "df = read_shapefile(sf)\n",
    "df.shape"
   ]
  },
  {
   "cell_type": "code",
   "execution_count": null,
   "metadata": {},
   "outputs": [],
   "source": [
    "df.sample(5)\n",
    "df.coords"
   ]
  },
  {
   "cell_type": "code",
   "execution_count": null,
   "metadata": {},
   "outputs": [],
   "source": [
    "df.PARK_NAME"
   ]
  },
  {
   "cell_type": "code",
   "execution_count": null,
   "metadata": {},
   "outputs": [],
   "source": [
    "def plot_shape(id, s=None):\n",
    "    \"\"\" PLOTS A SINGLE SHAPE \"\"\"\n",
    "    plt.figure()\n",
    "    ax = plt.axes()\n",
    "    ax.set_aspect('equal')\n",
    "    shape_ex = sf.shape(id)\n",
    "    x_lon = np.zeros((len(shape_ex.points),1))\n",
    "    y_lat = np.zeros((len(shape_ex.points),1))\n",
    "    for ip in range(len(shape_ex.points)):\n",
    "        x_lon[ip] = shape_ex.points[ip][0]\n",
    "        y_lat[ip] = shape_ex.points[ip][1]\n",
    "    plt.plot(x_lon,y_lat) \n",
    "    x0 = np.mean(x_lon)\n",
    "    y0 = np.mean(y_lat)\n",
    "    plt.text(x0, y0, s, fontsize=10)\n",
    "    # use bbox (bounding box) to set plot limits\n",
    "    plt.xlim(shape_ex.bbox[0],shape_ex.bbox[2])\n",
    "    return x0, y0"
   ]
  },
  {
   "cell_type": "code",
   "execution_count": null,
   "metadata": {},
   "outputs": [],
   "source": [
    "def plot_map(sf, x_lim = None, y_lim = None, figsize = (20,40)):\n",
    "    '''\n",
    "    Plot map with lim coordinates\n",
    "    '''\n",
    "    plt.figure(figsize = figsize)\n",
    "    id=0\n",
    "    for shape in sf.shapeRecords():\n",
    "        x = [i[0] for i in shape.shape.points[:]]\n",
    "        y = [i[1] for i in shape.shape.points[:]]\n",
    "        plt.plot(x, y, 'k')\n",
    "        \n",
    "        if (x_lim == None) & (y_lim == None):\n",
    "            x0 = np.mean(x)\n",
    "            y0 = np.mean(y)\n",
    "            plt.text(x0, y0, id, fontsize=10)\n",
    "        id = id+1\n",
    "    \n",
    "    if (x_lim != None) & (y_lim != None):     \n",
    "        plt.xlim(x_lim)\n",
    "        plt.ylim(y_lim)"
   ]
  },
  {
   "cell_type": "code",
   "execution_count": null,
   "metadata": {},
   "outputs": [],
   "source": [
    "plot_map(sf)\n",
    "type(plot_map)"
   ]
  },
  {
   "cell_type": "markdown",
   "metadata": {},
   "source": [
    "# join frequency data to shp file frame to get dominate CES"
   ]
  },
  {
   "cell_type": "code",
   "execution_count": null,
   "metadata": {},
   "outputs": [],
   "source": [
    "# https://towardsdatascience.com/mapping-geograph-data-in-python-610a963d2d7f\n",
    "\n",
    "import shapefile as shp\n",
    "#/Users/morganrogers/Documents/GitHub/LaParks_NLP/ces_laparks.shp\n",
    "\n",
    "# opening the vector map\n",
    "shp_path = \"/Users/morganrogers/Documents/GitHub/LaParks_NLP/ces_laparks.shp\"\n",
    "assert os.path.exists(shp_path), \"Input file does not exist.\"\n",
    "\n",
    "# reading the shape file by using reader function of the shape lib\n",
    "sf = shp.Reader(shp_path)\n",
    "\n",
    "def read_shapefile(sf):\n",
    "    \"\"\"\n",
    "    Read a shapefile into a Pandas dataframe with a 'coords' \n",
    "    column holding the geometry information. This uses the pyshp\n",
    "    package\n",
    "    \"\"\"\n",
    "    fields = [x[0] for x in sf.fields][1:]\n",
    "    records = sf.records()\n",
    "    shps = [s.points for s in sf.shapes()]\n",
    "    df = pd.DataFrame(columns=fields, data=records)\n",
    "    df = df.assign(coords=shps)\n",
    "    return df\n",
    "\n",
    "df = read_shapefile(sf)\n",
    "df.shape"
   ]
  },
  {
   "cell_type": "code",
   "execution_count": null,
   "metadata": {},
   "outputs": [],
   "source": [
    "df.sample(5)"
   ]
  },
  {
   "cell_type": "markdown",
   "metadata": {},
   "source": [
    "# past mapping attempts"
   ]
  },
  {
   "cell_type": "code",
   "execution_count": null,
   "metadata": {},
   "outputs": [],
   "source": [
    "# Tags on map\n",
    "import contextily as ctx\n",
    "import matplotlib.pyplot as plt\n",
    "\n",
    "fig, ax = plt.subplots(figsize=(20,20))\n",
    "sf.to_crs('EPSG:3857').plot(color='r', ax=ax) # remember, 3857 is Web Mercator\n",
    "\n",
    "# let's add a basemap using the contextily library\n",
    "ctx.add_basemap(ax, zoom=12)\n",
    "\n",
    "# and we really don't need the axis ticks and labels, so we set them to an empty list\n",
    "ax.set_xticks([])\n",
    "ax.set_yticks([])"
   ]
  },
  {
   "cell_type": "code",
   "execution_count": null,
   "metadata": {},
   "outputs": [],
   "source": [
    "print(cat_frequencies.keys())"
   ]
  },
  {
   "cell_type": "code",
   "execution_count": null,
   "metadata": {},
   "outputs": [],
   "source": [
    "# Source: https://plotly.com/python/radar-chart/\n",
    "import plotly.graph_objects as go\n",
    "\n",
    "fig = go.Figure()\n",
    "\n",
    "for category in cat_frequencies:\n",
    "    # compute frequency total per park\n",
    "    park_freq_total = sum(list(category.values()))\n",
    "    r_values = [x/park_freq_total for x in list(category.values())]\n",
    "    fig.add_trace(go.Scatterpolar(\n",
    "          r=r_values, #This is a method\n",
    "          theta=list(category.keys()),\n",
    "          fill='toself',\n",
    "          name=''\n",
    "    ))\n",
    "\n",
    "fig.update_layout(\n",
    "  polar=dict(\n",
    "    radialaxis=dict(\n",
    "      visible=True,\n",
    "      range=[0, 0.8]\n",
    "    )),\n",
    "  showlegend=True\n",
    ")\n",
    "    \n",
    "fig.show()"
   ]
  },
  {
   "cell_type": "markdown",
   "metadata": {},
   "source": [
    "# Failed attempts at importing shape file"
   ]
  },
  {
   "cell_type": "code",
   "execution_count": null,
   "metadata": {},
   "outputs": [],
   "source": [
    "import geopandas as gdp \n",
    "import pandas as pd\n",
    "\n",
    "#read in csv file\n",
    "\n",
    "fn = 'ces_park_shapes.csv'\n",
    "parks_sf = pd.read_csv(fn)\n",
    "parks_sf.head()"
   ]
  },
  {
   "cell_type": "code",
   "execution_count": null,
   "metadata": {},
   "outputs": [],
   "source": [
    "f, ax = plt.subplots(1,1,figsize=(20,20))\n",
    "parks_sf.dropna(subset=['geometry'], axis=0).plot('geometry', ax=ax, cmap='plasma')\n",
    "ax.set_facecolor('k')"
   ]
  },
  {
   "cell_type": "code",
   "execution_count": null,
   "metadata": {},
   "outputs": [],
   "source": [
    "import fiona\n",
    "sjer_plot_locations = gpd.read_file('Users/morganrogers/Documents/GitHub/LaParks_NLP/ces_laparks.shp')"
   ]
  },
  {
   "cell_type": "code",
   "execution_count": null,
   "metadata": {},
   "outputs": [],
   "source": [
    "import shapefile\n",
    "\n",
    "sf = shapefile.Reader(\"shapefiles/ces_laparks.shp\")"
   ]
  },
  {
   "cell_type": "code",
   "execution_count": null,
   "metadata": {},
   "outputs": [],
   "source": [
    "import geopandas as gpd\n",
    "sf = gpd.read_file('/Users/morganrogers/Documents/GitHub/LaParks_NLP/ces_laparks.shp')"
   ]
  },
  {
   "cell_type": "code",
   "execution_count": null,
   "metadata": {},
   "outputs": [],
   "source": [
    "# import necessary packages\n",
    "import os\n",
    "import matplotlib.pyplot as plt\n",
    "import geopandas as gpd\n",
    "import earthpy as et"
   ]
  },
  {
   "cell_type": "code",
   "execution_count": null,
   "metadata": {},
   "outputs": [],
   "source": [
    "#download data\n",
    "os.chdir(os.path.join(et.io.HOME, 'ces_laparks'))"
   ]
  },
  {
   "cell_type": "markdown",
   "metadata": {},
   "source": [
    "### MacArthur Park"
   ]
  },
  {
   "cell_type": "code",
   "execution_count": null,
   "metadata": {},
   "outputs": [],
   "source": [
    "#Need to figure out how to filter by parkname and retain the tags info by photo\n",
    "macarthur = parks_data['parkname']=='macarthur'\n",
    "macarthur.head()"
   ]
  },
  {
   "cell_type": "code",
   "execution_count": null,
   "metadata": {},
   "outputs": [],
   "source": [
    "macarthur_tags = parks_data[macarthur]\n",
    "print(macarthur_tags)\n",
    "macarthur_tags.parkname.unique()"
   ]
  },
  {
   "cell_type": "code",
   "execution_count": null,
   "metadata": {},
   "outputs": [],
   "source": [
    "cols = ['tags', 'parkname']\n",
    "tag_park = macarthur_tags[cols].explode('tags', ignore_index=True)"
   ]
  },
  {
   "cell_type": "code",
   "execution_count": null,
   "metadata": {},
   "outputs": [],
   "source": [
    "#create a column with count of each tag \n",
    "tag_park['value'] = [1] * tag_park.shape[0]\n",
    "\n",
    "#return top 100 most used tags sorted by value\n",
    "top_100_tags = tag_park.groupby('tags').sum().sort_values('value', ascending=False).head(100)\n",
    "\n",
    "#so we can view all tags\n",
    "pd.set_option('display.max_rows', 100)\n",
    "\n",
    "print(top_100_tags)"
   ]
  },
  {
   "cell_type": "code",
   "execution_count": null,
   "metadata": {},
   "outputs": [],
   "source": [
    "# exporting top 100 tags to a csv for hand coding \n",
    "top_100_tags.to_csv('top_tags_macarthur.csv', index=True)"
   ]
  },
  {
   "cell_type": "markdown",
   "metadata": {},
   "source": [
    "# Analysis of spread of CES and strength of each CES - macarthur park"
   ]
  },
  {
   "cell_type": "code",
   "execution_count": null,
   "metadata": {},
   "outputs": [],
   "source": [
    "import pandas as pd\n",
    "\n",
    "# import macarthur top tags\n",
    "fn = 'top_tags_macarthur.csv'\n",
    "macarthur_tags = pd.read_csv(fn)\n",
    "macarthur_tags.head()\n",
    "\n",
    "# import CES code breakdown for macarthur park\n",
    "fn2 = 'codes_macarthur2.csv'\n",
    "macarthur_ces = pd.read_csv(fn2)\n",
    "macarthur_ces.head()"
   ]
  },
  {
   "cell_type": "code",
   "execution_count": null,
   "metadata": {},
   "outputs": [],
   "source": [
    "# replace NaNs with 0\n",
    "\n",
    "macarthur_ces.fillna(0)"
   ]
  },
  {
   "cell_type": "markdown",
   "metadata": {},
   "source": [
    "1. group by CES and count size\n",
    "2. assign to new df to visualize"
   ]
  },
  {
   "cell_type": "code",
   "execution_count": null,
   "metadata": {},
   "outputs": [],
   "source": [
    "macarthur_ces.dtypes"
   ]
  },
  {
   "cell_type": "code",
   "execution_count": null,
   "metadata": {},
   "outputs": [],
   "source": [
    "# get list of columns from the original dataframe, excluding the ones that aren't about ces\n",
    "cols = [col for col in macarthur_ces.columns if col not in ['Words']]\n",
    "\n",
    "# normalize the data by dividing each column by the total tag counts (1682)\n",
    "for col in cols:\n",
    "    macarthur_ces[col] = macarthur_ces[col].sum()\n",
    "    \n",
    "ces = macarthur_ces[cols]\n",
    "print(ces)"
   ]
  },
  {
   "cell_type": "code",
   "execution_count": null,
   "metadata": {},
   "outputs": [],
   "source": [
    "# get list of columns from the original dataframe, excluding the ones that aren't about ces\n",
    "cols = [col for col in macarthur_ces.columns if col not in ['Words']]\n",
    "\n",
    "# normalize the data by dividing each column by the total tag counts (1682)\n",
    "for col in cols:\n",
    "    macarthur_ces[col] = macarthur_ces[col].sum()\n",
    "    \n",
    "ces = macarthur_ces[cols]/1682*100\n",
    "print(ces)"
   ]
  },
  {
   "cell_type": "markdown",
   "metadata": {},
   "source": [
    "Having trouble getting overall percentage for each group --> trying a different approach"
   ]
  },
  {
   "cell_type": "code",
   "execution_count": null,
   "metadata": {},
   "outputs": [],
   "source": [
    "#drop words column\n",
    "macarthur_ces.drop(columns=['Words'])\n",
    "\n",
    "#sum of each ces\n",
    "sum_ces = macarthur_ces.sum(axis=0)\n",
    "print(sum_ces)"
   ]
  },
  {
   "cell_type": "code",
   "execution_count": null,
   "metadata": {
    "scrolled": true
   },
   "outputs": [],
   "source": [
    "# convert series to dataframe and keep index\n",
    "# https://www.geeksforgeeks.org/convert-given-pandas-series-into-a-dataframe-with-its-index-as-another-column-on-the-dataframe/\n",
    "\n",
    "cesDf = sum_ces.to_frame().reset_index()\n",
    "print(cesDf)\n",
    "list(cesDf.columns)"
   ]
  },
  {
   "cell_type": "code",
   "execution_count": null,
   "metadata": {},
   "outputs": [],
   "source": [
    "cols = [col for col in macarthur_ces.columns if col not in ['index']]\n",
    "\n",
    "ces_total = cesDf[cols]/1682*100\n",
    "print(ces_total)"
   ]
  },
  {
   "cell_type": "raw",
   "metadata": {},
   "source": [
    "# rename columns\n",
    "cesDf.columns=['ces','total']\n",
    "print(cesDf)"
   ]
  },
  {
   "cell_type": "code",
   "execution_count": null,
   "metadata": {},
   "outputs": [],
   "source": [
    "#clean up df by droping row 0 and renaming columns\n",
    "\n",
    "#drop row by index\n",
    "cesDf.drop(labels=[\"Words\"],axis=0,inplace=False)\n",
    "print(cesDf)\n"
   ]
  },
  {
   "cell_type": "code",
   "execution_count": null,
   "metadata": {},
   "outputs": [],
   "source": [
    "#divide each column by total tag counts 1682 and multiply by 100 to normalize the data\n"
   ]
  },
  {
   "cell_type": "markdown",
   "metadata": {},
   "source": [
    "### Woodley Park\n"
   ]
  },
  {
   "cell_type": "code",
   "execution_count": null,
   "metadata": {},
   "outputs": [],
   "source": []
  },
  {
   "cell_type": "code",
   "execution_count": null,
   "metadata": {},
   "outputs": [],
   "source": [
    "#Need to figure out how to filter by parkname and retain the tags info by photo\n",
    "woodley = parks_data['parkname']=='woodley'\n",
    "woodley.head()"
   ]
  },
  {
   "cell_type": "code",
   "execution_count": null,
   "metadata": {},
   "outputs": [],
   "source": [
    "woodley_tags = parks_data[woodley]\n",
    "print(woodley_tags)\n",
    "woodley_tags.parkname.unique()"
   ]
  },
  {
   "cell_type": "code",
   "execution_count": null,
   "metadata": {},
   "outputs": [],
   "source": [
    "cols = ['tags', 'parkname']\n",
    "tag_park = woodley_tags[cols].explode('tags', ignore_index=True)"
   ]
  },
  {
   "cell_type": "code",
   "execution_count": null,
   "metadata": {},
   "outputs": [],
   "source": [
    "#create a column with count of each tag \n",
    "tag_park['value'] = [1] * tag_park.shape[0]\n",
    "\n",
    "#return top 100 most used tags sorted by value\n",
    "top_100_tags = tag_park.groupby('tags').sum().sort_values('value', ascending=False).head(100)\n",
    "\n",
    "#so we can view all tags\n",
    "pd.set_option('display.max_rows', 100)\n",
    "\n",
    "print(top_100_tags)"
   ]
  },
  {
   "cell_type": "code",
   "execution_count": null,
   "metadata": {},
   "outputs": [],
   "source": [
    "# exporting top 100 tags to a csv for hand coding \n",
    "top_100_tags.to_csv('top_tags_woodley.csv', index=True)"
   ]
  },
  {
   "cell_type": "markdown",
   "metadata": {},
   "source": [
    "### Rio de Los Angeles"
   ]
  },
  {
   "cell_type": "code",
   "execution_count": null,
   "metadata": {},
   "outputs": [],
   "source": [
    "#Need to figure out how to filter by parkname and retain the tags info by photo\n",
    "riodelosangeles = parks_data['parkname']=='riodelosangeles'\n",
    "riodelosangeles.head()"
   ]
  },
  {
   "cell_type": "code",
   "execution_count": null,
   "metadata": {},
   "outputs": [],
   "source": [
    "riodelosangeles_tags = parks_data[riodelosangeles]\n",
    "print(riodelosangeles_tags)\n",
    "riodelosangeles_tags.parkname.unique()"
   ]
  },
  {
   "cell_type": "code",
   "execution_count": null,
   "metadata": {},
   "outputs": [],
   "source": [
    "cols = ['tags', 'parkname']\n",
    "tag_park = riodelosangeles_tags[cols].explode('tags', ignore_index=True)"
   ]
  },
  {
   "cell_type": "code",
   "execution_count": null,
   "metadata": {},
   "outputs": [],
   "source": [
    "#create a column with count of each tag \n",
    "tag_park['value'] = [1] * tag_park.shape[0]\n",
    "\n",
    "#return top 100 most used tags sorted by value\n",
    "top_100_tags = tag_park.groupby('tags').sum().sort_values('value', ascending=False).head(100)\n",
    "\n",
    "#so we can view all tags\n",
    "pd.set_option('display.max_rows', 100)\n",
    "\n",
    "print(top_100_tags)"
   ]
  },
  {
   "cell_type": "code",
   "execution_count": null,
   "metadata": {},
   "outputs": [],
   "source": [
    "# exporting top 100 tags to a csv for hand coding \n",
    "top_100_tags.to_csv('top_tags_riodelosangeles.csv', index=True)"
   ]
  },
  {
   "cell_type": "markdown",
   "metadata": {},
   "source": [
    "### Runyon Canyon"
   ]
  },
  {
   "cell_type": "code",
   "execution_count": null,
   "metadata": {},
   "outputs": [],
   "source": [
    "#Need to figure out how to filter by parkname and retain the tags info by photo\n",
    "runyoncanyon = parks_data['parkname']=='runyoncanyon'\n",
    "runyoncanyon.head()"
   ]
  },
  {
   "cell_type": "code",
   "execution_count": null,
   "metadata": {},
   "outputs": [],
   "source": [
    "runyoncanyon_tags = parks_data[runyoncanyon]\n",
    "print(runyoncanyon_tags)\n",
    "runyoncanyon_tags.parkname.unique()"
   ]
  },
  {
   "cell_type": "code",
   "execution_count": null,
   "metadata": {},
   "outputs": [],
   "source": [
    "cols = ['tags', 'parkname']\n",
    "tag_park = runyoncanyon_tags[cols].explode('tags', ignore_index=True)"
   ]
  },
  {
   "cell_type": "code",
   "execution_count": null,
   "metadata": {},
   "outputs": [],
   "source": [
    "#create a column with count of each tag \n",
    "tag_park['value'] = [1] * tag_park.shape[0]\n",
    "\n",
    "#return top 100 most used tags sorted by value\n",
    "top_100_tags = tag_park.groupby('tags').sum().sort_values('value', ascending=False).head(100)\n",
    "\n",
    "#so we can view all tags\n",
    "pd.set_option('display.max_rows', 100)\n",
    "\n",
    "print(top_100_tags)"
   ]
  },
  {
   "cell_type": "code",
   "execution_count": null,
   "metadata": {},
   "outputs": [],
   "source": [
    "# exporting top 100 tags to a csv for hand coding \n",
    "top_100_tags.to_csv('top_tags_runyoncanyon.csv', index=True)"
   ]
  },
  {
   "cell_type": "markdown",
   "metadata": {},
   "source": [
    "### Temescal Gateway"
   ]
  },
  {
   "cell_type": "code",
   "execution_count": null,
   "metadata": {},
   "outputs": [],
   "source": [
    "#Need to figure out how to filter by parkname and retain the tags info by photo\n",
    "temescalgateway = parks_data['parkname']=='temescalgateway'\n",
    "temescalgateway.head()"
   ]
  },
  {
   "cell_type": "code",
   "execution_count": null,
   "metadata": {},
   "outputs": [],
   "source": [
    "temescalgateway_tags = parks_data[temescalgateway]\n",
    "print(temescalgateway_tags)\n",
    "temescalgateway_tags.parkname.unique()"
   ]
  },
  {
   "cell_type": "code",
   "execution_count": null,
   "metadata": {},
   "outputs": [],
   "source": [
    "cols = ['tags', 'parkname']\n",
    "tag_park = temescalgateway_tags[cols].explode('tags', ignore_index=True)"
   ]
  },
  {
   "cell_type": "code",
   "execution_count": null,
   "metadata": {},
   "outputs": [],
   "source": [
    "#create a column with count of each tag \n",
    "tag_park['value'] = [1] * tag_park.shape[0]\n",
    "\n",
    "#return top 100 most used tags sorted by value\n",
    "top_100_tags = tag_park.groupby('tags').sum().sort_values('value', ascending=False).head(100)\n",
    "\n",
    "#so we can view all tags\n",
    "pd.set_option('display.max_rows', 100)\n",
    "\n",
    "print(top_100_tags)"
   ]
  },
  {
   "cell_type": "code",
   "execution_count": null,
   "metadata": {},
   "outputs": [],
   "source": [
    "# exporting top 100 tags to a csv for hand coding \n",
    "top_100_tags.to_csv('top_tags_temescalgateway.csv', index=True)"
   ]
  },
  {
   "cell_type": "markdown",
   "metadata": {},
   "source": [
    "### Heidelberg Park"
   ]
  },
  {
   "cell_type": "markdown",
   "metadata": {},
   "source": [
    "### Hancock Park"
   ]
  },
  {
   "cell_type": "code",
   "execution_count": null,
   "metadata": {},
   "outputs": [],
   "source": [
    "#Need to figure out how to filter by parkname and retain the tags info by photo\n",
    "hancockpark = parks_data['parkname']=='hancockpark'\n",
    "hancockpark.head()"
   ]
  },
  {
   "cell_type": "code",
   "execution_count": null,
   "metadata": {},
   "outputs": [],
   "source": [
    "hancockpark_tags = parks_data[hancockpark]\n",
    "print(hancockpark_tags)\n",
    "hancockpark_tags.parkname.unique()"
   ]
  },
  {
   "cell_type": "code",
   "execution_count": null,
   "metadata": {},
   "outputs": [],
   "source": [
    "cols = ['tags', 'parkname']\n",
    "tag_park = hancockpark_tags[cols].explode('tags', ignore_index=True)"
   ]
  },
  {
   "cell_type": "code",
   "execution_count": null,
   "metadata": {},
   "outputs": [],
   "source": [
    "#create a column with count of each tag \n",
    "tag_park['value'] = [1] * tag_park.shape[0]\n",
    "\n",
    "#return top 100 most used tags sorted by value\n",
    "top_100_tags = tag_park.groupby('tags').sum().sort_values('value', ascending=False).head(100)\n",
    "\n",
    "#so we can view all tags\n",
    "pd.set_option('display.max_rows', 100)\n",
    "\n",
    "print(top_100_tags)"
   ]
  },
  {
   "cell_type": "code",
   "execution_count": null,
   "metadata": {},
   "outputs": [],
   "source": [
    "# exporting top 100 tags to a csv for hand coding \n",
    "top_100_tags.to_csv('top_tags_hancockpark.csv', index=True)"
   ]
  },
  {
   "cell_type": "markdown",
   "metadata": {},
   "source": [
    "### Franklin Canyon Park"
   ]
  },
  {
   "cell_type": "code",
   "execution_count": null,
   "metadata": {},
   "outputs": [],
   "source": [
    "#Need to figure out how to filter by parkname and retain the tags info by photo\n",
    "franklincanyonpark = parks_data['parkname']=='franklincanyonpark'\n",
    "franklincanyonpark.head()"
   ]
  },
  {
   "cell_type": "code",
   "execution_count": null,
   "metadata": {},
   "outputs": [],
   "source": [
    "franklincanyonpark_tags = parks_data[franklincanyonpark]\n",
    "print(franklincanyonpark_tags)\n",
    "franklincanyonpark_tags.parkname.unique()"
   ]
  },
  {
   "cell_type": "code",
   "execution_count": null,
   "metadata": {},
   "outputs": [],
   "source": [
    "cols = ['tags', 'parkname']\n",
    "tag_park = franklincanyonpark_tags[cols].explode('tags', ignore_index=True)"
   ]
  },
  {
   "cell_type": "code",
   "execution_count": null,
   "metadata": {},
   "outputs": [],
   "source": [
    "#create a column with count of each tag \n",
    "tag_park['value'] = [1] * tag_park.shape[0]\n",
    "\n",
    "#return top 100 most used tags sorted by value\n",
    "top_100_tags = tag_park.groupby('tags').sum().sort_values('value', ascending=False).head(100)\n",
    "\n",
    "#so we can view all tags\n",
    "pd.set_option('display.max_rows', 100)\n",
    "\n",
    "print(top_100_tags)"
   ]
  },
  {
   "cell_type": "code",
   "execution_count": null,
   "metadata": {},
   "outputs": [],
   "source": [
    "# exporting top 100 tags to a csv for hand coding \n",
    "top_100_tags.to_csv('top_tags_franklincanyonpark.csv', index=True)"
   ]
  },
  {
   "cell_type": "markdown",
   "metadata": {},
   "source": [
    "### Angels Gate"
   ]
  },
  {
   "cell_type": "code",
   "execution_count": null,
   "metadata": {},
   "outputs": [],
   "source": [
    "#Need to figure out how to filter by parkname and retain the tags info by photo\n",
    "angelsgate = parks_data['parkname']=='angelsgate'\n",
    "angelsgate.head()"
   ]
  },
  {
   "cell_type": "code",
   "execution_count": null,
   "metadata": {},
   "outputs": [],
   "source": [
    "angelsgate_tags = parks_data[angelsgate]\n",
    "print(angelsgate_tags)\n",
    "angelsgate_tags.parkname.unique()"
   ]
  },
  {
   "cell_type": "code",
   "execution_count": null,
   "metadata": {},
   "outputs": [],
   "source": [
    "cols = ['tags', 'parkname']\n",
    "tag_park = angelsgate_tags[cols].explode('tags', ignore_index=True)"
   ]
  },
  {
   "cell_type": "code",
   "execution_count": null,
   "metadata": {},
   "outputs": [],
   "source": [
    "#create a column with count of each tag \n",
    "tag_park['value'] = [1] * tag_park.shape[0]\n",
    "\n",
    "#return top 100 most used tags sorted by value\n",
    "top_100_tags = tag_park.groupby('tags').sum().sort_values('value', ascending=False).head(100)\n",
    "\n",
    "#so we can view all tags\n",
    "pd.set_option('display.max_rows', 100)\n",
    "\n",
    "print(top_100_tags)"
   ]
  },
  {
   "cell_type": "code",
   "execution_count": null,
   "metadata": {},
   "outputs": [],
   "source": [
    "# exporting top 100 tags to a csv for hand coding \n",
    "top_100_tags.to_csv('top_tags_angelsgate.csv', index=True)"
   ]
  },
  {
   "cell_type": "markdown",
   "metadata": {},
   "source": [
    "### Coldwater Canyon"
   ]
  },
  {
   "cell_type": "code",
   "execution_count": null,
   "metadata": {},
   "outputs": [],
   "source": [
    "#Need to figure out how to filter by parkname and retain the tags info by photo\n",
    "coldwatercanyon = parks_data['parkname']=='coldwatercanyon'\n",
    "coldwatercanyon.head()"
   ]
  },
  {
   "cell_type": "code",
   "execution_count": null,
   "metadata": {},
   "outputs": [],
   "source": [
    "coldwatercanyon_tags = parks_data[coldwatercanyon]\n",
    "print(coldwatercanyon_tags)\n",
    "coldwatercanyon_tags.parkname.unique()"
   ]
  },
  {
   "cell_type": "code",
   "execution_count": null,
   "metadata": {},
   "outputs": [],
   "source": [
    "cols = ['tags', 'parkname']\n",
    "tag_park = coldwatercanyon_tags[cols].explode('tags', ignore_index=True)"
   ]
  },
  {
   "cell_type": "code",
   "execution_count": null,
   "metadata": {},
   "outputs": [],
   "source": [
    "#create a column with count of each tag \n",
    "tag_park['value'] = [1] * tag_park.shape[0]\n",
    "\n",
    "#return top 100 most used tags sorted by value\n",
    "top_100_tags = tag_park.groupby('tags').sum().sort_values('value', ascending=False).head(100)\n",
    "\n",
    "#so we can view all tags\n",
    "pd.set_option('display.max_rows', 100)\n",
    "\n",
    "print(top_100_tags)"
   ]
  },
  {
   "cell_type": "code",
   "execution_count": null,
   "metadata": {},
   "outputs": [],
   "source": [
    "# exporting top 100 tags to a csv for hand coding \n",
    "top_100_tags.to_csv('top_tags_coldwatercanyon.csv', index=True)"
   ]
  },
  {
   "cell_type": "markdown",
   "metadata": {},
   "source": [
    "### Cheviot Hills"
   ]
  },
  {
   "cell_type": "code",
   "execution_count": null,
   "metadata": {},
   "outputs": [],
   "source": [
    "#Need to figure out how to filter by parkname and retain the tags info by photo\n",
    "cheviothills = parks_data['parkname']=='cheviothills'\n",
    "cheviothills.head()"
   ]
  },
  {
   "cell_type": "code",
   "execution_count": null,
   "metadata": {},
   "outputs": [],
   "source": [
    "cheviothills_tags = parks_data[cheviothills]\n",
    "print(cheviothills_tags)\n",
    "cheviothills_tags.parkname.unique()"
   ]
  },
  {
   "cell_type": "code",
   "execution_count": null,
   "metadata": {},
   "outputs": [],
   "source": [
    "cols = ['tags', 'parkname']\n",
    "tag_park = cheviothills_tags[cols].explode('tags', ignore_index=True)"
   ]
  },
  {
   "cell_type": "code",
   "execution_count": null,
   "metadata": {},
   "outputs": [],
   "source": [
    "#create a column with count of each tag \n",
    "tag_park['value'] = [1] * tag_park.shape[0]\n",
    "\n",
    "#return top 100 most used tags sorted by value\n",
    "top_100_tags = tag_park.groupby('tags').sum().sort_values('value', ascending=False).head(100)\n",
    "\n",
    "#so we can view all tags\n",
    "pd.set_option('display.max_rows', 100)\n",
    "\n",
    "print(top_100_tags)"
   ]
  },
  {
   "cell_type": "code",
   "execution_count": null,
   "metadata": {},
   "outputs": [],
   "source": [
    "# exporting top 100 tags to a csv for hand coding \n",
    "top_100_tags.to_csv('top_tags_cheviothills.csv', index=True)"
   ]
  },
  {
   "cell_type": "markdown",
   "metadata": {},
   "source": [
    "### Chatsworth Park South"
   ]
  }
 ],
 "metadata": {
  "kernelspec": {
   "display_name": "Python 3",
   "language": "python",
   "name": "python3"
  },
  "language_info": {
   "codemirror_mode": {
    "name": "ipython",
    "version": 3
   },
   "file_extension": ".py",
   "mimetype": "text/x-python",
   "name": "python",
   "nbconvert_exporter": "python",
   "pygments_lexer": "ipython3",
   "version": "3.7.8"
  }
 },
 "nbformat": 4,
 "nbformat_minor": 4
}
