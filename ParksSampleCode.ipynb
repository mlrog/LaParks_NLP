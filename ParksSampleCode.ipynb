{
 "cells": [
  {
   "cell_type": "markdown",
   "id": "antique-marina",
   "metadata": {},
   "source": [
    "Step 1: Link to API\n",
    "Step 2: Explore one park (look at tags) - webscraping \n",
    "Step 3: NLP"
   ]
  },
  {
   "cell_type": "markdown",
   "id": "endangered-master",
   "metadata": {},
   "source": [
    "Morgan's work area"
   ]
  },
  {
   "cell_type": "code",
   "execution_count": null,
   "id": "agreed-compatibility",
   "metadata": {},
   "outputs": [],
   "source": []
  },
  {
   "cell_type": "code",
   "execution_count": null,
   "id": "spectacular-extension",
   "metadata": {},
   "outputs": [],
   "source": []
  },
  {
   "cell_type": "code",
   "execution_count": null,
   "id": "limited-category",
   "metadata": {},
   "outputs": [],
   "source": []
  },
  {
   "cell_type": "markdown",
   "id": "proprietary-regression",
   "metadata": {},
   "source": [
    "Ellie's work area"
   ]
  },
  {
   "cell_type": "code",
   "execution_count": null,
   "id": "western-conditioning",
   "metadata": {},
   "outputs": [],
   "source": []
  },
  {
   "cell_type": "code",
   "execution_count": null,
   "id": "sonic-frame",
   "metadata": {},
   "outputs": [],
   "source": []
  },
  {
   "cell_type": "code",
   "execution_count": null,
   "id": "artistic-penguin",
   "metadata": {},
   "outputs": [],
   "source": []
  },
  {
   "cell_type": "markdown",
   "id": "nutritional-broadcasting",
   "metadata": {},
   "source": [
    "Jacqueline's work area "
   ]
  },
  {
   "cell_type": "code",
   "execution_count": null,
   "id": "front-spell",
   "metadata": {},
   "outputs": [],
   "source": []
  },
  {
   "cell_type": "code",
   "execution_count": null,
   "id": "eight-portuguese",
   "metadata": {},
   "outputs": [],
   "source": []
  },
  {
   "cell_type": "code",
   "execution_count": null,
   "id": "complete-therapy",
   "metadata": {},
   "outputs": [],
   "source": []
  }
 ],
 "metadata": {
  "kernelspec": {
   "display_name": "Python 3",
   "language": "python",
   "name": "python3"
  },
  "language_info": {
   "codemirror_mode": {
    "name": "ipython",
    "version": 3
   },
   "file_extension": ".py",
   "mimetype": "text/x-python",
   "name": "python",
   "nbconvert_exporter": "python",
   "pygments_lexer": "ipython3",
   "version": "3.7.7"
  }
 },
 "nbformat": 4,
 "nbformat_minor": 5
}
