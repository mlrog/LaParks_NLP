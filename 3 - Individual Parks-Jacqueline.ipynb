{
 "cells": [
  {
   "cell_type": "markdown",
   "metadata": {},
   "source": [
    "# Notebook 3: Individual Parks"
   ]
  },
  {
   "cell_type": "markdown",
   "metadata": {},
   "source": [
    "The next step in our process was to scale down our analysis to the park level and examine CES servies offered by park. Since our methodology closely follows the Hale (2019) aricle, we needed to hand-code a select set of the tags into Hale's predefined CES buckets. To do this, we first coded the top 200 tags across all parks to get a sense of the types of services offered across all parks. The top 100 tags did not yield enough codeable tags, so we expanded that selection for a more robust sample. \n",
    "\n",
    "Tags themeselves are coded into one of the following categories (we did not cross-code, for parsimony, though we recognize that future analysis would yield more comprehensive results if tags could be cross-coded): existence, recreation, social relations, aesthetics, spritual, knowledge systems, inspiration, cultural heritage, education, sense of place, and culutral diversity. \n",
    "\n",
    "We coded parks that had at least 50 unique tags associated with that specific park. The coded parks are: MacArthur, Franklin Canyon, Hancock,Rio de Los Angeles, Runyon Canyon, Coldwater Creek, Cheviot Hills, and Angels Gate. We coded tags that fit into each of the above cateogories, but did not code tags that did not equate to a CES (i.e., nonsensical tags, vague tags, or tags for unidentifiable built infrastructure). "
   ]
  },
  {
   "cell_type": "code",
   "execution_count": 1,
   "metadata": {},
   "outputs": [],
   "source": [
    "#importing parks csv\n",
    "import pandas as pd\n",
    "\n",
    "\n"
   ]
  },
  {
   "cell_type": "code",
   "execution_count": 2,
   "metadata": {},
   "outputs": [
    {
     "data": {
      "text/html": [
       "<div>\n",
       "<style scoped>\n",
       "    .dataframe tbody tr th:only-of-type {\n",
       "        vertical-align: middle;\n",
       "    }\n",
       "\n",
       "    .dataframe tbody tr th {\n",
       "        vertical-align: top;\n",
       "    }\n",
       "\n",
       "    .dataframe thead th {\n",
       "        text-align: right;\n",
       "    }\n",
       "</style>\n",
       "<table border=\"1\" class=\"dataframe\">\n",
       "  <thead>\n",
       "    <tr style=\"text-align: right;\">\n",
       "      <th></th>\n",
       "      <th>ACCESS_TYP</th>\n",
       "      <th>PARK_NAME</th>\n",
       "      <th>ACRES</th>\n",
       "      <th>Area_HA</th>\n",
       "      <th>geometry</th>\n",
       "    </tr>\n",
       "  </thead>\n",
       "  <tbody>\n",
       "    <tr>\n",
       "      <th>0</th>\n",
       "      <td>Open Access</td>\n",
       "      <td>Cheviot Hills Park and Recreation Center</td>\n",
       "      <td>34.169</td>\n",
       "      <td>13.827699</td>\n",
       "      <td>POLYGON ((146843.465 -439567.433, 147202.288 -...</td>\n",
       "    </tr>\n",
       "    <tr>\n",
       "      <th>1</th>\n",
       "      <td>Open Access</td>\n",
       "      <td>Franklin Canyon Park</td>\n",
       "      <td>594.314</td>\n",
       "      <td>199.616109</td>\n",
       "      <td>MULTIPOLYGON (((146712.011 -433272.368, 146723...</td>\n",
       "    </tr>\n",
       "    <tr>\n",
       "      <th>2</th>\n",
       "      <td>Open Access</td>\n",
       "      <td>Angels Gate Park</td>\n",
       "      <td>70.474</td>\n",
       "      <td>28.520115</td>\n",
       "      <td>POLYGON ((158289.475 -476568.553, 158303.385 -...</td>\n",
       "    </tr>\n",
       "    <tr>\n",
       "      <th>3</th>\n",
       "      <td>Open Access</td>\n",
       "      <td>Coldwater Canyon Park</td>\n",
       "      <td>41.807</td>\n",
       "      <td>16.918901</td>\n",
       "      <td>POLYGON ((147572.303 -430391.873, 147566.046 -...</td>\n",
       "    </tr>\n",
       "    <tr>\n",
       "      <th>4</th>\n",
       "      <td>Open Access</td>\n",
       "      <td>Hancock Park</td>\n",
       "      <td>23.098</td>\n",
       "      <td>9.347420</td>\n",
       "      <td>POLYGON ((151869.126 -437840.075, 151846.907 -...</td>\n",
       "    </tr>\n",
       "    <tr>\n",
       "      <th>5</th>\n",
       "      <td>Open Access</td>\n",
       "      <td>MacArthur Park</td>\n",
       "      <td>31.716</td>\n",
       "      <td>12.834977</td>\n",
       "      <td>POLYGON ((159231.294 -438119.410, 159070.409 -...</td>\n",
       "    </tr>\n",
       "    <tr>\n",
       "      <th>6</th>\n",
       "      <td>Open Access</td>\n",
       "      <td>Runyon Canyon Park</td>\n",
       "      <td>133.203</td>\n",
       "      <td>53.905646</td>\n",
       "      <td>MULTIPOLYGON (((152208.876 -431794.069, 152175...</td>\n",
       "    </tr>\n",
       "    <tr>\n",
       "      <th>7</th>\n",
       "      <td>Open Access</td>\n",
       "      <td>Rio de Los Angeles State Park State Recreation...</td>\n",
       "      <td>54.853</td>\n",
       "      <td>22.198228</td>\n",
       "      <td>MULTIPOLYGON (((163040.145 -433874.729, 162822...</td>\n",
       "    </tr>\n",
       "  </tbody>\n",
       "</table>\n",
       "</div>"
      ],
      "text/plain": [
       "    ACCESS_TYP                                          PARK_NAME    ACRES  \\\n",
       "0  Open Access           Cheviot Hills Park and Recreation Center   34.169   \n",
       "1  Open Access                               Franklin Canyon Park  594.314   \n",
       "2  Open Access                                   Angels Gate Park   70.474   \n",
       "3  Open Access                              Coldwater Canyon Park   41.807   \n",
       "4  Open Access                                       Hancock Park   23.098   \n",
       "5  Open Access                                     MacArthur Park   31.716   \n",
       "6  Open Access                                 Runyon Canyon Park  133.203   \n",
       "7  Open Access  Rio de Los Angeles State Park State Recreation...   54.853   \n",
       "\n",
       "      Area_HA                                           geometry  \n",
       "0   13.827699  POLYGON ((146843.465 -439567.433, 147202.288 -...  \n",
       "1  199.616109  MULTIPOLYGON (((146712.011 -433272.368, 146723...  \n",
       "2   28.520115  POLYGON ((158289.475 -476568.553, 158303.385 -...  \n",
       "3   16.918901  POLYGON ((147572.303 -430391.873, 147566.046 -...  \n",
       "4    9.347420  POLYGON ((151869.126 -437840.075, 151846.907 -...  \n",
       "5   12.834977  POLYGON ((159231.294 -438119.410, 159070.409 -...  \n",
       "6   53.905646  MULTIPOLYGON (((152208.876 -431794.069, 152175...  \n",
       "7   22.198228  MULTIPOLYGON (((163040.145 -433874.729, 162822...  "
      ]
     },
     "execution_count": 2,
     "metadata": {},
     "output_type": "execute_result"
    }
   ],
   "source": [
    "#import parks shapefile\n",
    "import geopandas as gpd\n",
    "parks_shape = gpd.read_file('/Users/jacquelineadams/Documents/GitHub/LaParks_NLP_5/LaParks_NLP/ces_laparks.shp')\n",
    "\n",
    "\n",
    "#import shapefile as shp\n",
    "#/Users/morganrogers/Documents/GitHub/LaParks_NLP/ces_laparks.shp\n",
    "# opening the vector map\n",
    "#shp_path = \"/Users/jacquelineadams/Documents/GitHub/LaParks_NLP_5/ces_laparks.shp\"\n",
    "#assert os.path.exists(shp_path), \"Input file does not exist.\"\n",
    "# reading the shape file by using reader function of the shape lib\n",
    "#sf = shp.Reader(shp_path)\n",
    "\n",
    "parks_shape.head(10)"
   ]
  },
  {
   "cell_type": "code",
   "execution_count": null,
   "metadata": {},
   "outputs": [],
   "source": [
    "import nltk\n",
    "import re\n",
    "from nltk.tokenize import word_tokenize, sent_tokenize\n",
    "from nltk.corpus import stopwords\n",
    "\n",
    "swords = [re.sub(r\"[^A-z\\s]\", \"\", sword) for sword in stopwords.words('english')]\n",
    "swords += ['losangeles', 'la', 'losangelesca', 'ca', 'macarthur', 'macarthurpark', 'woodley', 'riodelosangeles', 'runyoncanyon', \n",
    "           'temescalgateway', 'heidelbergpark', 'hancockpark', 'franklincanyonpark', 'franklincanyonpark', 'angelsgate', \n",
    "           'coldwatercanyon', 'chatsworthparksouth','cheviothills', 'california', 'usa', 'southerncalifornia', 'park', 'parklabrea', \n",
    "          'unitedstates', 'america']\n",
    "\n",
    "def clean_string(text):\n",
    "    # remove punctuation\n",
    "    text = re.sub(r\"[^A-z\\s]\", \"\", text)\n",
    "    \n",
    "    cleaned_list_of_words = [word for word in word_tokenize(text.lower()) if word not in swords] #return a string or apply to all tags\n",
    "    \n",
    "    return cleaned_list_of_words\n",
    "\n",
    "#calling the function to only apply to the tags column \n",
    "parks_data['tags'] = parks_data['tags'].apply(clean_string)\n"
   ]
  },
  {
   "cell_type": "code",
   "execution_count": null,
   "metadata": {},
   "outputs": [],
   "source": [
    "parks_data\n",
    "parks_data.parkname.unique()"
   ]
  },
  {
   "cell_type": "code",
   "execution_count": null,
   "metadata": {},
   "outputs": [],
   "source": [
    "category_map = { 'Existence': ['westlake', 'lake','palmtrees','palms','elks','parkplaza','birds','palmtree', 'santamonicamountains','franklincanyonlake','losangelesmountains','mayberrylake','myerslake','grass','lake','trees','ducks','water','evergreens','frog','woods', 'ice', 'fluids','iceblocks','blocksofice','wallofice','harbor', 'sky', 'weather','tree','cloudy','garden','parks','lariver','losangelesriver','grass','mountains','canyons','hills','mountains','hill','horse','tujungawashgreenway','tujungawash','pacificocean','sky','weather','tree','cloudy'], \n",
    "                'Recreation': ['music','bikes','lilihaydn','bicycles','violin','ciclovia','loslobos','event', 'rustythedog','canine','chihuahuamix','mutt','dog','pet','weeksfordogs','urbanhiking', 'costumes', 'costume', 'cosplay', 'boomerang', 'lighthouse','westerncup','sports', 'quidditch', 'dog', 'puggle', 'puppy', 'referee', 'boat', 'nikon', 'nikond','gardentour','fish','campout','hiking','hike','sunriserunyon','sunriseinrunyon','sunriseinrunyoncanyonpark','trail','observatory','run','jog','summerolympics','westerncup','sports','quidditch','nikon','nikond','dog','puggle','puppy','referee','boat'], \n",
    "                'Social Relations': ['ciclavia','rally','protest','keepfamliestogethor','tamale','asada','alpastor','march','carnitas','eltaurino','burrito','thegreattacohunt','lasantacon','people','tacos','food','harrypotter', 'wand', 'geeks', 'geek','gardenparty','people','picnik','walkathon','earthday','zurbulon','harrypotter','wand'],\n",
    "                'Aesthetics': ['colorful','green', 'landscape','textures','texturemaps','texturemap','texture','sunset','sky','skyline','clouds','sun','weather','sunrise','pacificocean','panorama','color','overlook','sunset','viewpoint','scenicoverview','mulhollandscenicoverview','brown','barbaraafineoverlook','lasunset','green','landscape'],\n",
    "                'Spiritual': ['signs','sanity','nature','neature','harborinterfaith','outside','church','littlebrownchurchinthevalley'], \n",
    "                'Inspiration':['art','portraitsofhope','publicart', 'artonthewaterfront', 'artist', 'sculpture', 'printmaking', 'portrait', 'contemporaryart', 'painting', 'polaroid', 'draw', 'photographer', 'studioartist', 'prints','mural'],\n",
    "                'Cultural Heritage': ['landmark','monument', 'curlettandbeelman','fortmacarthur','warreinactment', 'agcc', 'angelsgateculturalcenter', 'openstudios', 'allankaprow', 'gallerya', 'artgallery', 'gallery', 'artexhibition', 'slobodandimitrov', 'culturalcenter', 'exhibition', 'downstairsgallery', 'installation', 'hillarybradfield', 'festival','parlance','sculpture','art','statue','treasuresoflosangelesarchitecture','losangelesstatehistoricpark','midcenturymodernhomes','charliechaplin','parlance'],\n",
    "                'Sense of Place': ['neighborhood','community','eccideasclub', 'sanpedro', 'neighborhood'], \n",
    "                'Cultural Diversity': ['mexican','lengua','march','immigration','czechart','lapride','westhollywoodpride','lagaypride','westhollywoodgaypride','losangelespride','losangelesgaypride','pride','gaypride'],\n",
    "                'Knowledge Systems': ['historyofsanpedropunk', 'belleepoque','lahistory','californiahistory'],\n",
    "                'Education': ['portoflosangeles', 'port','portofla','marshallastor','berth','georgecpagemuseum','museums','losangelescountymuseumofart','iceage','pleistocene','skeletons','skulls','pit','tarpits','labreatarpits','labrea','museum','pagemuseum','fossils','bones','paleontology','lacma','animalsmammoths','excavation','sabretooth','tigers','giantgroundsloths','gettyhouse','tar','sabretoothtigers','olympusem','skeleton','fossil','mammoth','mastodon','environmentaljustice','urbanparkmovement','losangelespubliclibrary'\n",
    "                             ]}\n",
    "\n",
    "# Import the csv of frequencies for each park under consideration\n",
    "fns = ['top_tags_angelsgate.csv','top_tags_cheviothills.csv','top_tags_coldwatercanyon.csv',\n",
    "       'top_tags_franklincanyonpark.csv','top_tags_hancockpark.csv','top_tags_macarthur.csv',\n",
    "       'top_tags_riodelosangeles.csv','top_tags_runyoncanyon.csv']\n",
    "parks_frequency = []\n",
    "for fn in fns: \n",
    "    parks_frequency.append(pd.read_csv(fn))\n",
    "\n",
    "#print(parks_frequency)\n",
    "\n",
    "# Create a function to loop over the categories and sum the words associated with each category  \n",
    "def getCategories(frequencyDf):\n",
    "    \n",
    "    category_frequencies = dict.fromkeys(category_map,0)\n",
    "    \n",
    "    for index, row in frequencyDf.iterrows():\n",
    "        #print(row['tags'],row['value'])\n",
    "        for category_name in category_map:\n",
    "            wordlist = category_map[category_name]\n",
    "            if row['tags'] in wordlist:\n",
    "                category_frequencies[category_name]+=row['value']\n",
    "            \n",
    "    return category_frequencies\n",
    "    \n",
    "# Create a list of dictionaries with the frequencies by category for each park\n",
    "cat_frequencies = []\n",
    "for park in parks_frequency:\n",
    "    cat_frequencies.append(getCategories(park))\n",
    "\n",
    "print(cat_frequencies)\n"
   ]
  },
  {
   "cell_type": "markdown",
   "metadata": {},
   "source": [
    "### Rio de Los Angeles"
   ]
  },
  {
   "cell_type": "code",
   "execution_count": null,
   "metadata": {},
   "outputs": [],
   "source": [
    "#Need to figure out how to filter by parkname and retain the tags info by photo\n",
    "riodelosangeles = parks_data['parkname']=='riodelosangeles'\n",
    "riodelosangeles.head()"
   ]
  },
  {
   "cell_type": "code",
   "execution_count": null,
   "metadata": {},
   "outputs": [],
   "source": [
    "riodelosangeles_tags = parks_data[riodelosangeles]\n",
    "print(riodelosangeles_tags)\n",
    "riodelosangeles_tags.parkname.unique()"
   ]
  },
  {
   "cell_type": "code",
   "execution_count": null,
   "metadata": {},
   "outputs": [],
   "source": [
    "cols = ['tags', 'parkname']\n",
    "tag_park = riodelosangeles_tags[cols].explode('tags', ignore_index=True)"
   ]
  },
  {
   "cell_type": "code",
   "execution_count": null,
   "metadata": {},
   "outputs": [],
   "source": [
    "#create a column with count of each tag \n",
    "tag_park['value'] = [1] * tag_park.shape[0]\n",
    "\n",
    "#return top 100 most used tags sorted by value\n",
    "top_100_tags = tag_park.groupby('tags').sum().sort_values('value', ascending=False).head(100)\n",
    "\n",
    "#so we can view all tags\n",
    "pd.set_option('display.max_rows', 100)\n",
    "\n",
    "print(top_100_tags)"
   ]
  },
  {
   "cell_type": "code",
   "execution_count": null,
   "metadata": {},
   "outputs": [],
   "source": [
    "# add a geometry column\n",
    "import geopandas as gpd\n",
    "riodelosangelesgdf = gpd.GeoDataFrame(\n",
    "    macarthur_photos, geometry=gpd.points_from_xy(macarthur_photos.longitude, macarthur_photos.latitude, crs='EPSG:4326'))\n"
   ]
  },
  {
   "cell_type": "code",
   "execution_count": null,
   "metadata": {},
   "outputs": [],
   "source": [
    "# Mapped tags associated with MacArthur Park\n",
    "import contextily as ctx\n",
    "import matplotlib.pyplot as plt\n",
    "fig, ax = plt.subplots(figsize=(5,10))\n",
    "macarthurgdf.to_crs('EPSG:3857').plot(color='r', ax=ax) # remember, 3857 is Web Mercator\n",
    "# let's add a basemap using the contextily library\n",
    "ctx.add_basemap(ax, zoom=12)\n",
    "# and we really don't need the axis ticks and labels, so we set them to an empty list\n",
    "ax.set_xticks([])\n",
    "ax.set_yticks([])"
   ]
  },
  {
   "cell_type": "code",
   "execution_count": null,
   "metadata": {},
   "outputs": [],
   "source": [
    "# exporting top 100 tags to a csv for hand coding \n",
    "top_100_tags.to_csv('top_tags_riodelosangeles.csv', index=True)"
   ]
  },
  {
   "cell_type": "markdown",
   "metadata": {},
   "source": [
    "### Runyon Canyon"
   ]
  },
  {
   "cell_type": "code",
   "execution_count": null,
   "metadata": {},
   "outputs": [],
   "source": [
    "#Need to figure out how to filter by parkname and retain the tags info by photo\n",
    "runyoncanyon = parks_data['parkname']=='runyoncanyon'\n",
    "runyoncanyon.head()"
   ]
  },
  {
   "cell_type": "code",
   "execution_count": null,
   "metadata": {},
   "outputs": [],
   "source": [
    "runyoncanyon_tags = parks_data[runyoncanyon]\n",
    "print(runyoncanyon_tags)\n",
    "runyoncanyon_tags.parkname.unique()"
   ]
  },
  {
   "cell_type": "code",
   "execution_count": null,
   "metadata": {},
   "outputs": [],
   "source": [
    "cols = ['tags', 'parkname']\n",
    "tag_park = runyoncanyon_tags[cols].explode('tags', ignore_index=True)"
   ]
  },
  {
   "cell_type": "code",
   "execution_count": null,
   "metadata": {},
   "outputs": [],
   "source": [
    "#create a column with count of each tag \n",
    "tag_park['value'] = [1] * tag_park.shape[0]\n",
    "\n",
    "#return top 100 most used tags sorted by value\n",
    "top_100_tags = tag_park.groupby('tags').sum().sort_values('value', ascending=False).head(100)\n",
    "\n",
    "#so we can view all tags\n",
    "pd.set_option('display.max_rows', 100)\n",
    "\n",
    "print(top_100_tags)"
   ]
  },
  {
   "cell_type": "code",
   "execution_count": null,
   "metadata": {},
   "outputs": [],
   "source": [
    "# exporting top 100 tags to a csv for hand coding \n",
    "top_100_tags.to_csv('top_tags_runyoncanyon.csv', index=True)"
   ]
  },
  {
   "cell_type": "markdown",
   "metadata": {},
   "source": [
    "### Temescal Gateway"
   ]
  },
  {
   "cell_type": "code",
   "execution_count": null,
   "metadata": {},
   "outputs": [],
   "source": [
    "#Need to figure out how to filter by parkname and retain the tags info by photo\n",
    "temescalgateway = parks_data['parkname']=='temescalgateway'\n",
    "temescalgateway.head()"
   ]
  },
  {
   "cell_type": "code",
   "execution_count": null,
   "metadata": {},
   "outputs": [],
   "source": [
    "temescalgateway_tags = parks_data[temescalgateway]\n",
    "print(temescalgateway_tags)\n",
    "temescalgateway_tags.parkname.unique()"
   ]
  },
  {
   "cell_type": "code",
   "execution_count": null,
   "metadata": {},
   "outputs": [],
   "source": [
    "cols = ['tags', 'parkname']\n",
    "tag_park = temescalgateway_tags[cols].explode('tags', ignore_index=True)"
   ]
  },
  {
   "cell_type": "code",
   "execution_count": null,
   "metadata": {},
   "outputs": [],
   "source": [
    "#create a column with count of each tag \n",
    "tag_park['value'] = [1] * tag_park.shape[0]\n",
    "\n",
    "#return top 100 most used tags sorted by value\n",
    "top_100_tags = tag_park.groupby('tags').sum().sort_values('value', ascending=False).head(100)\n",
    "\n",
    "#so we can view all tags\n",
    "pd.set_option('display.max_rows', 100)\n",
    "\n",
    "print(top_100_tags)"
   ]
  },
  {
   "cell_type": "code",
   "execution_count": null,
   "metadata": {},
   "outputs": [],
   "source": [
    "# exporting top 100 tags to a csv for hand coding \n",
    "top_100_tags.to_csv('top_tags_temescalgateway.csv', index=True)"
   ]
  },
  {
   "cell_type": "markdown",
   "metadata": {},
   "source": [
    "### Heidelberg Park"
   ]
  },
  {
   "cell_type": "markdown",
   "metadata": {},
   "source": [
    "### Hancock Park"
   ]
  },
  {
   "cell_type": "code",
   "execution_count": null,
   "metadata": {},
   "outputs": [],
   "source": [
    "#Need to figure out how to filter by parkname and retain the tags info by photo\n",
    "hancockpark = parks_data['parkname']=='hancockpark'\n",
    "hancockpark.head()"
   ]
  },
  {
   "cell_type": "code",
   "execution_count": null,
   "metadata": {},
   "outputs": [],
   "source": [
    "hancockpark_tags = parks_data[hancockpark]\n",
    "print(hancockpark_tags)\n",
    "hancockpark_tags.parkname.unique()"
   ]
  },
  {
   "cell_type": "code",
   "execution_count": null,
   "metadata": {},
   "outputs": [],
   "source": [
    "cols = ['tags', 'parkname']\n",
    "tag_park = hancockpark_tags[cols].explode('tags', ignore_index=True)"
   ]
  },
  {
   "cell_type": "code",
   "execution_count": null,
   "metadata": {},
   "outputs": [],
   "source": [
    "#create a column with count of each tag \n",
    "tag_park['value'] = [1] * tag_park.shape[0]\n",
    "\n",
    "#return top 100 most used tags sorted by value\n",
    "top_100_tags = tag_park.groupby('tags').sum().sort_values('value', ascending=False).head(100)\n",
    "\n",
    "#so we can view all tags\n",
    "pd.set_option('display.max_rows', 100)\n",
    "\n",
    "print(top_100_tags)"
   ]
  },
  {
   "cell_type": "code",
   "execution_count": null,
   "metadata": {},
   "outputs": [],
   "source": [
    "# exporting top 100 tags to a csv for hand coding \n",
    "top_100_tags.to_csv('top_tags_hancockpark.csv', index=True)"
   ]
  },
  {
   "cell_type": "markdown",
   "metadata": {},
   "source": [
    "### Franklin Canyon Park"
   ]
  },
  {
   "cell_type": "code",
   "execution_count": null,
   "metadata": {},
   "outputs": [],
   "source": [
    "#Need to figure out how to filter by parkname and retain the tags info by photo\n",
    "franklincanyonpark = parks_data['parkname']=='franklincanyonpark'\n",
    "franklincanyonpark.head()"
   ]
  },
  {
   "cell_type": "code",
   "execution_count": null,
   "metadata": {},
   "outputs": [],
   "source": [
    "franklincanyonpark_tags = parks_data[franklincanyonpark]\n",
    "print(franklincanyonpark_tags)\n",
    "franklincanyonpark_tags.parkname.unique()"
   ]
  },
  {
   "cell_type": "code",
   "execution_count": null,
   "metadata": {},
   "outputs": [],
   "source": [
    "cols = ['tags', 'parkname']\n",
    "tag_park = franklincanyonpark_tags[cols].explode('tags', ignore_index=True)"
   ]
  },
  {
   "cell_type": "code",
   "execution_count": null,
   "metadata": {},
   "outputs": [],
   "source": [
    "#create a column with count of each tag \n",
    "tag_park['value'] = [1] * tag_park.shape[0]\n",
    "\n",
    "#return top 100 most used tags sorted by value\n",
    "top_100_tags = tag_park.groupby('tags').sum().sort_values('value', ascending=False).head(100)\n",
    "\n",
    "#so we can view all tags\n",
    "pd.set_option('display.max_rows', 100)\n",
    "\n",
    "print(top_100_tags)"
   ]
  },
  {
   "cell_type": "code",
   "execution_count": null,
   "metadata": {},
   "outputs": [],
   "source": [
    "# exporting top 100 tags to a csv for hand coding \n",
    "top_100_tags.to_csv('top_tags_franklincanyonpark.csv', index=True)"
   ]
  },
  {
   "cell_type": "markdown",
   "metadata": {},
   "source": [
    "### Angels Gate"
   ]
  },
  {
   "cell_type": "code",
   "execution_count": null,
   "metadata": {},
   "outputs": [],
   "source": [
    "#Need to figure out how to filter by parkname and retain the tags info by photo\n",
    "angelsgate = parks_data['parkname']=='angelsgate'\n",
    "angelsgate.head()"
   ]
  },
  {
   "cell_type": "code",
   "execution_count": null,
   "metadata": {},
   "outputs": [],
   "source": [
    "angelsgate_tags = parks_data[angelsgate]\n",
    "print(angelsgate_tags)\n",
    "angelsgate_tags.parkname.unique()"
   ]
  },
  {
   "cell_type": "code",
   "execution_count": null,
   "metadata": {},
   "outputs": [],
   "source": [
    "cols = ['tags', 'parkname']\n",
    "tag_park = angelsgate_tags[cols].explode('tags', ignore_index=True)"
   ]
  },
  {
   "cell_type": "code",
   "execution_count": null,
   "metadata": {},
   "outputs": [],
   "source": [
    "#create a column with count of each tag \n",
    "tag_park['value'] = [1] * tag_park.shape[0]\n",
    "\n",
    "#return top 100 most used tags sorted by value\n",
    "top_100_tags = tag_park.groupby('tags').sum().sort_values('value', ascending=False).head(100)\n",
    "\n",
    "#so we can view all tags\n",
    "pd.set_option('display.max_rows', 100)\n",
    "\n",
    "print(top_100_tags)"
   ]
  },
  {
   "cell_type": "code",
   "execution_count": null,
   "metadata": {},
   "outputs": [],
   "source": [
    "# exporting top 100 tags to a csv for hand coding \n",
    "top_100_tags.to_csv('top_tags_angelsgate.csv', index=True)"
   ]
  },
  {
   "cell_type": "markdown",
   "metadata": {},
   "source": [
    "### Coldwater Canyon"
   ]
  },
  {
   "cell_type": "code",
   "execution_count": null,
   "metadata": {},
   "outputs": [],
   "source": [
    "#Need to figure out how to filter by parkname and retain the tags info by photo\n",
    "coldwatercanyon = parks_data['parkname']=='coldwatercanyon'\n",
    "coldwatercanyon.head()"
   ]
  },
  {
   "cell_type": "code",
   "execution_count": null,
   "metadata": {},
   "outputs": [],
   "source": [
    "coldwatercanyon_tags = parks_data[coldwatercanyon]\n",
    "print(coldwatercanyon_tags)\n",
    "coldwatercanyon_tags.parkname.unique()"
   ]
  },
  {
   "cell_type": "code",
   "execution_count": null,
   "metadata": {},
   "outputs": [],
   "source": [
    "cols = ['tags', 'parkname']\n",
    "tag_park = coldwatercanyon_tags[cols].explode('tags', ignore_index=True)"
   ]
  },
  {
   "cell_type": "code",
   "execution_count": null,
   "metadata": {},
   "outputs": [],
   "source": [
    "#create a column with count of each tag \n",
    "tag_park['value'] = [1] * tag_park.shape[0]\n",
    "\n",
    "#return top 100 most used tags sorted by value\n",
    "top_100_tags = tag_park.groupby('tags').sum().sort_values('value', ascending=False).head(100)\n",
    "\n",
    "#so we can view all tags\n",
    "pd.set_option('display.max_rows', 100)\n",
    "\n",
    "print(top_100_tags)"
   ]
  },
  {
   "cell_type": "code",
   "execution_count": null,
   "metadata": {},
   "outputs": [],
   "source": [
    "# exporting top 100 tags to a csv for hand coding \n",
    "top_100_tags.to_csv('top_tags_coldwatercanyon.csv', index=True)"
   ]
  },
  {
   "cell_type": "markdown",
   "metadata": {},
   "source": [
    "### Cheviot Hills"
   ]
  },
  {
   "cell_type": "code",
   "execution_count": null,
   "metadata": {},
   "outputs": [],
   "source": [
    "#Need to figure out how to filter by parkname and retain the tags info by photo\n",
    "cheviothills = parks_data['parkname']=='cheviothills'\n",
    "cheviothills.head()"
   ]
  },
  {
   "cell_type": "code",
   "execution_count": null,
   "metadata": {},
   "outputs": [],
   "source": [
    "cheviothills_tags = parks_data[cheviothills]\n",
    "print(cheviothills_tags)\n",
    "cheviothills_tags.parkname.unique()"
   ]
  },
  {
   "cell_type": "code",
   "execution_count": null,
   "metadata": {},
   "outputs": [],
   "source": [
    "cols = ['tags', 'parkname']\n",
    "tag_park = cheviothills_tags[cols].explode('tags', ignore_index=True)"
   ]
  },
  {
   "cell_type": "code",
   "execution_count": null,
   "metadata": {},
   "outputs": [],
   "source": [
    "#create a column with count of each tag \n",
    "tag_park['value'] = [1] * tag_park.shape[0]\n",
    "\n",
    "#return top 100 most used tags sorted by value\n",
    "top_100_tags = tag_park.groupby('tags').sum().sort_values('value', ascending=False).head(100)\n",
    "\n",
    "#so we can view all tags\n",
    "pd.set_option('display.max_rows', 100)\n",
    "\n",
    "print(top_100_tags)"
   ]
  },
  {
   "cell_type": "code",
   "execution_count": null,
   "metadata": {},
   "outputs": [],
   "source": [
    "# exporting top 100 tags to a csv for hand coding \n",
    "top_100_tags.to_csv('top_tags_cheviothills.csv', index=True)"
   ]
  },
  {
   "cell_type": "markdown",
   "metadata": {},
   "source": [
    "### Chatsworth Park South"
   ]
  }
 ],
 "metadata": {
  "kernelspec": {
   "display_name": "Python 3",
   "language": "python",
   "name": "python3"
  },
  "language_info": {
   "codemirror_mode": {
    "name": "ipython",
    "version": 3
   },
   "file_extension": ".py",
   "mimetype": "text/x-python",
   "name": "python",
   "nbconvert_exporter": "python",
   "pygments_lexer": "ipython3",
   "version": "3.8.8"
  }
 },
 "nbformat": 4,
 "nbformat_minor": 4
}
